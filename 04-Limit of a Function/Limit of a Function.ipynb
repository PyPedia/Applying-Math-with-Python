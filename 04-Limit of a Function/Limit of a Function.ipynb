{
 "cells": [
  {
   "cell_type": "markdown",
   "id": "376d5e97-0c21-477a-b4fa-6729b6ea5411",
   "metadata": {},
   "source": [
    "**How to Find the Limit of a Function Using SymPy in Python**\n",
    "\n",
    "- SymPy is a Python library for *symbolic mathematics*.\n",
    "- It provides a straightforward way to calculate limits.\n",
    "\n",
    "Here's a step-by-step guide with examples:"
   ]
  },
  {
   "cell_type": "markdown",
   "id": "c9e35c30-0630-40e6-bd70-b8f5a3313f1e",
   "metadata": {},
   "source": [
    "**Step 1: Install SymPy**\n",
    "\n",
    "Make sure you have SymPy installed. You can install it using pip:"
   ]
  },
  {
   "cell_type": "code",
   "execution_count": null,
   "id": "5b55e1c4-76b5-4e20-a137-1635eb03115b",
   "metadata": {},
   "outputs": [],
   "source": [
    "pip install sympy"
   ]
  },
  {
   "cell_type": "markdown",
   "id": "9e5bc49a-c99d-4455-9315-5c87c3da16f4",
   "metadata": {},
   "source": [
    "**Step 2: Import Required Modules**\n",
    "\n",
    "Start by importing the necessary functions from SymPy:"
   ]
  },
  {
   "cell_type": "code",
   "execution_count": 2,
   "id": "b3b2d75d-f0ec-4d91-8e1c-4f45b7ed5d04",
   "metadata": {},
   "outputs": [],
   "source": [
    "from sympy import symbols, limit"
   ]
  },
  {
   "cell_type": "markdown",
   "id": "cd2af5c3-28ba-4150-bd05-4b739217dd17",
   "metadata": {},
   "source": [
    "**Step 3: Define the Symbol and Function**\n",
    "\n",
    "SymPy requires *symbolic variables* to define expressions. Use the symbols function to declare a variable:"
   ]
  },
  {
   "cell_type": "code",
   "execution_count": 4,
   "id": "50f57ce7-ed54-4c2f-bb9e-dd984d83bc55",
   "metadata": {},
   "outputs": [],
   "source": [
    "x = symbols('x')"
   ]
  },
  {
   "cell_type": "markdown",
   "id": "6ba63bba-fb6e-47ae-99cd-5e3fd6c43acd",
   "metadata": {},
   "source": [
    "Define the mathematical function you want to analyze:"
   ]
  },
  {
   "cell_type": "code",
   "execution_count": 5,
   "id": "439f742e-a9db-4e32-ae20-4ed590141bc5",
   "metadata": {},
   "outputs": [],
   "source": [
    "f = (x**2 - 1) / (x - 1)"
   ]
  },
  {
   "cell_type": "markdown",
   "id": "0aab1253-d2af-4a63-be59-aabf8ef4aa2f",
   "metadata": {},
   "source": [
    "**Step 4: Calculate the Limit**"
   ]
  },
  {
   "cell_type": "code",
   "execution_count": null,
   "id": "05f87764-defc-45ae-bbf9-f11cd78108f4",
   "metadata": {},
   "outputs": [],
   "source": [
    "limit(expression, variable, point)"
   ]
  },
  {
   "cell_type": "markdown",
   "id": "0f6c4999-0100-48d2-a61b-c177fabdd6d4",
   "metadata": {},
   "source": [
    "For example, to find the limit of $$lim_{x\\to 1}f(x)=lim_{x\\to 1}\\frac{x^{2}-1}{x-1}$$"
   ]
  },
  {
   "cell_type": "code",
   "execution_count": 6,
   "id": "ceb8394f-3598-4d1e-8400-936b81a298b1",
   "metadata": {},
   "outputs": [
    {
     "name": "stdout",
     "output_type": "stream",
     "text": [
      "2\n"
     ]
    }
   ],
   "source": [
    "lim = limit(f, x, 1)\n",
    "print(lim)"
   ]
  },
  {
   "cell_type": "markdown",
   "id": "056f88b5-6084-460d-a0f8-722ea702a663",
   "metadata": {},
   "source": [
    "**Practical Example 1: Simple Limit**\n",
    "\n",
    "Find the limit: $$lim_{x\\to 0}f(x)=lim_{x\\to 0}\\frac{sin(x)}{x}$$"
   ]
  },
  {
   "cell_type": "code",
   "execution_count": 8,
   "id": "2eeda7a8-8f94-4787-8968-46c3408a243c",
   "metadata": {},
   "outputs": [
    {
     "name": "stdout",
     "output_type": "stream",
     "text": [
      "Limit as x approaches 0: 1\n"
     ]
    }
   ],
   "source": [
    "from sympy import symbols, limit, sin\n",
    "\n",
    "x = symbols('x')\n",
    "f = sin(x) / x\n",
    "lim = limit(f, x, 0)\n",
    "\n",
    "print(\"Limit as x approaches 0:\", lim)"
   ]
  },
  {
   "cell_type": "markdown",
   "id": "659fe45d-fab5-4c69-bcdf-d8da141def55",
   "metadata": {},
   "source": [
    "**Practical Example 2: One-Sided Limit**\n",
    "\n",
    "You can specify the direction of the limit:\n",
    "- dir='+': Right-hand limit\n",
    "- dir='-': Left-hand limit\n",
    "\n",
    "Find the limit: $$lim_{x\\to 0}\\frac{1}{x}$$"
   ]
  },
  {
   "cell_type": "code",
   "execution_count": 9,
   "id": "1d36c036-04fb-4bc2-b20c-1d34eeadff4c",
   "metadata": {},
   "outputs": [
    {
     "name": "stdout",
     "output_type": "stream",
     "text": [
      "Right-hand limit as x approaches 0: oo\n"
     ]
    }
   ],
   "source": [
    "f = 1 / x\n",
    "lim_right = limit(f, x, 0, dir='+')\n",
    "\n",
    "print(\"Right-hand limit as x approaches 0:\", lim_right)"
   ]
  },
  {
   "cell_type": "markdown",
   "id": "0c7322dc-0b7a-4cf6-8e5f-812e4091d8fa",
   "metadata": {},
   "source": [
    "**Practical Example 3: Infinity as the Limit Point**\n",
    "\n",
    "Find the limit: $$lim_{x\\to \\infty }\\frac{1}{x}$$"
   ]
  },
  {
   "cell_type": "code",
   "execution_count": 11,
   "id": "82d73399-e9d1-46b0-b1dc-512eb4afe5ad",
   "metadata": {},
   "outputs": [
    {
     "name": "stdout",
     "output_type": "stream",
     "text": [
      "Limit as x approaches infinity: 0\n"
     ]
    }
   ],
   "source": [
    "f = 1 / x\n",
    "lim_infinity = limit(f, x, float('inf'))\n",
    "\n",
    "print(\"Limit as x approaches infinity:\", lim_infinity)"
   ]
  },
  {
   "cell_type": "markdown",
   "id": "f077d2e2-5425-4d8e-b4f4-0f61e86c3a05",
   "metadata": {},
   "source": [
    "**Practical Example 4: Custom Function**\n",
    "\n",
    "Find the limit of $$lim_{x\\to 2}f(x)=lim_{x\\to 2}\\frac{x^{2}-4}{x-2}$$"
   ]
  },
  {
   "cell_type": "code",
   "execution_count": 13,
   "id": "e91bc78b-c912-465c-95d7-e59b4c12bba5",
   "metadata": {},
   "outputs": [
    {
     "name": "stdout",
     "output_type": "stream",
     "text": [
      "Limit as x approaches 2: 4\n"
     ]
    }
   ],
   "source": [
    "f = (x**2 - 4) / (x - 2)\n",
    "lim = limit(f, x, 2)\n",
    "\n",
    "print(\"Limit as x approaches 2:\", lim)"
   ]
  },
  {
   "cell_type": "markdown",
   "id": "b6eae521-0021-4a12-989a-c97460016b82",
   "metadata": {},
   "source": [
    "By following these steps, you can calculate limits for various functions using SymPy in Python."
   ]
  }
 ],
 "metadata": {
  "kernelspec": {
   "display_name": "Python 3 (ipykernel)",
   "language": "python",
   "name": "python3"
  },
  "language_info": {
   "codemirror_mode": {
    "name": "ipython",
    "version": 3
   },
   "file_extension": ".py",
   "mimetype": "text/x-python",
   "name": "python",
   "nbconvert_exporter": "python",
   "pygments_lexer": "ipython3",
   "version": "3.12.2"
  }
 },
 "nbformat": 4,
 "nbformat_minor": 5
}
