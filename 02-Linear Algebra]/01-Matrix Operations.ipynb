{
 "cells": [
  {
   "cell_type": "markdown",
   "id": "24b3dc75-9419-48b3-9102-e970c08dd390",
   "metadata": {},
   "source": [
    "**Step 1: Importing NumPy**\n",
    "\n",
    "Before working with matrices, you need to import NumPy."
   ]
  },
  {
   "cell_type": "code",
   "execution_count": 1,
   "id": "e67aa8a8-2a3b-4284-8bc3-32b2805b23d8",
   "metadata": {},
   "outputs": [],
   "source": [
    "import numpy as np"
   ]
  },
  {
   "cell_type": "markdown",
   "id": "4a44d57d-debd-4859-b9c8-bbc211fdb001",
   "metadata": {},
   "source": [
    "**Step 2: Creating Matrices**\n",
    "\n",
    "NumPy uses the array function to create matrices."
   ]
  },
  {
   "cell_type": "code",
   "execution_count": 2,
   "id": "7a049fc0-e02d-4c61-bf42-4025d86d97fd",
   "metadata": {},
   "outputs": [
    {
     "name": "stdout",
     "output_type": "stream",
     "text": [
      "Matrix A:\n",
      "[[1 2]\n",
      " [3 4]]\n",
      "\n",
      "Matrix B:\n",
      "[[5 6]\n",
      " [7 8]]\n"
     ]
    }
   ],
   "source": [
    "# Creating a 2x2 matrix\n",
    "matrix_a = np.array([[1, 2], [3, 4]])\n",
    "matrix_b = np.array([[5, 6], [7, 8]])\n",
    "\n",
    "print(\"Matrix A:\")\n",
    "print(matrix_a)\n",
    "\n",
    "print(\"\\nMatrix B:\")\n",
    "print(matrix_b)"
   ]
  },
  {
   "cell_type": "markdown",
   "id": "b43d39b1-578e-4bdc-800c-e0ed00d12a8a",
   "metadata": {},
   "source": [
    "**Step 3: Basic Matrix Operations**"
   ]
  },
  {
   "cell_type": "markdown",
   "id": "c7ae2904-650f-4985-8fa9-e392ee4973c8",
   "metadata": {},
   "source": [
    "***a) Addition:***"
   ]
  },
  {
   "cell_type": "code",
   "execution_count": 3,
   "id": "1fb8f2ad-c006-487e-b4d4-28bfffbea0cf",
   "metadata": {},
   "outputs": [
    {
     "name": "stdout",
     "output_type": "stream",
     "text": [
      "\n",
      "Matrix Addition:\n",
      "[[ 6  8]\n",
      " [10 12]]\n"
     ]
    }
   ],
   "source": [
    "result_add = matrix_a + matrix_b\n",
    "\n",
    "print(\"\\nMatrix Addition:\")\n",
    "print(result_add)"
   ]
  },
  {
   "cell_type": "markdown",
   "id": "a0d08ed7-5a8f-4bf5-82b4-ac9618681718",
   "metadata": {},
   "source": [
    "***b) Subtraction:***"
   ]
  },
  {
   "cell_type": "code",
   "execution_count": 4,
   "id": "90a269d6-8666-4e2b-a029-8af1f3c0d4b7",
   "metadata": {},
   "outputs": [
    {
     "name": "stdout",
     "output_type": "stream",
     "text": [
      "\n",
      "Matrix Subtraction:\n",
      "[[-4 -4]\n",
      " [-4 -4]]\n"
     ]
    }
   ],
   "source": [
    "result_sub = matrix_a - matrix_b\n",
    "\n",
    "print(\"\\nMatrix Subtraction:\")\n",
    "print(result_sub)"
   ]
  },
  {
   "cell_type": "markdown",
   "id": "5b5b1b1d-ed74-4af3-b0f1-b4d9f7551af4",
   "metadata": {},
   "source": [
    "**Step 4: Matrix Multiplication**\n",
    "\n",
    "NumPy provides two methods for matrix multiplication:\n",
    "- Element-wise Multiplication: Use the * operator.\n",
    "- Matrix Product: Use @ or np.dot."
   ]
  },
  {
   "cell_type": "code",
   "execution_count": 6,
   "id": "78f1515f-a0b2-4717-ba0f-79d7920e13be",
   "metadata": {},
   "outputs": [
    {
     "name": "stdout",
     "output_type": "stream",
     "text": [
      "\n",
      "Element-wise Multiplication:\n",
      "[[ 5 12]\n",
      " [21 32]]\n"
     ]
    }
   ],
   "source": [
    "# Element-wise multiplication\n",
    "element_wise = matrix_a * matrix_b\n",
    "\n",
    "print(\"\\nElement-wise Multiplication:\")\n",
    "print(element_wise)"
   ]
  },
  {
   "cell_type": "code",
   "execution_count": 7,
   "id": "0b802177-00ba-406d-a112-7a982fc8fffe",
   "metadata": {},
   "outputs": [
    {
     "name": "stdout",
     "output_type": "stream",
     "text": [
      "\n",
      "Matrix Product:\n",
      "[[19 22]\n",
      " [43 50]]\n"
     ]
    }
   ],
   "source": [
    "# Matrix product\n",
    "matrix_product = np.dot(matrix_a, matrix_b)\n",
    "\n",
    "print(\"\\nMatrix Product:\")\n",
    "print(matrix_product)"
   ]
  },
  {
   "cell_type": "code",
   "execution_count": 8,
   "id": "767cdea7-0db5-4f01-a675-ee031647e088",
   "metadata": {},
   "outputs": [
    {
     "name": "stdout",
     "output_type": "stream",
     "text": [
      "\n",
      "Matrix Product (using @):\n",
      "[[19 22]\n",
      " [43 50]]\n"
     ]
    }
   ],
   "source": [
    "# Alternative using @\n",
    "matrix_product_alt = matrix_a @ matrix_b\n",
    "\n",
    "print(\"\\nMatrix Product (using @):\")\n",
    "print(matrix_product_alt)"
   ]
  },
  {
   "cell_type": "markdown",
   "id": "0e0c0d29-4a9c-4473-9086-cc21f149c76b",
   "metadata": {},
   "source": [
    "**Step 5: Transpose of a Matrix**\n",
    "    \n",
    "Transpose switches rows and columns."
   ]
  },
  {
   "cell_type": "code",
   "execution_count": 9,
   "id": "4d813c87-74dc-4bcb-b2e0-05e4366c3961",
   "metadata": {},
   "outputs": [
    {
     "name": "stdout",
     "output_type": "stream",
     "text": [
      "\n",
      "Transpose of Matrix A:\n",
      "[[1 3]\n",
      " [2 4]]\n"
     ]
    }
   ],
   "source": [
    "transpose_a = matrix_a.T\n",
    "\n",
    "print(\"\\nTranspose of Matrix A:\")\n",
    "print(transpose_a)"
   ]
  },
  {
   "cell_type": "markdown",
   "id": "2fdee7da-220b-402e-8408-182762b06797",
   "metadata": {},
   "source": [
    "**Step 6: Determinant of a Matrix**\n",
    "    \n",
    "Use np.linalg.det() to find the determinant of a matrix."
   ]
  },
  {
   "cell_type": "code",
   "execution_count": 10,
   "id": "57b7dfbf-e2b0-481d-b120-08b6ab4674be",
   "metadata": {},
   "outputs": [
    {
     "name": "stdout",
     "output_type": "stream",
     "text": [
      "\n",
      "Determinant of Matrix A:\n",
      "-2.0000000000000004\n"
     ]
    }
   ],
   "source": [
    "det_a = np.linalg.det(matrix_a)\n",
    "\n",
    "print(\"\\nDeterminant of Matrix A:\")\n",
    "print(det_a)"
   ]
  },
  {
   "cell_type": "markdown",
   "id": "a875b1d4-8128-4b26-acbe-a165fc968f44",
   "metadata": {},
   "source": [
    "**Step 7: Inverse of a Matrix**\n",
    "    \n",
    "Use np.linalg.inv() to find the inverse of a matrix."
   ]
  },
  {
   "cell_type": "code",
   "execution_count": 12,
   "id": "b515e600-4dba-46ca-9fc2-167a2fe90fcf",
   "metadata": {},
   "outputs": [
    {
     "name": "stdout",
     "output_type": "stream",
     "text": [
      "\n",
      "Inverse of Matrix A:\n",
      "[[-2.   1. ]\n",
      " [ 1.5 -0.5]]\n"
     ]
    }
   ],
   "source": [
    "inverse_a = np.linalg.inv(matrix_a)\n",
    "\n",
    "print(\"\\nInverse of Matrix A:\")\n",
    "print(inverse_a)"
   ]
  },
  {
   "cell_type": "markdown",
   "id": "08141c71-b61e-4a42-b302-af2e8d749bda",
   "metadata": {},
   "source": [
    "**Step 8: Eigenvalues and Eigenvectors**\n",
    "\n",
    "Use np.linalg.eig() to find eigenvalues and eigenvectors."
   ]
  },
  {
   "cell_type": "code",
   "execution_count": 13,
   "id": "499a82da-fdf0-4d01-bc43-62d5cafd5137",
   "metadata": {},
   "outputs": [
    {
     "name": "stdout",
     "output_type": "stream",
     "text": [
      "\n",
      "Eigenvalues of Matrix A:\n",
      "[-0.37228132  5.37228132]\n",
      "\n",
      "Eigenvectors of Matrix A:\n",
      "[[-0.82456484 -0.41597356]\n",
      " [ 0.56576746 -0.90937671]]\n"
     ]
    }
   ],
   "source": [
    "eigenvalues, eigenvectors = np.linalg.eig(matrix_a)\n",
    "\n",
    "print(\"\\nEigenvalues of Matrix A:\")\n",
    "print(eigenvalues)\n",
    "\n",
    "print(\"\\nEigenvectors of Matrix A:\")\n",
    "print(eigenvectors)"
   ]
  },
  {
   "cell_type": "markdown",
   "id": "abad6769-ec12-49b2-abbd-8a498c728549",
   "metadata": {},
   "source": [
    "**Step 9: Solving Linear Equations**\n",
    "    \n",
    "Solve equations of the form Ax = B using np.linalg.solve()."
   ]
  },
  {
   "cell_type": "code",
   "execution_count": 14,
   "id": "6025ad18-b59d-498d-a60a-72f111063110",
   "metadata": {},
   "outputs": [
    {
     "name": "stdout",
     "output_type": "stream",
     "text": [
      "\n",
      "Solution to Ax = B:\n",
      "[0.  0.5]\n"
     ]
    }
   ],
   "source": [
    "B = np.array([1, 2])\n",
    "x = np.linalg.solve(matrix_a, B)\n",
    "\n",
    "print(\"\\nSolution to Ax = B:\")\n",
    "print(x)"
   ]
  }
 ],
 "metadata": {
  "kernelspec": {
   "display_name": "Python 3 (ipykernel)",
   "language": "python",
   "name": "python3"
  },
  "language_info": {
   "codemirror_mode": {
    "name": "ipython",
    "version": 3
   },
   "file_extension": ".py",
   "mimetype": "text/x-python",
   "name": "python",
   "nbconvert_exporter": "python",
   "pygments_lexer": "ipython3",
   "version": "3.12.2"
  }
 },
 "nbformat": 4,
 "nbformat_minor": 5
}
