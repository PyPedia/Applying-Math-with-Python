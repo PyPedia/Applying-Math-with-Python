{
 "cells": [
  {
   "cell_type": "markdown",
   "id": "6f91b9ed-5480-4e02-b483-8509f57998ac",
   "metadata": {},
   "source": [
    "**Understanding the Floor Function**\n",
    "\n",
    "The floor function (denoted as ⌊𝑥⌋) returns the greatest integer less than or equal to 𝑥. For instance:\n",
    "\n",
    "$$\\left\\lfloor 3.7 \\right\\rfloor=3 \\; \\; ; \\;\\; \\left\\lfloor -3.7 \\right\\rfloor=-4$$\n",
    "\n",
    "In Python, you can compute the floor function using the *math.floor()* method or *numpy.floor()* from their respective libraries.\n",
    "\n",
    "**Step 1: Import Necessary Libraries**\n",
    "\n",
    "To use the floor function in Python, first import the required libraries:"
   ]
  },
  {
   "cell_type": "code",
   "execution_count": 1,
   "id": "faab7e93-1537-4668-a296-4a145b8a896c",
   "metadata": {},
   "outputs": [],
   "source": [
    "import math\n",
    "import numpy as np"
   ]
  },
  {
   "cell_type": "markdown",
   "id": "927b22c2-fb56-40a6-90b5-b0504667985b",
   "metadata": {},
   "source": [
    "**Step 2: Using math.floor()**\n",
    "\n",
    "The *math.floor()* function works with single values:"
   ]
  },
  {
   "cell_type": "code",
   "execution_count": 2,
   "id": "d27218dc-fb32-4c48-afc0-4350a8bae373",
   "metadata": {},
   "outputs": [
    {
     "name": "stdout",
     "output_type": "stream",
     "text": [
      "3\n",
      "-3\n",
      "5\n"
     ]
    }
   ],
   "source": [
    "import math\n",
    "\n",
    "# Examples\n",
    "print(math.floor(3.7))   # Output: 3\n",
    "print(math.floor(-2.3))  # Output: -3\n",
    "print(math.floor(5.0))   # Output: 5"
   ]
  },
  {
   "cell_type": "markdown",
   "id": "c2786ec9-0423-4b64-bed4-bfc0576963ae",
   "metadata": {},
   "source": [
    "**Step 3: Using numpy.floor()**\n",
    "\n",
    "The *numpy.floor()* function is particularly useful for arrays or lists:"
   ]
  },
  {
   "cell_type": "code",
   "execution_count": 3,
   "id": "65c60f9e-f417-4a5a-b759-5c87958b584e",
   "metadata": {},
   "outputs": [
    {
     "name": "stdout",
     "output_type": "stream",
     "text": [
      "[ 3. -3.  5.  0. -1.]\n"
     ]
    }
   ],
   "source": [
    "import numpy as np\n",
    "\n",
    "# Examples\n",
    "arr = [3.7, -2.3, 5.0, 0.8, -0.5]\n",
    "result = np.floor(arr)\n",
    "\n",
    "print(result)  # Output: [ 3. -3.  5.  0. -1.]"
   ]
  },
  {
   "cell_type": "markdown",
   "id": "50788fff-fc9f-476f-bbbf-e96897c4521d",
   "metadata": {},
   "source": [
    "**Step 4: Floor Function in List Comprehension**\n",
    "\n",
    "To apply the floor function to a list without using NumPy:"
   ]
  },
  {
   "cell_type": "code",
   "execution_count": 4,
   "id": "d826c915-d2eb-4417-978a-e182dc5c151d",
   "metadata": {},
   "outputs": [
    {
     "name": "stdout",
     "output_type": "stream",
     "text": [
      "[3, -3, 5, 0, -1]\n"
     ]
    }
   ],
   "source": [
    "numbers = [3.7, -2.3, 5.0, 0.8, -0.5]\n",
    "floored_numbers = [math.floor(num) for num in numbers]\n",
    "\n",
    "print(floored_numbers)  # Output: [3, -3, 5, 0, -1]"
   ]
  },
  {
   "cell_type": "markdown",
   "id": "d7306557-b609-425f-ba22-7176568302b9",
   "metadata": {},
   "source": [
    "**Step 5: Plotting the Floor Function**\n",
    "    \n",
    "To visualize the floor function, use Matplotlib:"
   ]
  },
  {
   "cell_type": "code",
   "execution_count": 5,
   "id": "9d3a99f0-d042-4849-837e-5517a4c576ed",
   "metadata": {},
   "outputs": [
    {
     "data": {
      "image/png": "[encoded data removed]",
      "text/plain": [
       "<Figure size 800x500 with 1 Axes>"
      ]
     },
     "metadata": {},
     "output_type": "display_data"
    }
   ],
   "source": [
    "import matplotlib.pyplot as plt\n",
    "import numpy as np\n",
    "\n",
    "# Generate x values\n",
    "x = np.linspace(-5, 5, 500)  # 500 points between -5 and 5\n",
    "y = np.floor(x)\n",
    "\n",
    "# Plot the floor function\n",
    "plt.figure(figsize=(8, 5))\n",
    "plt.plot(x, y, label=\"Floor Function (⌊x⌋)\", color=\"blue\")\n",
    "plt.title(\"Graph of the Floor Function\")\n",
    "plt.xlabel(\"x\")\n",
    "plt.ylabel(\"⌊x⌋\")\n",
    "plt.axhline(0, color=\"black\", linewidth=0.5, linestyle=\"--\")\n",
    "plt.axvline(0, color=\"black\", linewidth=0.5, linestyle=\"--\")\n",
    "plt.grid(alpha=0.5)\n",
    "plt.legend()\n",
    "plt.show()"
   ]
  },
  {
   "cell_type": "markdown",
   "id": "f4ac9024-1ae0-4031-bf3c-3e8a806994cb",
   "metadata": {},
   "source": [
    "**Step 6: Limit of the Floor Function**\n",
    "\n",
    "The floor function ⌊𝑥⌋ is discontinuous at all integer points, which affects its limits.\n",
    "\n",
    "***Left-Hand and Right-Hand Limits***\n",
    "\n",
    "* For any integer 𝑛:\n",
    "$$\\lim_{x \\to n^{-}}=n-1$$\n",
    "* The left-hand limit at n:\n",
    "$$\\lim_{x \\to n^{+}}=n$$"
   ]
  },
  {
   "cell_type": "markdown",
   "id": "68d8b791-8bd9-42a1-9650-c9c37b0bce8c",
   "metadata": {},
   "source": [
    "Since these two limits are not equal, ⌊𝑥⌋ is *not continuous* at integer points."
   ]
  },
  {
   "cell_type": "code",
   "execution_count": 6,
   "id": "d68b2688-d3ed-44f7-85c4-0cca271625e5",
   "metadata": {},
   "outputs": [
    {
     "name": "stdout",
     "output_type": "stream",
     "text": [
      "Left-hand limit at x=2: 1\n",
      "Right-hand limit at x=2: 2\n"
     ]
    }
   ],
   "source": [
    "from sympy import floor, limit, Symbol, S\n",
    "\n",
    "x = Symbol('x')\n",
    "\n",
    "# Left-hand limit as x approaches 2\n",
    "left_limit = limit(floor(x), x, 2, dir='-')\n",
    "print(\"Left-hand limit at x=2:\", left_limit)\n",
    "\n",
    "# Right-hand limit as x approaches 2\n",
    "right_limit = limit(floor(x), x, 2, dir='+')\n",
    "print(\"Right-hand limit at x=2:\", right_limit)"
   ]
  },
  {
   "cell_type": "markdown",
   "id": "cefc8e7f-821f-454e-ac1d-f4f4ee7e55b3",
   "metadata": {},
   "source": [
    "**Step 7: Derivative of the Floor Function**\n",
    "\n",
    "The floor function is not differentiable at integer points because of the discontinuities. However, between two integers 𝑛 and 𝑛+1, the derivative is:\n",
    "\n",
    "$$\\frac{d \\left\\lfloor x \\right\\rfloor}{dx}=0$$\n",
    "\n",
    "since the function is constant on intervals [𝑛,𝑛+1).\n",
    "\n",
    "***Python Example for Derivative:***"
   ]
  },
  {
   "cell_type": "code",
   "execution_count": 7,
   "id": "6ba06494-a2a5-4ad3-b41f-f602a65cd0ec",
   "metadata": {},
   "outputs": [
    {
     "name": "stdout",
     "output_type": "stream",
     "text": [
      "Derivative of floor(x): Derivative(floor(x), x)\n"
     ]
    }
   ],
   "source": [
    "from sympy import diff\n",
    "\n",
    "# Derivative of the floor function\n",
    "derivative = diff(floor(x), x)\n",
    "print(\"Derivative of floor(x):\", derivative)"
   ]
  },
  {
   "cell_type": "markdown",
   "id": "30eecafb-667c-4d37-98d9-bd40ca5468d8",
   "metadata": {},
   "source": [
    "**Step 8: Integral of the Floor Function**\n",
    "\n",
    "The integral of ⌊𝑥⌋ over an interval [𝑎,𝑏] can be computed as the sum of areas under the function’s step-like graph.\n",
    "\n",
    "For an interval [𝑛,𝑛+1], where 𝑛 is an integer:\n",
    "\n",
    "$$\\int_{a}^{b}\\left\\lfloor x \\right\\rfloor dx=Sum \\; of \\; rectangles \\; from \\; (a) \\; to \\; (b)$$\n",
    "\n",
    "Example Calculation:\n",
    "\n",
    "$$\\int_{0}^{3}\\left\\lfloor x \\right\\rfloor dx=\\int_{0}^{1}\\left\\lfloor x \\right\\rfloor dx+\\int_{1}^{2}\\left\\lfloor x \\right\\rfloor dx+\\int_{2}^{3}\\left\\lfloor x \\right\\rfloor dx=1+2+3=6$$"
   ]
  }
 ],
 "metadata": {
  "kernelspec": {
   "display_name": "Python 3 (ipykernel)",
   "language": "python",
   "name": "python3"
  },
  "language_info": {
   "codemirror_mode": {
    "name": "ipython",
    "version": 3
   },
   "file_extension": ".py",
   "mimetype": "text/x-python",
   "name": "python",
   "nbconvert_exporter": "python",
   "pygments_lexer": "ipython3",
   "version": "3.12.2"
  }
 },
 "nbformat": 4,
 "nbformat_minor": 5
}
