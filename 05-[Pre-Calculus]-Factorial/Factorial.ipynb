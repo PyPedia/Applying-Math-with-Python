{
 "cells": [
  {
   "cell_type": "markdown",
   "id": "6cbe406d-459b-4c9d-8f22-e9665a3d537e",
   "metadata": {},
   "source": [
    "**Understanding Factorial Step by Step**\n",
    "\n",
    "The factorial of a number is the product of all positive integers from 1 to that number. It is represented by n! (read as \"n factorial\").\n",
    "\n",
    "**Step 1: Definition of Factorial**\n",
    "\n",
    "For any positive integer 𝑛, the factorial is defined as:\n",
    "\n",
    "$$n!=n\\times (n-1)\\times (n-2)\\times 2\\times 1$$\n",
    "\n",
    "For example:\n",
    "\n",
    "$$5!=5\\times 4\\times 3\\times 2\\times 1=120$$\n",
    "\n",
    "**Step 2: Special Case for 0!**\n",
    "\n",
    "By definition, 0! = 1. This is an important rule in mathematics.\n",
    "\n",
    "**Step 3: Implementing Factorial in Python**\n",
    "\n",
    "We can compute factorial in Python using different methods:\n",
    "\n",
    "***Method 1: Iterative Approach***"
   ]
  },
  {
   "cell_type": "code",
   "execution_count": 1,
   "id": "1b51d3ef-c3c4-4964-9def-28f0b612ebce",
   "metadata": {},
   "outputs": [
    {
     "name": "stdout",
     "output_type": "stream",
     "text": [
      "120\n"
     ]
    }
   ],
   "source": [
    "def factorial_iterative(n):\n",
    "    result = 1\n",
    "    for i in range(1, n + 1):\n",
    "        result *= i\n",
    "    return result\n",
    "\n",
    "print(factorial_iterative(5))  # Output: 120"
   ]
  },
  {
   "cell_type": "markdown",
   "id": "a34d01ed-e0b8-4b30-aae3-6c0d9c803f25",
   "metadata": {},
   "source": [
    "***Method 2: Recursive Approach***"
   ]
  },
  {
   "cell_type": "code",
   "execution_count": 2,
   "id": "4b47295a-3c19-4116-ba74-068411700432",
   "metadata": {},
   "outputs": [
    {
     "name": "stdout",
     "output_type": "stream",
     "text": [
      "120\n"
     ]
    }
   ],
   "source": [
    "def factorial_recursive(n):\n",
    "    if n == 0:\n",
    "        return 1\n",
    "    return n * factorial_recursive(n - 1)\n",
    "\n",
    "print(factorial_recursive(5))  # Output: 120"
   ]
  },
  {
   "cell_type": "markdown",
   "id": "6aa9c8c4-8cc1-41fd-b610-9bd69f2ec9ea",
   "metadata": {},
   "source": [
    "***Method 3: Using math.factorial***"
   ]
  },
  {
   "cell_type": "code",
   "execution_count": 3,
   "id": "5d0e169d-3a93-4ba5-a3b2-b61fd7a78030",
   "metadata": {},
   "outputs": [
    {
     "name": "stdout",
     "output_type": "stream",
     "text": [
      "120\n"
     ]
    }
   ],
   "source": [
    "import math\n",
    "print(math.factorial(5))  # Output: 120"
   ]
  }
 ],
 "metadata": {
  "kernelspec": {
   "display_name": "Python 3 (ipykernel)",
   "language": "python",
   "name": "python3"
  },
  "language_info": {
   "codemirror_mode": {
    "name": "ipython",
    "version": 3
   },
   "file_extension": ".py",
   "mimetype": "text/x-python",
   "name": "python",
   "nbconvert_exporter": "python",
   "pygments_lexer": "ipython3",
   "version": "3.12.2"
  }
 },
 "nbformat": 4,
 "nbformat_minor": 5
}
