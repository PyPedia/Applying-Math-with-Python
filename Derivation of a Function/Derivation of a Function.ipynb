{
 "cells": [
  {
   "cell_type": "markdown",
   "id": "2e7ddc41-80af-4b70-b882-4698071acd94",
   "metadata": {},
   "source": [
    "**How to Find the Derivative of a Function Using SymPy in Python**\n",
    "\n",
    "SymPy makes it easy to compute derivatives of mathematical functions symbolically. Here's a step-by-step guide with practical examples."
   ]
  },
  {
   "cell_type": "markdown",
   "id": "e16266c8-2a15-4306-8a19-bbaa08255c4d",
   "metadata": {},
   "source": [
    "**Step 1: Install SymPy**\n",
    "\n",
    "Ensure you have SymPy installed. Use pip if needed:"
   ]
  },
  {
   "cell_type": "code",
   "execution_count": null,
   "id": "54556bc3-11b2-4668-9826-3ba2d9f828c5",
   "metadata": {},
   "outputs": [],
   "source": [
    "pip install sympy"
   ]
  },
  {
   "cell_type": "markdown",
   "id": "2bfcbbc8-5761-4ad2-a003-85d43beba3e2",
   "metadata": {},
   "source": [
    "**Step 2: Import Required Modules**\n",
    "\n",
    "Start by importing the necessary components:"
   ]
  },
  {
   "cell_type": "code",
   "execution_count": 2,
   "id": "6a6114bc-fd62-4051-8478-e4583fb5b022",
   "metadata": {},
   "outputs": [],
   "source": [
    "from sympy import symbols, diff"
   ]
  },
  {
   "cell_type": "markdown",
   "id": "ec5370f0-1635-4565-868a-de6b74510a52",
   "metadata": {},
   "source": [
    "**Step 3: Define the Symbol and Function**\n",
    "\n",
    "Define a symbolic variable using symbols and the function to differentiate:"
   ]
  },
  {
   "cell_type": "code",
   "execution_count": 3,
   "id": "549e62cd-020e-4685-90cf-5135c3df24a0",
   "metadata": {},
   "outputs": [],
   "source": [
    "x = symbols('x')  # Define x as a symbolic variable\n",
    "f = x**2 + 3*x + 5  # Define the function"
   ]
  },
  {
   "cell_type": "markdown",
   "id": "67a57cdc-04ca-404c-b2c2-ca32a39918c6",
   "metadata": {},
   "source": [
    "**Step 4: Compute the Derivative**\n",
    "\n",
    "Use the diff function to compute the derivative. The syntax is:"
   ]
  },
  {
   "cell_type": "code",
   "execution_count": null,
   "id": "2a905776-cbaf-45ef-9fad-639b826a0abd",
   "metadata": {},
   "outputs": [],
   "source": [
    "diff(expression, variable)"
   ]
  },
  {
   "cell_type": "markdown",
   "id": "8bd0189d-53aa-41f1-afdd-c6632d3bf418",
   "metadata": {},
   "source": [
    "For example:"
   ]
  },
  {
   "cell_type": "code",
   "execution_count": 4,
   "id": "1e28c996-d2c8-4a79-9d57-2b4870643186",
   "metadata": {},
   "outputs": [
    {
     "name": "stdout",
     "output_type": "stream",
     "text": [
      "2*x + 3\n"
     ]
    }
   ],
   "source": [
    "derivative = diff(f, x)\n",
    "print(derivative)"
   ]
  },
  {
   "cell_type": "markdown",
   "id": "5565b7ea-ba80-4f71-9538-d62be4f72f8c",
   "metadata": {},
   "source": [
    "**Practical Examples**"
   ]
  },
  {
   "cell_type": "markdown",
   "id": "3c3e9663-03a0-4100-9249-5671cba08c3b",
   "metadata": {},
   "source": [
    "**Example 1: Basic Derivative**\n",
    "\n",
    "Problem: Find the derivative of $$ f(x)=x^3+2x^2+x+1 $$"
   ]
  },
  {
   "cell_type": "code",
   "execution_count": 6,
   "id": "d07a8b32-f958-4cdf-a0e6-58878bdc28ea",
   "metadata": {},
   "outputs": [
    {
     "name": "stdout",
     "output_type": "stream",
     "text": [
      "Derivative: 3*x**2 + 4*x + 1\n"
     ]
    }
   ],
   "source": [
    "from sympy import symbols, diff\n",
    "\n",
    "x = symbols('x')\n",
    "f = x**3 + 2*x**2 + x + 1\n",
    "derivative = diff(f, x)\n",
    "\n",
    "print(\"Derivative:\", derivative)"
   ]
  },
  {
   "cell_type": "markdown",
   "id": "e1c5d009-1d70-487a-9380-fecf8a0851b0",
   "metadata": {},
   "source": [
    "**Example 2: Higher-Order Derivative**\n",
    "    \n",
    "SymPy allows you to compute higher-order derivatives by specifying the order:"
   ]
  },
  {
   "cell_type": "code",
   "execution_count": null,
   "id": "1485cc4b-c8fa-41c1-a921-47ced683c0ad",
   "metadata": {},
   "outputs": [],
   "source": [
    "diff(expression, variable, order)"
   ]
  },
  {
   "cell_type": "markdown",
   "id": "23686312-7194-4e13-a3d5-4a64fbc1093a",
   "metadata": {},
   "source": [
    "Problem: Find the second derivative of $$ f(x)=x^4+3x^3-5x^2+7 $$"
   ]
  },
  {
   "cell_type": "code",
   "execution_count": 8,
   "id": "a955742b-b3e3-4033-bbe7-eb72916035f4",
   "metadata": {},
   "outputs": [
    {
     "name": "stdout",
     "output_type": "stream",
     "text": [
      "Second Derivative: 2*(6*x**2 + 9*x - 5)\n"
     ]
    }
   ],
   "source": [
    "f = x**4 + 3*x**3 - 5*x**2 + 7\n",
    "second_derivative = diff(f, x, 2)\n",
    "\n",
    "print(\"Second Derivative:\", second_derivative)"
   ]
  },
  {
   "cell_type": "markdown",
   "id": "3f6e45f5-d5db-43df-9ced-41073f60860e",
   "metadata": {},
   "source": [
    "**Example 3: Partial Derivative**\n",
    "\n",
    "For functions of multiple variables, use *diff* to compute partial derivatives."
   ]
  },
  {
   "cell_type": "markdown",
   "id": "1e9295b5-8a98-4fd4-9d13-294e14cddf07",
   "metadata": {},
   "source": [
    "Problem: Find $$ \\frac{\\partial }{\\partial x}f(x,y)=x^{2}y+y^{3} $$"
   ]
  },
  {
   "cell_type": "code",
   "execution_count": 10,
   "id": "4e5c0931-838b-4230-963b-3631b6c54d2c",
   "metadata": {},
   "outputs": [
    {
     "name": "stdout",
     "output_type": "stream",
     "text": [
      "Partial Derivative with respect to x: 2*x*y\n"
     ]
    }
   ],
   "source": [
    "y = symbols('y')  # Define another symbolic variable\n",
    "f = x**2 * y + y**3\n",
    "partial_derivative = diff(f, x)\n",
    "\n",
    "print(\"Partial Derivative with respect to x:\", partial_derivative)"
   ]
  },
  {
   "cell_type": "markdown",
   "id": "b3799e01-7b5a-4acf-a644-36eb466ff92a",
   "metadata": {},
   "source": [
    "**Example 4: Derivative at a Point**\n",
    "    \n",
    "You can evaluate the derivative at a specific point using .subs()."
   ]
  },
  {
   "cell_type": "markdown",
   "id": "70e559b4-edb1-42a0-81fc-5e15493d3993",
   "metadata": {},
   "source": [
    "Problem: Find the derivative of $$ f(x)=x^2+3x+5$$    at x=2."
   ]
  },
  {
   "cell_type": "code",
   "execution_count": 11,
   "id": "482537b6-d588-4312-9914-8deaedcf79c0",
   "metadata": {},
   "outputs": [
    {
     "name": "stdout",
     "output_type": "stream",
     "text": [
      "Derivative at x=2: 7\n"
     ]
    }
   ],
   "source": [
    "f = x**2 + 3*x + 5\n",
    "derivative = diff(f, x)\n",
    "value_at_point = derivative.subs(x, 2)\n",
    "\n",
    "print(\"Derivative at x=2:\", value_at_point)"
   ]
  },
  {
   "cell_type": "markdown",
   "id": "70b8313c-c439-4ac0-88d7-f72d8d983a15",
   "metadata": {},
   "source": [
    "**Example 5: Multiple Derivatives for Multi-Variable Functions**"
   ]
  },
  {
   "cell_type": "markdown",
   "id": "6f916f24-eafa-4f72-a952-ed7e4eeccfea",
   "metadata": {},
   "source": [
    "Problem: Find $$ \\frac{\\partial^{2} }{\\partial x\\partial x}f(x,y)=x^{2}y^{2}+xy+1 $$"
   ]
  },
  {
   "cell_type": "code",
   "execution_count": 12,
   "id": "ecad3615-c3ca-4f4b-801c-e170d67956f9",
   "metadata": {},
   "outputs": [
    {
     "name": "stdout",
     "output_type": "stream",
     "text": [
      "Mixed Partial Derivative: 4*x*y + 1\n"
     ]
    }
   ],
   "source": [
    "f = x**2 * y**2 + x * y + 1\n",
    "mixed_derivative = diff(f, x, y)\n",
    "\n",
    "print(\"Mixed Partial Derivative:\", mixed_derivative)"
   ]
  },
  {
   "cell_type": "markdown",
   "id": "a73a1b53-b8c7-4564-9d59-efa19e9ce19b",
   "metadata": {},
   "source": [
    "**Summary of Key Functions**\n",
    "\n",
    "- *diff(expression, variable)*: First derivative.\n",
    "- *diff(expression, variable, order)*: Higher-order derivatives.\n",
    "- *diff(expression, variable1, variable2, ...)*: Mixed partial derivatives."
   ]
  }
 ],
 "metadata": {
  "kernelspec": {
   "display_name": "Python 3 (ipykernel)",
   "language": "python",
   "name": "python3"
  },
  "language_info": {
   "codemirror_mode": {
    "name": "ipython",
    "version": 3
   },
   "file_extension": ".py",
   "mimetype": "text/x-python",
   "name": "python",
   "nbconvert_exporter": "python",
   "pygments_lexer": "ipython3",
   "version": "3.12.2"
  }
 },
 "nbformat": 4,
 "nbformat_minor": 5
}
