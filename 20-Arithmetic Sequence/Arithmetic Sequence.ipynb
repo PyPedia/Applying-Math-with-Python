{
 "cells": [
  {
   "cell_type": "markdown",
   "id": "1e4142a1-8041-461b-af75-583fa717f10f",
   "metadata": {},
   "source": [
    "**1. Definition of Arithmetic Sequence**\n",
    "\n",
    "An arithmetic sequence (or arithmetic progression) is a sequence of numbers in which the difference between consecutive terms is constant. This constant is called the **common difference** and is usually denoted by 𝑑.\n",
    "\n",
    "***Example:***\n",
    "\n",
    "The sequence 2,5,8,11,14,… has a common difference 𝑑=3.\n",
    "\n",
    "**2. General Form of an Arithmetic Sequence**\n",
    "\n",
    "The 𝑛-th term of an arithmetic sequence can be found using the formula:\n",
    "\n",
    "$$a_{n}=a_{1}+(n-1)d$$\n",
    "\n",
    "Where:\n",
    "\n",
    "* 𝑎<sub>𝑛</sub>=𝑛-th term \n",
    "* 𝑎<sub>1</sub>= the first term\n",
    "* 𝑑= common difference\n",
    "* 𝑛= position of the term in the sequence\n",
    "\n",
    "***Example:***\n",
    "\n",
    "For the sequence 2,5,8,11,…:\n",
    "\n",
    "* a<sub>1</sub>=2\n",
    "* 𝑑=3\n",
    "\n",
    "To find the 4th term (𝑎<sub>4</sub>):\n",
    "\n",
    "$$a_{4}=a_{1}+(4-1)d=2+(3\\times 3)=11$$\n",
    "\n",
    "**3. Sum of the First 𝑛 Terms**\n",
    "\n",
    "The sum of the first 𝑛 terms (𝑆<sub>𝑛</sub>) is given by:\n",
    "\n",
    "$$S_{n}=\\frac{n}{2}(a_{1}+a_{n})$$\n",
    "\n",
    "Or equivalently:\n",
    "\n",
    "$$S_{n}=\\frac{n}{2}(2a_{1}+(n-1)d)$$\n",
    "\n",
    "**4. Key Points to Remember**\n",
    "\n",
    "* The sequence grows (or decreases) by 𝑑 in every step.\n",
    "* 𝑑 can be positive, negative, or zero.\n",
    "* The sum formula helps in finding the total of multiple terms efficiently.\n",
    "\n",
    "**Python Code**\n",
    "\n",
    "Here's a Python code snippet that calculates the 𝑛-th term and the sum of the first 𝑛 terms of an arithmetic sequence:"
   ]
  },
  {
   "cell_type": "code",
   "execution_count": 1,
   "id": "a2d01b9c-1a4a-4826-ae4e-f5eea18f0b73",
   "metadata": {},
   "outputs": [
    {
     "name": "stdout",
     "output_type": "stream",
     "text": [
      "The 5-th term is: 14\n",
      "The sum of the first 5 terms is: 40.0\n"
     ]
    }
   ],
   "source": [
    "def arithmetic_sequence(a1, d, n):\n",
    "    \"\"\"\n",
    "    Calculate the n-th term and the sum of the first n terms of an arithmetic sequence.\n",
    "\n",
    "    Parameters:\n",
    "    a1 (float): The first term of the sequence\n",
    "    d (float): The common difference\n",
    "    n (int): The number of terms\n",
    "\n",
    "    Returns:\n",
    "    tuple: The n-th term and the sum of the first n terms\n",
    "    \"\"\"\n",
    "    # Calculate the n-th term\n",
    "    an = a1 + (n - 1) * d\n",
    "    \n",
    "    # Calculate the sum of the first n terms\n",
    "    Sn = n / 2 * (2 * a1 + (n - 1) * d)\n",
    "    \n",
    "    return an, Sn\n",
    "\n",
    "# Example usage\n",
    "a1 = 2  # First term\n",
    "d = 3   # Common difference\n",
    "n = 5   # Number of terms\n",
    "\n",
    "nth_term, sum_of_terms = arithmetic_sequence(a1, d, n)\n",
    "\n",
    "print(f\"The {n}-th term is: {nth_term}\")\n",
    "print(f\"The sum of the first {n} terms is: {sum_of_terms}\")"
   ]
  }
 ],
 "metadata": {
  "kernelspec": {
   "display_name": "Python 3 (ipykernel)",
   "language": "python",
   "name": "python3"
  },
  "language_info": {
   "codemirror_mode": {
    "name": "ipython",
    "version": 3
   },
   "file_extension": ".py",
   "mimetype": "text/x-python",
   "name": "python",
   "nbconvert_exporter": "python",
   "pygments_lexer": "ipython3",
   "version": "3.12.2"
  }
 },
 "nbformat": 4,
 "nbformat_minor": 5
}
