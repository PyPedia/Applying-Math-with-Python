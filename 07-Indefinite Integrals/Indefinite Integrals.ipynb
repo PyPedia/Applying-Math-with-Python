{
 "cells": [
  {
   "cell_type": "markdown",
   "id": "02e62b21-affc-4f68-b757-2c2052078e3e",
   "metadata": {},
   "source": [
    "**Step 1: Install SymPy**\n",
    "\n",
    "If you haven't already installed SymPy, you can do so using pip:"
   ]
  },
  {
   "cell_type": "code",
   "execution_count": null,
   "id": "7a23214b-d84d-45d9-8f2f-40d155908d44",
   "metadata": {},
   "outputs": [],
   "source": [
    "pip install sympy"
   ]
  },
  {
   "cell_type": "markdown",
   "id": "166f0a9b-7a5c-451a-9be6-b8f96599b0cf",
   "metadata": {},
   "source": [
    "**Step 2: Import SymPy and Define Symbols**\n",
    "\n",
    "Start by importing sympy and defining the variable (or variables) used in your functions."
   ]
  },
  {
   "cell_type": "code",
   "execution_count": 1,
   "id": "dd15d0ab-2e1b-4a0a-a224-9451df37825f",
   "metadata": {},
   "outputs": [],
   "source": [
    "from sympy import symbols, integrate\n",
    "\n",
    "# Define the variable\n",
    "x = symbols('x')"
   ]
  },
  {
   "cell_type": "markdown",
   "id": "225ae5b5-ab9a-46a9-b43a-c9e5fe6d0e18",
   "metadata": {},
   "source": [
    "**Step 3: Compute Basic Indefinite Integrals**\n",
    "\n",
    "The integrate function from SymPy computes the integral of an expression. By default, it computes the indefinite integral."
   ]
  },
  {
   "cell_type": "markdown",
   "id": "f3863fb2-1a9a-49a3-872a-0bf7918e1417",
   "metadata": {},
   "source": [
    "***Example 1: Integral of a Polynomial***\n",
    "    \n",
    "Find the integral of $$ f(x)=3x^2 $$"
   ]
  },
  {
   "cell_type": "code",
   "execution_count": 3,
   "id": "a6fd0fc6-a124-456f-a0a9-8c28ad6015df",
   "metadata": {},
   "outputs": [
    {
     "name": "stdout",
     "output_type": "stream",
     "text": [
      "The integral of 3x^2 is: x**3\n"
     ]
    }
   ],
   "source": [
    "# Define the function\n",
    "f = 3 * x**2\n",
    "\n",
    "# Compute the integral\n",
    "integral = integrate(f, x)\n",
    "\n",
    "print(\"The integral of 3x^2 is:\", integral)"
   ]
  },
  {
   "cell_type": "markdown",
   "id": "37521828-6b3e-4fa6-af93-c71eb58dac56",
   "metadata": {},
   "source": [
    "***Example 2: Integral of a Trigonometric Function***\n",
    "\n",
    "Find the integral of $$ f(x)=sin(x) $$"
   ]
  },
  {
   "cell_type": "code",
   "execution_count": 4,
   "id": "124f6468-0fc3-47f9-85c2-0f82548ba7ec",
   "metadata": {},
   "outputs": [
    {
     "name": "stdout",
     "output_type": "stream",
     "text": [
      "The integral of sin(x) is: -cos(x)\n"
     ]
    }
   ],
   "source": [
    "from sympy import sin\n",
    "\n",
    "# Define the function\n",
    "f = sin(x)\n",
    "\n",
    "# Compute the integral\n",
    "integral = integrate(f, x)\n",
    "\n",
    "print(\"The integral of sin(x) is:\", integral)"
   ]
  },
  {
   "cell_type": "markdown",
   "id": "932c569d-0282-403c-a66f-bf32d373ccea",
   "metadata": {},
   "source": [
    "**Step 4: Multiple Terms**\n",
    "    \n",
    "SymPy can handle integrals with multiple terms."
   ]
  },
  {
   "cell_type": "markdown",
   "id": "2e103104-9350-48c7-9cf4-a39d01093eaa",
   "metadata": {},
   "source": [
    "***Example 3: Integral of*** $$ f(x)=2𝑥+3 $$"
   ]
  },
  {
   "cell_type": "code",
   "execution_count": 5,
   "id": "22cead55-7aab-46bc-be65-250718f37d9e",
   "metadata": {},
   "outputs": [
    {
     "name": "stdout",
     "output_type": "stream",
     "text": [
      "The integral of 2x + 3 is: x**2 + 3*x\n"
     ]
    }
   ],
   "source": [
    "# Define the function\n",
    "f = 2 * x + 3\n",
    "\n",
    "# Compute the integral\n",
    "integral = integrate(f, x)\n",
    "\n",
    "print(\"The integral of 2x + 3 is:\", integral)\n"
   ]
  },
  {
   "cell_type": "markdown",
   "id": "0958c800-9356-4b0e-84c5-98bf272e6bf2",
   "metadata": {},
   "source": [
    "**Step 5: Exponential Functions**"
   ]
  },
  {
   "cell_type": "markdown",
   "id": "a4753346-c847-4640-9ea7-e073175046a2",
   "metadata": {},
   "source": [
    "***Example 4: Integral of*** $$ f(x)=e^x $$"
   ]
  },
  {
   "cell_type": "code",
   "execution_count": 6,
   "id": "e2f5c9eb-ba66-46bb-b342-409c14fab322",
   "metadata": {},
   "outputs": [
    {
     "name": "stdout",
     "output_type": "stream",
     "text": [
      "The integral of e^x is: exp(x)\n"
     ]
    }
   ],
   "source": [
    "from sympy import exp\n",
    "\n",
    "# Define the function\n",
    "f = exp(x)\n",
    "\n",
    "# Compute the integral\n",
    "integral = integrate(f, x)\n",
    "\n",
    "print(\"The integral of e^x is:\", integral)"
   ]
  },
  {
   "cell_type": "markdown",
   "id": "04c71f38-0a7f-47ee-af0e-f19208a86c93",
   "metadata": {},
   "source": [
    "***Example 5: Integral of*** $$ f(x)=xe^x $$"
   ]
  },
  {
   "cell_type": "code",
   "execution_count": 7,
   "id": "5b53d29a-0aad-45cf-a5f0-1c78bde74765",
   "metadata": {},
   "outputs": [
    {
     "name": "stdout",
     "output_type": "stream",
     "text": [
      "The integral of x * e^x is: (x - 1)*exp(x)\n"
     ]
    }
   ],
   "source": [
    "# Define the function\n",
    "f = x * exp(x)\n",
    "\n",
    "# Compute the integral\n",
    "integral = integrate(f, x)\n",
    "\n",
    "print(\"The integral of x * e^x is:\", integral)"
   ]
  },
  {
   "cell_type": "markdown",
   "id": "a4184691-d794-41be-8e06-f50ce8179d72",
   "metadata": {},
   "source": [
    "**Step 6: Integrals with Parameters**\n",
    "\n",
    "If your function has additional constants, SymPy handles them symbolically."
   ]
  },
  {
   "cell_type": "markdown",
   "id": "c7af7649-02ed-49ba-8612-70874cfb46da",
   "metadata": {},
   "source": [
    "***Example 6: Integral of*** $$ f(x)=ax^2+b $$"
   ]
  },
  {
   "cell_type": "code",
   "execution_count": 8,
   "id": "144d13dc-3bff-4b00-916a-75f46d904d39",
   "metadata": {},
   "outputs": [
    {
     "name": "stdout",
     "output_type": "stream",
     "text": [
      "The integral of a * x^2 + b is: a*x**3/3 + b*x\n"
     ]
    }
   ],
   "source": [
    "# Define constants\n",
    "a, b = symbols('a b')\n",
    "\n",
    "# Define the function\n",
    "f = a * x**2 + b\n",
    "\n",
    "# Compute the integral\n",
    "integral = integrate(f, x)\n",
    "\n",
    "print(\"The integral of a * x^2 + b is:\", integral)"
   ]
  },
  {
   "cell_type": "markdown",
   "id": "82ea5da3-5b1a-4d69-8262-d7927a9b3674",
   "metadata": {},
   "source": [
    "**Step 7: Verifying Results**\n",
    "\n",
    "To verify your results, differentiate the integral."
   ]
  },
  {
   "cell_type": "code",
   "execution_count": 9,
   "id": "26f41e19-a573-4dfb-b824-7478a2c63d07",
   "metadata": {},
   "outputs": [
    {
     "name": "stdout",
     "output_type": "stream",
     "text": [
      "The derivative of the integral is: a*x**2 + b\n"
     ]
    }
   ],
   "source": [
    "from sympy import diff\n",
    "\n",
    "# Differentiate the result\n",
    "result = diff(integral, x)\n",
    "print(\"The derivative of the integral is:\", result)"
   ]
  }
 ],
 "metadata": {
  "kernelspec": {
   "display_name": "Python 3 (ipykernel)",
   "language": "python",
   "name": "python3"
  },
  "language_info": {
   "codemirror_mode": {
    "name": "ipython",
    "version": 3
   },
   "file_extension": ".py",
   "mimetype": "text/x-python",
   "name": "python",
   "nbconvert_exporter": "python",
   "pygments_lexer": "ipython3",
   "version": "3.12.2"
  }
 },
 "nbformat": 4,
 "nbformat_minor": 5
}
