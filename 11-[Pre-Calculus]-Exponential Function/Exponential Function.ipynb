{
 "cells": [
  {
   "cell_type": "markdown",
   "id": "126739c7-14d8-4551-be0b-cf0eb25dd7dd",
   "metadata": {},
   "source": [
    "**Import Necessary Libraries**\n",
    "\n",
    "First, let's import the required libraries."
   ]
  },
  {
   "cell_type": "code",
   "execution_count": 5,
   "id": "6aada792-dedb-40cf-9246-14a1cde03ede",
   "metadata": {},
   "outputs": [],
   "source": [
    "import numpy as np\n",
    "import sympy as sp\n",
    "import matplotlib.pyplot as plt"
   ]
  },
  {
   "cell_type": "markdown",
   "id": "c7a11134-b2fe-462e-9e5b-ed3c7651075e",
   "metadata": {},
   "source": [
    "**Define the Function**\n",
    "\n",
    "Define the symbolic representation of the function and its components."
   ]
  },
  {
   "cell_type": "code",
   "execution_count": 6,
   "id": "b397a6a4-4ae4-42a2-a572-384b9b6fe34b",
   "metadata": {},
   "outputs": [],
   "source": [
    "# Define the function\n",
    "x = sp.symbols('x')\n",
    "f = sp.exp(x)"
   ]
  },
  {
   "cell_type": "markdown",
   "id": "2c37f80a-04df-42d6-b009-40844f270175",
   "metadata": {},
   "source": [
    "Here’s a step-by-step calculation and explanation for analyzing the exponential function $$𝑓(𝑥)=𝑒^𝑥$$ :"
   ]
  },
  {
   "cell_type": "markdown",
   "id": "b250d4b2-6287-470c-9b88-65d0527d6fd3",
   "metadata": {},
   "source": [
    "**1. Domain**\n",
    "\n",
    "The domain of a function is the set of all possible 𝑥-values for which the function is defined. For $$𝑓(𝑥)=𝑒^𝑥$$, the exponential function is defined for all real numbers."
   ]
  },
  {
   "cell_type": "code",
   "execution_count": 1,
   "id": "587a9b52-b29e-48e8-b4e8-9b98e31cf5f6",
   "metadata": {},
   "outputs": [
    {
     "name": "stdout",
     "output_type": "stream",
     "text": [
      "Domain: All Real Numbers (ℝ)\n"
     ]
    }
   ],
   "source": [
    "domain = \"All Real Numbers (ℝ)\"\n",
    "print(\"Domain:\", domain)"
   ]
  },
  {
   "cell_type": "markdown",
   "id": "65fc1870-5653-426f-9856-ed5dcc7ba2c3",
   "metadata": {},
   "source": [
    "**2. Range**\n",
    "\n",
    "The range is the set of all possible 𝑦-values (outputs) of the function. For $$𝑓(𝑥)=𝑒^𝑥$$ , the output is always positive and grows without bound as 𝑥 increases."
   ]
  },
  {
   "cell_type": "code",
   "execution_count": 2,
   "id": "da41492a-771a-4196-938a-d9b5484f3745",
   "metadata": {},
   "outputs": [
    {
     "name": "stdout",
     "output_type": "stream",
     "text": [
      "Range: (0, ∞)\n"
     ]
    }
   ],
   "source": [
    "range_of_f = \"(0, ∞)\"\n",
    "print(\"Range:\", range_of_f)"
   ]
  },
  {
   "cell_type": "markdown",
   "id": "8b835151-c92b-4080-9ad5-f6db2e8b009f",
   "metadata": {},
   "source": [
    "**3. x-Intercepts**\n",
    "\n",
    "The x-intercepts occur when 𝑓(𝑥)=0. For $$𝑒^𝑥=0$$, there are no solutions since $$𝑒^𝑥>0$$ for all 𝑥."
   ]
  },
  {
   "cell_type": "code",
   "execution_count": 7,
   "id": "1a184801-7f57-4b4b-8e9f-e4e4abf10469",
   "metadata": {},
   "outputs": [
    {
     "name": "stdout",
     "output_type": "stream",
     "text": [
      "x-Intercepts: EmptySet\n"
     ]
    }
   ],
   "source": [
    "x_intercepts = sp.solveset(sp.exp(x), x, domain=sp.S.Reals)\n",
    "print(\"x-Intercepts:\", x_intercepts)"
   ]
  },
  {
   "cell_type": "markdown",
   "id": "f3f48dfd-9807-4f94-9be3-f07cee1108a9",
   "metadata": {},
   "source": [
    "**4. y-Intercept**\n",
    "\n",
    "The y-intercept is the value of the function when 𝑥=0. For $$𝑓(𝑥)=𝑒^𝑥$$, the y-intercept is $$𝑒^0=1$$."
   ]
  },
  {
   "cell_type": "code",
   "execution_count": 8,
   "id": "240ff1de-0dc7-44f2-b021-b8d384309fcc",
   "metadata": {},
   "outputs": [
    {
     "name": "stdout",
     "output_type": "stream",
     "text": [
      "y-Intercept: 1\n"
     ]
    }
   ],
   "source": [
    "y_intercept = sp.exp(0)\n",
    "print(\"y-Intercept:\", y_intercept)"
   ]
  },
  {
   "cell_type": "markdown",
   "id": "645c56bd-9874-46b4-b140-77828bd0ed7a",
   "metadata": {},
   "source": [
    "**5. Continuity**\n",
    "\n",
    "A function is continuous if there are no breaks, jumps, or holes. The exponential function is smooth and continuous everywhere."
   ]
  },
  {
   "cell_type": "code",
   "execution_count": 9,
   "id": "00e0ff93-d433-4f10-8add-c074f6e40e4a",
   "metadata": {},
   "outputs": [
    {
     "name": "stdout",
     "output_type": "stream",
     "text": [
      "Continuity: Continuous Everywhere\n"
     ]
    }
   ],
   "source": [
    "is_continuous = \"Continuous Everywhere\"\n",
    "print(\"Continuity:\", is_continuous)"
   ]
  },
  {
   "cell_type": "markdown",
   "id": "5e90bccd-3382-4077-928f-485fae1ac0cb",
   "metadata": {},
   "source": [
    "**6. Symmetry**\n",
    "\n",
    "A function is even if 𝑓(−𝑥)=𝑓(𝑥), and odd if 𝑓(−𝑥)=−𝑓(𝑥). For $$𝑓(𝑥)=𝑒^𝑥$$, neither condition holds."
   ]
  },
  {
   "cell_type": "code",
   "execution_count": 10,
   "id": "43315da1-75a2-4bc7-8abe-a1402da43712",
   "metadata": {},
   "outputs": [
    {
     "name": "stdout",
     "output_type": "stream",
     "text": [
      "Symmetry: Neither Even Nor Odd\n"
     ]
    }
   ],
   "source": [
    "symmetry = \"Neither Even Nor Odd\"\n",
    "print(\"Symmetry:\", symmetry)"
   ]
  },
  {
   "cell_type": "markdown",
   "id": "e6180fe0-11ad-45c9-b85e-97de4e035126",
   "metadata": {},
   "source": [
    "**7. Derivative (Rate of Change)**\n",
    "\n",
    "The first derivative of $$𝑓(𝑥)=𝑒^𝑥$$ is: $$𝑓′(𝑥)=𝑒^𝑥$$"
   ]
  },
  {
   "cell_type": "code",
   "execution_count": 11,
   "id": "f67fc14d-f568-44ba-9cba-d0f22ac694fb",
   "metadata": {},
   "outputs": [
    {
     "name": "stdout",
     "output_type": "stream",
     "text": [
      "First Derivative: exp(x)\n"
     ]
    }
   ],
   "source": [
    "f_prime = sp.diff(f, x)\n",
    "print(\"First Derivative:\", f_prime)"
   ]
  },
  {
   "cell_type": "markdown",
   "id": "8add6741-d1cb-4c5d-abe7-4f9ff701579d",
   "metadata": {},
   "source": [
    "**8. Critical Points**\n",
    "\n",
    "Critical points occur where 𝑓′(𝑥)=0 or 𝑓′(𝑥) is undefined. For $$𝑓^′(𝑥)=𝑒^𝑥$$ , there are no critical points because $$𝑒^𝑥>0$$."
   ]
  },
  {
   "cell_type": "code",
   "execution_count": 12,
   "id": "821ef6de-718c-4179-8fb1-ffa1f0c44cb9",
   "metadata": {},
   "outputs": [
    {
     "name": "stdout",
     "output_type": "stream",
     "text": [
      "Critical Points: EmptySet\n"
     ]
    }
   ],
   "source": [
    "critical_points = sp.solveset(f_prime, x, domain=sp.S.Reals)\n",
    "print(\"Critical Points:\", critical_points)"
   ]
  },
  {
   "cell_type": "markdown",
   "id": "f6a69318-845b-4228-b021-374346e21b86",
   "metadata": {},
   "source": [
    "**9. Concavity and Inflection Points**\n",
    "\n",
    "The second derivative is: $$𝑓^{′′}(𝑥)=𝑒^𝑥$$ Since 𝑓′′(𝑥)>0 everywhere, the function is concave up and has no inflection points."
   ]
  },
  {
   "cell_type": "code",
   "execution_count": 13,
   "id": "18e2c51c-b164-4a04-8ae2-9939888ea7f1",
   "metadata": {},
   "outputs": [
    {
     "name": "stdout",
     "output_type": "stream",
     "text": [
      "Second Derivative: exp(x)\n"
     ]
    }
   ],
   "source": [
    "f_double_prime = sp.diff(f_prime, x)\n",
    "print(\"Second Derivative:\", f_double_prime)"
   ]
  },
  {
   "cell_type": "markdown",
   "id": "875237b8-bf14-4893-ae6b-1fdf7cae243d",
   "metadata": {},
   "source": [
    "**10. Limit as 𝑥→∞ and 𝑥→−∞**\n",
    "\n",
    "For the limits:\n",
    "$$\\lim_{x \\to \\infty } e^x=\\infty $$ and $$\\lim_{x \\to -\\infty } e^x=0^{+}$$"
   ]
  },
  {
   "cell_type": "code",
   "execution_count": 14,
   "id": "f891b6e9-1f9a-4bf8-aac5-42f82b071298",
   "metadata": {},
   "outputs": [
    {
     "name": "stdout",
     "output_type": "stream",
     "text": [
      "Limit as x -> ∞: oo\n",
      "Limit as x -> -∞: 0\n"
     ]
    }
   ],
   "source": [
    "limit_positive = sp.limit(f, x, sp.oo)\n",
    "limit_negative = sp.limit(f, x, -sp.oo)\n",
    "\n",
    "print(\"Limit as x -> ∞:\", limit_positive)\n",
    "print(\"Limit as x -> -∞:\", limit_negative)"
   ]
  },
  {
   "cell_type": "markdown",
   "id": "91a9b997-afce-4bdf-9ae2-d8576a681c64",
   "metadata": {},
   "source": [
    "**11. Indefinite Integral**\n",
    "\n",
    "The indefinite integral of $$𝑓(𝑥)=𝑒^𝑥$$ is: $$\\int_{}^{}e^xdx=e^x+C$$"
   ]
  },
  {
   "cell_type": "code",
   "execution_count": 16,
   "id": "7b8acd5b-7e97-4bfe-8294-cb551d62eabe",
   "metadata": {},
   "outputs": [
    {
     "name": "stdout",
     "output_type": "stream",
     "text": [
      "Indefinite Integral: exp(x)\n"
     ]
    }
   ],
   "source": [
    "indefinite_integral = sp.integrate(f, x)\n",
    "print(\"Indefinite Integral:\", indefinite_integral)"
   ]
  },
  {
   "cell_type": "markdown",
   "id": "8661ba45-eb07-4ed9-a3dc-62d3cdbfb383",
   "metadata": {},
   "source": [
    "**12. Definite Integral**\n",
    "\n",
    "To compute a definite integral, e.g., from 𝑎=0 to 𝑏=1: $$\\int_{0}^{0}e^xdx=e^{1}-e^{0}=e-1$$"
   ]
  },
  {
   "cell_type": "code",
   "execution_count": 17,
   "id": "2bdd5c03-c8e4-4475-aa60-de4a712095de",
   "metadata": {},
   "outputs": [
    {
     "name": "stdout",
     "output_type": "stream",
     "text": [
      "Definite Integral (0 to 1): -1 + E\n"
     ]
    }
   ],
   "source": [
    "definite_integral = sp.integrate(f, (x, 0, 1))\n",
    "print(\"Definite Integral (0 to 1):\", definite_integral)"
   ]
  },
  {
   "cell_type": "markdown",
   "id": "278dde7c-3233-4ce4-8d59-000af95dbeea",
   "metadata": {},
   "source": [
    "**13. Graph Features:**\n",
    "\n",
    "The function passes through (0,1), which is the y-intercept.\n",
    "\n",
    "* For 𝑥>0, 𝑓(𝑥) grows exponentially without bound.\n",
    "* For 𝑥<0, 𝑓(𝑥) approaches 0+ but never touches the x-axis.\n",
    "* The curve is always increasing and concave up."
   ]
  },
  {
   "cell_type": "code",
   "execution_count": 18,
   "id": "7113d153-3860-4739-8388-48f802114b12",
   "metadata": {},
   "outputs": [
    {
     "data": {
      "image/png": "[encoded data removed]",
      "text/plain": [
       "<Figure size 800x600 with 1 Axes>"
      ]
     },
     "metadata": {},
     "output_type": "display_data"
    }
   ],
   "source": [
    "import numpy as np\n",
    "import matplotlib.pyplot as plt\n",
    "\n",
    "# Define the function\n",
    "x = np.linspace(-3, 3, 500)  # x values from -3 to 3\n",
    "y = np.exp(x)  # y = e^x\n",
    "\n",
    "# Plot the function\n",
    "plt.figure(figsize=(8, 6))\n",
    "plt.plot(x, y, label=r\"$f(x) = e^x$\", color=\"blue\")\n",
    "\n",
    "# Add key features\n",
    "plt.axhline(0, color=\"black\", linewidth=0.8, linestyle=\"--\")  # x-axis\n",
    "plt.axvline(0, color=\"black\", linewidth=0.8, linestyle=\"--\")  # y-axis\n",
    "plt.scatter(0, 1, color=\"red\", label=\"y-Intercept (0, 1)\")  # y-intercept\n",
    "\n",
    "# Labels and title\n",
    "plt.title(\"Graph of $f(x) = e^x$\", fontsize=16)\n",
    "plt.xlabel(\"x\", fontsize=12)\n",
    "plt.ylabel(\"f(x)\", fontsize=12)\n",
    "plt.grid(alpha=0.4)\n",
    "plt.legend()\n",
    "plt.ylim(-0.5, 20)  # Adjust y-axis limits for visibility\n",
    "\n",
    "# Show the plot\n",
    "plt.show()"
   ]
  }
 ],
 "metadata": {
  "kernelspec": {
   "display_name": "Python 3 (ipykernel)",
   "language": "python",
   "name": "python3"
  },
  "language_info": {
   "codemirror_mode": {
    "name": "ipython",
    "version": 3
   },
   "file_extension": ".py",
   "mimetype": "text/x-python",
   "name": "python",
   "nbconvert_exporter": "python",
   "pygments_lexer": "ipython3",
   "version": "3.12.2"
  }
 },
 "nbformat": 4,
 "nbformat_minor": 5
}
