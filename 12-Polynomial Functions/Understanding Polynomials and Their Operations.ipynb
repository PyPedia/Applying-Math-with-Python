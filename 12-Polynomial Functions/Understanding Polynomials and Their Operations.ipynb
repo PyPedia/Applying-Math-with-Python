{
 "cells": [
  {
   "cell_type": "markdown",
   "id": "5cb5eb84-a765-4db1-9f9f-bc11b5a8a0e5",
   "metadata": {},
   "source": [
    "**Understanding Polynomials and Their Operations**\n",
    "\n",
    "A polynomial is a mathematical expression consisting of variables (or indeterminates), coefficients, and operations like *addition*, *subtraction*, *multiplication*, and *non-negative integer exponents*.\n",
    "\n",
    "**General Form of a Polynomial**\n",
    "\n",
    "$$f(x)=a_{n}x^{n}+a_{n-1}x^{n-1}+...+a_{1}x+a_{0}$$\n",
    "\n",
    "Where:\n",
    "\n",
    "* 𝑎<sub>𝑛</sub>, 𝑎<sub>𝑛−1</sub>, …, 𝑎<sub>0</sub> are coefficients.\n",
    "* 𝑥 is the variable.\n",
    "* 𝑛 is the degree of the polynomial.\n",
    "\n",
    "Python provides libraries like *numpy* and *sympy* to work with polynomials. Let’s break down operations step by step with examples."
   ]
  },
  {
   "cell_type": "markdown",
   "id": "ce279243-28f5-4ef7-a1d0-13a8a8891d5a",
   "metadata": {},
   "source": [
    "**Step 1: Creating Polynomials in Python**\n",
    "    \n",
    "You can represent polynomials using arrays, where the elements are coefficients.\n",
    "\n",
    "***Example: Representing Polynomials with numpy.poly1d***"
   ]
  },
  {
   "cell_type": "code",
   "execution_count": 1,
   "id": "62f04135-12cb-426a-9106-a2be2b13d5b8",
   "metadata": {},
   "outputs": [
    {
     "name": "stdout",
     "output_type": "stream",
     "text": [
      "Polynomial P(x):\n",
      "   3     2\n",
      "2 x + 3 x - 5 x + 7\n"
     ]
    }
   ],
   "source": [
    "import numpy as np\n",
    "\n",
    "# Representing P(x) = 2x^3 + 3x^2 - 5x + 7\n",
    "P = np.poly1d([2, 3, -5, 7])\n",
    "print(\"Polynomial P(x):\")\n",
    "print(P)"
   ]
  },
  {
   "cell_type": "markdown",
   "id": "c127349e-d83e-4b38-a490-ef0a8f19e709",
   "metadata": {},
   "source": [
    "**Step 2: Polynomial Addition**\n",
    "    \n",
    "Adding two polynomials involves adding their coefficients.\n",
    "\n",
    "***Example: Adding***\n",
    "\n",
    "$$P(x)=2x^{3}+3x^{2}-5x+7$$\n",
    "\n",
    "and\n",
    "\n",
    "$$Q(x)=x^{2}+4x-1$$"
   ]
  },
  {
   "cell_type": "code",
   "execution_count": 2,
   "id": "3a408688-f2cc-4a79-b98c-143031e2c935",
   "metadata": {},
   "outputs": [
    {
     "name": "stdout",
     "output_type": "stream",
     "text": [
      "P(x) + Q(x):\n",
      "   3     2\n",
      "2 x + 4 x - 1 x + 6\n"
     ]
    }
   ],
   "source": [
    "# Polynomial Q(x)\n",
    "Q = np.poly1d([0, 1, 4, -1])\n",
    "\n",
    "# Adding P(x) + Q(x)\n",
    "R = P + Q\n",
    "print(\"P(x) + Q(x):\")\n",
    "print(R)"
   ]
  },
  {
   "cell_type": "markdown",
   "id": "ae67d0b6-435f-4693-9f33-86c58d495ed6",
   "metadata": {},
   "source": [
    "**Step 3: Polynomial Subtraction**\n",
    "\n",
    "Subtracting one polynomial from another is done by subtracting their coefficients.\n",
    "\n",
    "***Example: Subtracting 𝑄(𝑥) from 𝑃(𝑥)***"
   ]
  },
  {
   "cell_type": "code",
   "execution_count": 3,
   "id": "eb7cf218-4ba5-4569-be0c-8ed49dc9a632",
   "metadata": {},
   "outputs": [
    {
     "name": "stdout",
     "output_type": "stream",
     "text": [
      "P(x) - Q(x):\n",
      "   3     2\n",
      "2 x + 2 x - 9 x + 8\n"
     ]
    }
   ],
   "source": [
    "# Subtracting P(x) - Q(x)\n",
    "R = P - Q\n",
    "print(\"P(x) - Q(x):\")\n",
    "print(R)"
   ]
  },
  {
   "cell_type": "markdown",
   "id": "b32fd147-54a3-4219-8f50-33bb38d3f7b7",
   "metadata": {},
   "source": [
    "**Step 4: Polynomial Multiplication**\n",
    "    \n",
    "Multiply two polynomials by distributing each term of one polynomial across all terms of the other.\n",
    "\n",
    "***Example: Multiplying 𝑃(𝑥) and 𝑄(𝑥)***"
   ]
  },
  {
   "cell_type": "code",
   "execution_count": 5,
   "id": "a95cdc35-cc3e-4ec7-a16f-a798c0c9384e",
   "metadata": {},
   "outputs": [
    {
     "name": "stdout",
     "output_type": "stream",
     "text": [
      "P(x) * Q(x):\n",
      "   5      4     3      2\n",
      "2 x + 11 x + 5 x - 16 x + 33 x - 7\n"
     ]
    }
   ],
   "source": [
    "# Multiplying P(x) * Q(x)\n",
    "R = np.poly1d(np.polymul(P, Q))\n",
    "print(\"P(x) * Q(x):\")\n",
    "print(R)"
   ]
  },
  {
   "cell_type": "markdown",
   "id": "3a430a81-0613-44ef-8535-2ee15e41f0a1",
   "metadata": {},
   "source": [
    "**Step 5: Polynomial Division**\n",
    "    \n",
    "Divide two polynomials to get the quotient and remainder.\n",
    "\n",
    "***Example: Dividing 𝑃(𝑥) by 𝑄(𝑥)***"
   ]
  },
  {
   "cell_type": "code",
   "execution_count": 6,
   "id": "8e9bdd19-a1a2-4cce-83fb-2da44d619cf3",
   "metadata": {},
   "outputs": [
    {
     "name": "stdout",
     "output_type": "stream",
     "text": [
      "Quotient:\n",
      " \n",
      "2 x - 5\n",
      "Remainder:\n",
      " \n",
      "17 x + 2\n"
     ]
    }
   ],
   "source": [
    "# Dividing P(x) by Q(x)\n",
    "quotient, remainder = np.polydiv(P, Q)\n",
    "print(\"Quotient:\")\n",
    "print(np.poly1d(quotient))\n",
    "print(\"Remainder:\")\n",
    "print(np.poly1d(remainder))"
   ]
  },
  {
   "cell_type": "markdown",
   "id": "ca1072f7-46e7-414c-afc4-b202548abb9a",
   "metadata": {},
   "source": [
    "**Step 6: Finding Roots of a Polynomial**\n",
    "\n",
    "The roots are the values of 𝑥 for which 𝑃(𝑥)=0.\n",
    "\n",
    "***Example: Roots of 𝑃(𝑥)***"
   ]
  },
  {
   "cell_type": "code",
   "execution_count": 7,
   "id": "4fec5c63-4c8a-44c2-8f7c-09501134b69d",
   "metadata": {},
   "outputs": [
    {
     "name": "stdout",
     "output_type": "stream",
     "text": [
      "Roots of P(x): [-2.82408737+0.j          0.66204369+0.89500647j  0.66204369-0.89500647j]\n"
     ]
    }
   ],
   "source": [
    "# Finding roots of P(x)\n",
    "roots = P.r\n",
    "print(\"Roots of P(x):\", roots)"
   ]
  },
  {
   "cell_type": "markdown",
   "id": "df61455e-78ab-4265-b7c3-97bfbe27fc83",
   "metadata": {},
   "source": [
    "**Step 7: Polynomial Derivative**\n",
    "    \n",
    "The derivative of a polynomial can be calculated term by term.\n",
    "\n",
    "***Example: Derivative of 𝑃(𝑥)***"
   ]
  },
  {
   "cell_type": "code",
   "execution_count": 8,
   "id": "30c5607a-817f-4519-b1c2-1f044076cf42",
   "metadata": {},
   "outputs": [
    {
     "name": "stdout",
     "output_type": "stream",
     "text": [
      "Derivative of P(x):\n",
      "   2\n",
      "6 x + 6 x - 5\n"
     ]
    }
   ],
   "source": [
    "# Derivative of P(x)\n",
    "P_derivative = P.deriv()\n",
    "print(\"Derivative of P(x):\")\n",
    "print(P_derivative)"
   ]
  },
  {
   "cell_type": "markdown",
   "id": "0ba504a0-93a3-4567-9281-0dcfe164b2db",
   "metadata": {},
   "source": [
    "**Step 8: Polynomial Integration**\n",
    "    \n",
    "Integrate a polynomial to find its integral.\n",
    "\n",
    "***Example: Indefinite Integral of 𝑃(𝑥)***"
   ]
  },
  {
   "cell_type": "code",
   "execution_count": 9,
   "id": "8684fabd-8ae7-47c9-9a20-955755fd7aec",
   "metadata": {},
   "outputs": [
    {
     "name": "stdout",
     "output_type": "stream",
     "text": [
      "Indefinite Integral of P(x):\n",
      "     4     3       2\n",
      "0.5 x + 1 x - 2.5 x + 7 x\n"
     ]
    }
   ],
   "source": [
    "# Indefinite integral of P(x)\n",
    "P_integral = P.integ()\n",
    "print(\"Indefinite Integral of P(x):\")\n",
    "print(P_integral)"
   ]
  },
  {
   "cell_type": "markdown",
   "id": "6b697b12-356b-409a-95fe-414bb40673f0",
   "metadata": {},
   "source": [
    "***Example: Definite Integral of 𝑃(𝑥) from 𝑥=1 to 𝑥=3***"
   ]
  },
  {
   "cell_type": "code",
   "execution_count": 10,
   "id": "a8418d1e-ae96-4f16-89f3-f1811cf30b71",
   "metadata": {},
   "outputs": [
    {
     "name": "stdout",
     "output_type": "stream",
     "text": [
      "Definite Integral of P(x) from 1 to 3: 60.0\n"
     ]
    }
   ],
   "source": [
    "# Definite integral of P(x) from 1 to 3\n",
    "integral_value = P_integral(3) - P_integral(1)\n",
    "print(\"Definite Integral of P(x) from 1 to 3:\", integral_value)"
   ]
  },
  {
   "cell_type": "markdown",
   "id": "8aedc6b4-f589-4b80-beeb-f4376ae96599",
   "metadata": {},
   "source": [
    "**Step 9: Evaluating a Polynomial**\n",
    "    \n",
    "Evaluate the polynomial at specific values of 𝑥.\n",
    "\n",
    "***Example: Evaluate 𝑃(𝑥) at 𝑥=2***"
   ]
  },
  {
   "cell_type": "code",
   "execution_count": 11,
   "id": "2edb51ab-4a8a-480b-80c2-fe004280d114",
   "metadata": {},
   "outputs": [
    {
     "name": "stdout",
     "output_type": "stream",
     "text": [
      "Value of P(x) at x = 2: 25\n"
     ]
    }
   ],
   "source": [
    "# Evaluate P(x) at x = 2\n",
    "value_at_2 = P(2)\n",
    "print(\"Value of P(x) at x = 2:\", value_at_2)"
   ]
  }
 ],
 "metadata": {
  "kernelspec": {
   "display_name": "Python 3 (ipykernel)",
   "language": "python",
   "name": "python3"
  },
  "language_info": {
   "codemirror_mode": {
    "name": "ipython",
    "version": 3
   },
   "file_extension": ".py",
   "mimetype": "text/x-python",
   "name": "python",
   "nbconvert_exporter": "python",
   "pygments_lexer": "ipython3",
   "version": "3.12.2"
  }
 },
 "nbformat": 4,
 "nbformat_minor": 5
}
