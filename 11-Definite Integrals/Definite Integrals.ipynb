{
 "cells": [
  {
   "cell_type": "markdown",
   "id": "6bfd57a8-4807-4152-9ca7-6d26e817a33a",
   "metadata": {},
   "source": [
    "**Mathematical Background of Definite Integrals**\n",
    "\n",
    "***Definition:*** \n",
    "- A definite integral represents the signed area under a curve 𝑓(𝑥)between two points 𝑎 and 𝑏. Mathematically:\n",
    "$$ \\int_{a}^{b} f(x) \\,dx $$\n",
    "- *f(x)* is the function being integrated,\n",
    "- *a* and *b* are the lower and upper bounds, respectively.\n",
    "\n",
    "***Fundamental Theorem of Calculus:***\n",
    "\n",
    "If 𝐹(𝑥) is the antiderivative (indefinite integral) of 𝑓(𝑥), then:\n",
    "\n",
    "$$ \\int_{a}^{b} f(x) \\,dx=F(b)-F(a) $$\n",
    "\n",
    "***Geometric Interpretation:***\n",
    "\n",
    "- If f(x)≥0, the integral gives the area under 𝑓(𝑥) from 𝑎 to 𝑏.\n",
    "- If 𝑓(𝑥)<0, the integral gives the negative of the area.\n",
    "\n",
    "***Properties:***\n",
    "- Additivity:\n",
    "$$ \\int_{a}^{b} f(x) \\,dx+\\int_{b}^{c} f(x) \\,dx=\\int_{a}^{c} f(x) \\,dx $$\n",
    "- Constant Multiple:\n",
    "$$ \\int_{a}^{b} c.f(x) \\,dx=c.\\int_{a}^{b} f(x) \\,dx $$"
   ]
  },
  {
   "cell_type": "markdown",
   "id": "a9ecf433-7f4c-433b-99e1-9503565134bd",
   "metadata": {},
   "source": [
    "**Step-by-Step Implementation in Python (SymPy)**"
   ]
  },
  {
   "cell_type": "markdown",
   "id": "f162d6a6-9ca6-4ca8-9958-4131bf96870c",
   "metadata": {},
   "source": [
    "***1. Setup and Example 1: Compute a Simple Integral***\n",
    "\n",
    "We start by integrating a simple polynomial $$ 𝑓(𝑥)=𝑥^2 $$ from 0 to 1."
   ]
  },
  {
   "cell_type": "code",
   "execution_count": 1,
   "id": "c3441368-d629-40aa-ac68-e24184f4b670",
   "metadata": {},
   "outputs": [
    {
     "name": "stdout",
     "output_type": "stream",
     "text": [
      "The integral of x^2 from 0 to 1 is: 1/3\n"
     ]
    }
   ],
   "source": [
    "import sympy as sp\n",
    "\n",
    "# Define the variable and the function\n",
    "x = sp.symbols('x')\n",
    "f = x**2\n",
    "\n",
    "# Compute the definite integral\n",
    "result = sp.integrate(f, (x, 0, 1))\n",
    "\n",
    "print(\"The integral of x^2 from 0 to 1 is:\", result)"
   ]
  },
  {
   "cell_type": "markdown",
   "id": "4b48e09d-d3fc-4b13-8fec-b421967f9a86",
   "metadata": {},
   "source": [
    "***2. Example 2: Trigonometric Function***\n",
    "\n",
    "Find the integral of $$ f(x)=sin(𝑥) $$ from 0 to 𝜋."
   ]
  },
  {
   "cell_type": "code",
   "execution_count": 2,
   "id": "1b16377c-7b9b-4aa2-9ad5-a2bd30821a73",
   "metadata": {},
   "outputs": [
    {
     "name": "stdout",
     "output_type": "stream",
     "text": [
      "The integral of sin(x) from 0 to pi is: 2\n"
     ]
    }
   ],
   "source": [
    "# Define the function\n",
    "f = sp.sin(x)\n",
    "\n",
    "# Compute the definite integral\n",
    "result = sp.integrate(f, (x, 0, sp.pi))\n",
    "\n",
    "print(\"The integral of sin(x) from 0 to pi is:\", result)"
   ]
  },
  {
   "cell_type": "markdown",
   "id": "39f16a80-09f0-4e1c-85ac-4da4ad1c1574",
   "metadata": {},
   "source": [
    "***3. Example 3: Exponential Function***\n",
    "\n",
    "Evaluate $$ \\int_{1}^{e} ln(x) \\,dx $$"
   ]
  },
  {
   "cell_type": "code",
   "execution_count": 3,
   "id": "396eedfe-99fb-4ff9-92bb-3c13c9727ee1",
   "metadata": {},
   "outputs": [
    {
     "name": "stdout",
     "output_type": "stream",
     "text": [
      "The integral of ln(x) from 1 to e is: 1\n"
     ]
    }
   ],
   "source": [
    "# Define the function\n",
    "f = sp.ln(x)\n",
    "\n",
    "# Compute the definite integral\n",
    "result = sp.integrate(f, (x, 1, sp.E))\n",
    "\n",
    "print(\"The integral of ln(x) from 1 to e is:\", result)"
   ]
  },
  {
   "cell_type": "markdown",
   "id": "912fd422-e597-4776-a7bb-e5209d87dc88",
   "metadata": {},
   "source": [
    "**4. Example 4: Piecewise Function**\n",
    "\n",
    "Consider $$ f(x)=x^2 $$ for x<1 and $$ f(x)=x+1 $$ for 𝑥≥1. Compute  $$ \\int_{0}^{2} f(x) \\,dx $$\n"
   ]
  },
  {
   "cell_type": "code",
   "execution_count": 5,
   "id": "ae79a2ef-6eb2-415f-be29-0f9b89293787",
   "metadata": {},
   "outputs": [
    {
     "name": "stdout",
     "output_type": "stream",
     "text": [
      "The integral of the piecewise function from 0 to 2 is: 17/6\n"
     ]
    }
   ],
   "source": [
    "# Define the piecewise function\n",
    "f = sp.Piecewise((x**2, x < 1), (x + 1, x >= 1))\n",
    "\n",
    "# Compute the definite integral\n",
    "result = sp.integrate(f, (x, 0, 2))\n",
    "\n",
    "print(\"The integral of the piecewise function from 0 to 2 is:\", result)"
   ]
  }
 ],
 "metadata": {
  "kernelspec": {
   "display_name": "Python 3 (ipykernel)",
   "language": "python",
   "name": "python3"
  },
  "language_info": {
   "codemirror_mode": {
    "name": "ipython",
    "version": 3
   },
   "file_extension": ".py",
   "mimetype": "text/x-python",
   "name": "python",
   "nbconvert_exporter": "python",
   "pygments_lexer": "ipython3",
   "version": "3.12.2"
  }
 },
 "nbformat": 4,
 "nbformat_minor": 5
}
