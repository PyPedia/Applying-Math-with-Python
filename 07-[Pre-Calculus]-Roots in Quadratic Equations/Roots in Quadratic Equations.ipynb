{
 "cells": [
  {
   "cell_type": "markdown",
   "id": "11329377-42a3-4fe7-aef3-13e9e97561d2",
   "metadata": {},
   "source": [
    "**Math Behind Solving Quadratic Equations**\n",
    "\n",
    "A quadratic equation is of the form: $$ ax^2+bx+c=0 $$ where 𝑎, 𝑏 and 𝑐 are constants, and $$ a\\neq 0 $$\n",
    "The roots (solutions) of the quadratic equation are calculated using the quadratic formula: \n",
    "$$ x=\\frac{-b\\pm \\sqrt{b^{2}-4ac}}{2a} $$\n",
    "\n",
    "**Key Steps:**\n",
    "\n",
    "***a.Calculate the Discriminant:*** $$ D=b^2-4ac $$\n",
    "- If 𝐷>0: *Two distinct real roots*.\n",
    "- If 𝐷=0: *One real root (both roots are the same)*.\n",
    "- If 𝐷<0: *Two complex roots*.\n",
    "\n",
    "***Apply the Quadratic Formula:***\n",
    "- For real roots:\n",
    "$$ x_{1}=\\frac{-b+ \\sqrt{b^{2}-4ac}}{2a} , x_{2}=\\frac{-b- \\sqrt{b^{2}-4ac}}{2a} $$\n",
    "- For complex roots:\n",
    "$$ x_{1}=\\frac{-b+ i\\sqrt{-D}}{2a} , x_{2}=\\frac{-b- i\\sqrt{-D}}{2a} ; i=\\sqrt{-1} $$"
   ]
  },
  {
   "cell_type": "markdown",
   "id": "b012ead5-9ba6-42f6-a0d6-3562038c14ee",
   "metadata": {},
   "source": [
    "**Step-by-Step Guide to Finding Roots of a Quadratic Equation in Python**\n",
    "\n",
    "We’ll solve a quadratic equation of the form $$ ax^2+bx+c=0 $$ step by step."
   ]
  },
  {
   "cell_type": "markdown",
   "id": "de9bcdb9-9534-4a6d-9ccc-94e1874c3d2d",
   "metadata": {},
   "source": [
    "**Step 1: Define the Quadratic Formula Components** \n",
    "\n",
    "We'll start by taking inputs for 𝑎, 𝑏, and 𝑐 and calculate the discriminant (𝐷)."
   ]
  },
  {
   "cell_type": "code",
   "execution_count": 1,
   "id": "aa758bc7-5b17-4489-9565-f1131f73fd50",
   "metadata": {},
   "outputs": [
    {
     "name": "stdin",
     "output_type": "stream",
     "text": [
      "Enter coefficient a:  1\n",
      "Enter coefficient b:  -3\n",
      "Enter coefficient c:  2\n"
     ]
    }
   ],
   "source": [
    "# Step 1: Take inputs for coefficients a, b, and c\n",
    "a = float(input(\"Enter coefficient a: \"))\n",
    "b = float(input(\"Enter coefficient b: \"))\n",
    "c = float(input(\"Enter coefficient c: \"))"
   ]
  },
  {
   "cell_type": "code",
   "execution_count": 2,
   "id": "ba7a45f9-6c3a-413b-97bd-a6e9d5330754",
   "metadata": {},
   "outputs": [
    {
     "name": "stdout",
     "output_type": "stream",
     "text": [
      "Discriminant (D) = 1.0\n"
     ]
    }
   ],
   "source": [
    "# Calculate the discriminant\n",
    "D = b**2 - 4*a*c\n",
    "print(f\"Discriminant (D) = {D}\")"
   ]
  },
  {
   "cell_type": "markdown",
   "id": "b5d24843-a15e-47df-9047-0b4ca42aadb9",
   "metadata": {},
   "source": [
    "**Step 2: Handle Different Cases of Roots**\n",
    "\n",
    "Add the logic to compute the roots based on the discriminant."
   ]
  },
  {
   "cell_type": "code",
   "execution_count": 3,
   "id": "936147e0-01de-476d-946b-2ea874368893",
   "metadata": {},
   "outputs": [
    {
     "name": "stdout",
     "output_type": "stream",
     "text": [
      "Roots are real and different: 2.0, 1.0\n"
     ]
    }
   ],
   "source": [
    "import math\n",
    "\n",
    "# Step 2: Check discriminant and calculate roots\n",
    "if D > 0:\n",
    "    # Two distinct real roots\n",
    "    root1 = (-b + math.sqrt(D)) / (2 * a)\n",
    "    root2 = (-b - math.sqrt(D)) / (2 * a)\n",
    "    print(f\"Roots are real and different: {root1}, {root2}\")\n",
    "elif D == 0:\n",
    "    # One real root\n",
    "    root = -b / (2 * a)\n",
    "    print(f\"Roots are real and the same: {root}\")\n",
    "else:\n",
    "    # Two complex roots\n",
    "    real_part = -b / (2 * a)\n",
    "    imaginary_part = math.sqrt(-D) / (2 * a)\n",
    "    print(f\"Roots are complex: {real_part} + {imaginary_part}i, {real_part} - {imaginary_part}i\")"
   ]
  }
 ],
 "metadata": {
  "kernelspec": {
   "display_name": "Python 3 (ipykernel)",
   "language": "python",
   "name": "python3"
  },
  "language_info": {
   "codemirror_mode": {
    "name": "ipython",
    "version": 3
   },
   "file_extension": ".py",
   "mimetype": "text/x-python",
   "name": "python",
   "nbconvert_exporter": "python",
   "pygments_lexer": "ipython3",
   "version": "3.12.2"
  }
 },
 "nbformat": 4,
 "nbformat_minor": 5
}
