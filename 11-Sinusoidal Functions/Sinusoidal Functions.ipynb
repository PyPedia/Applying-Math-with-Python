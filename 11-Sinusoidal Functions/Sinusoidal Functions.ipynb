{
  "cells": [
    {
      "cell_type": "markdown",
      "id": "055c6309-e459-4544-ac00-33d11e762bce",
      "metadata": {
        "id": "055c6309-e459-4544-ac00-33d11e762bce"
      },
      "source": [
        "We'll work with the sinusoidal function:\n",
        "\n",
        "$$𝑓(𝑥)=𝐴⋅sin(𝐵⋅𝑥+𝐶)+𝐷$$"
      ]
    },
    {
      "cell_type": "markdown",
      "id": "dec6af49-e780-4a05-967a-b37957ae93ca",
      "metadata": {
        "id": "dec6af49-e780-4a05-967a-b37957ae93ca"
      },
      "source": [
        "## Step 1: Import Necessary Libraries\n",
        "\n",
        "First, let's import the required libraries.\n"
      ]
    },
    {
      "cell_type": "code",
      "execution_count": 1,
      "id": "347775b7-d129-47c1-8abf-910f20734394",
      "metadata": {
        "id": "347775b7-d129-47c1-8abf-910f20734394"
      },
      "outputs": [],
      "source": [
        "import numpy as np\n",
        "import matplotlib.pyplot as plt\n",
        "from sympy import symbols, diff, sin, pi, Eq, solve, limit, oo"
      ]
    },
    {
      "cell_type": "markdown",
      "source": [
        "**Step 2: Define the Function**\n",
        "\n",
        "Define the symbolic representation of the function and its components."
      ],
      "metadata": {
        "id": "uk5TWPRcPzGt"
      },
      "id": "uk5TWPRcPzGt"
    },
    {
      "cell_type": "code",
      "source": [
        "# Symbolic representation\n",
        "x = symbols('x')\n",
        "A = 2  # Amplitude\n",
        "B = 1  # Frequency\n",
        "C = pi / 4  # Phase shift\n",
        "D = 0  # Vertical shift\n",
        "\n",
        "f = A * sin(B * x + C) + D"
      ],
      "metadata": {
        "id": "ZKL4Y9fhP6Qw"
      },
      "id": "ZKL4Y9fhP6Qw",
      "execution_count": 3,
      "outputs": []
    },
    {
      "cell_type": "markdown",
      "source": [
        "**Step 3: Domain of the Function**\n",
        "\n",
        "The domain of a sine function is all real numbers because sine can take any real value. Therefore, the domain is:"
      ],
      "metadata": {
        "id": "6Muho2MJQHgu"
      },
      "id": "6Muho2MJQHgu"
    },
    {
      "cell_type": "code",
      "source": [
        "domain = (-np.inf, np.inf)\n",
        "print(\"Domain: All real numbers\")"
      ],
      "metadata": {
        "colab": {
          "base_uri": "https://localhost:8080/"
        },
        "id": "wbCaWJQfQJwf",
        "outputId": "cb214fc5-1b0a-4e58-fa6d-09b70b0e0c08"
      },
      "id": "wbCaWJQfQJwf",
      "execution_count": 4,
      "outputs": [
        {
          "output_type": "stream",
          "name": "stdout",
          "text": [
            "Domain: All real numbers\n"
          ]
        }
      ]
    },
    {
      "cell_type": "markdown",
      "source": [
        "**Step 4: Range of the Function**\n",
        "\n",
        "The range of a sine function is from −𝐴 to 𝐴 for amplitude 𝐴. Hence, the range is:"
      ],
      "metadata": {
        "id": "nooosHqaQbfg"
      },
      "id": "nooosHqaQbfg"
    },
    {
      "cell_type": "code",
      "source": [
        "range_function = (D - A, D + A)\n",
        "print(f\"Range: {range_function}\")"
      ],
      "metadata": {
        "colab": {
          "base_uri": "https://localhost:8080/"
        },
        "id": "KqqYkixFQkIw",
        "outputId": "09bf61ff-60a4-43a2-fc6c-231846bce6a1"
      },
      "id": "KqqYkixFQkIw",
      "execution_count": 5,
      "outputs": [
        {
          "output_type": "stream",
          "name": "stdout",
          "text": [
            "Range: (-2, 2)\n"
          ]
        }
      ]
    },
    {
      "cell_type": "markdown",
      "source": [
        "**Step 5: X-intercepts (Roots)**\n",
        "\n",
        "The x-intercepts occur when 𝑓(𝑥)=0. Solving for 𝑥 when the function equals zero:"
      ],
      "metadata": {
        "id": "fYo8fA9IQqrU"
      },
      "id": "fYo8fA9IQqrU"
    },
    {
      "cell_type": "code",
      "source": [
        "x_intercepts = solve(Eq(f, 0), x)\n",
        "print(f\"X-intercepts: {x_intercepts}\")"
      ],
      "metadata": {
        "colab": {
          "base_uri": "https://localhost:8080/"
        },
        "id": "e9GCmlj8QxbP",
        "outputId": "48a96766-4e9e-4426-ab4e-e17748bdb917"
      },
      "id": "e9GCmlj8QxbP",
      "execution_count": 6,
      "outputs": [
        {
          "output_type": "stream",
          "name": "stdout",
          "text": [
            "X-intercepts: [-pi/4, 3*pi/4]\n"
          ]
        }
      ]
    },
    {
      "cell_type": "markdown",
      "source": [
        "**Step 6: Y-intercepts**\n",
        "\n",
        "The y-intercept occurs when 𝑥=0, so we evaluate the function at 𝑥=0:"
      ],
      "metadata": {
        "id": "wqWmCjNxQ50L"
      },
      "id": "wqWmCjNxQ50L"
    },
    {
      "cell_type": "code",
      "source": [
        "y_intercept = f.subs(x, 0)\n",
        "print(f\"Y-intercept: {y_intercept}\")"
      ],
      "metadata": {
        "colab": {
          "base_uri": "https://localhost:8080/"
        },
        "id": "VHHSMpQPQ-5b",
        "outputId": "8c0d774d-6a7c-44d7-ae51-97a5bead7ab8"
      },
      "id": "VHHSMpQPQ-5b",
      "execution_count": 7,
      "outputs": [
        {
          "output_type": "stream",
          "name": "stdout",
          "text": [
            "Y-intercept: sqrt(2)\n"
          ]
        }
      ]
    },
    {
      "cell_type": "markdown",
      "source": [
        "**Step 7: Continuity of the Function**\n",
        "\n",
        "Sine functions are continuous for all 𝑥, so:"
      ],
      "metadata": {
        "id": "zHyntf1_RK8Q"
      },
      "id": "zHyntf1_RK8Q"
    },
    {
      "cell_type": "code",
      "source": [
        "print(\"Continuity: Continuous for all x\")"
      ],
      "metadata": {
        "colab": {
          "base_uri": "https://localhost:8080/"
        },
        "id": "nIN6gjOUROCy",
        "outputId": "ad335974-e5fb-44fc-d84b-1ccdd4d6b83c"
      },
      "id": "nIN6gjOUROCy",
      "execution_count": 8,
      "outputs": [
        {
          "output_type": "stream",
          "name": "stdout",
          "text": [
            "Continuity: Continuous for all x\n"
          ]
        }
      ]
    },
    {
      "cell_type": "markdown",
      "source": [
        "**Step 8: Symmetry of the Function**\n",
        "\n",
        "Sine functions have odd symmetry, meaning 𝑓(−𝑥)=−𝑓(𝑥):"
      ],
      "metadata": {
        "id": "elPtHbB8RUHu"
      },
      "id": "elPtHbB8RUHu"
    },
    {
      "cell_type": "code",
      "source": [
        "print(\"Symmetry: Odd Function\")"
      ],
      "metadata": {
        "colab": {
          "base_uri": "https://localhost:8080/"
        },
        "id": "gNX71YcnRYya",
        "outputId": "ec9081e3-f47f-4f0e-fb6f-70335874ce49"
      },
      "id": "gNX71YcnRYya",
      "execution_count": 9,
      "outputs": [
        {
          "output_type": "stream",
          "name": "stdout",
          "text": [
            "Symmetry: Odd Function\n"
          ]
        }
      ]
    },
    {
      "cell_type": "markdown",
      "source": [
        "**Step 9: Periodicity of the Function**\n",
        "\n",
        "The period of the sine function is given by:\n",
        "$$T=\\frac{2\\pi}{|B|}$$"
      ],
      "metadata": {
        "id": "xvn3lS0ydzuN"
      },
      "id": "xvn3lS0ydzuN"
    },
    {
      "cell_type": "code",
      "source": [
        "period = 2 * np.pi / abs(B)\n",
        "print(f\"Period: {period}\")"
      ],
      "metadata": {
        "colab": {
          "base_uri": "https://localhost:8080/"
        },
        "id": "yj5k4WJdeAbf",
        "outputId": "ac933225-99bd-4c30-d9f7-4dd40a938bca"
      },
      "id": "yj5k4WJdeAbf",
      "execution_count": 10,
      "outputs": [
        {
          "output_type": "stream",
          "name": "stdout",
          "text": [
            "Period: 6.283185307179586\n"
          ]
        }
      ]
    },
    {
      "cell_type": "markdown",
      "source": [
        "**Step 10: Increasing/Decreasing Intervals**\n",
        "\n",
        "To find the increasing and decreasing intervals, we first compute the first derivative:"
      ],
      "metadata": {
        "id": "q5TPlkwxeHGp"
      },
      "id": "q5TPlkwxeHGp"
    },
    {
      "cell_type": "code",
      "source": [
        "f_prime = diff(f, x)\n",
        "print(f\"First derivative: {f_prime}\")"
      ],
      "metadata": {
        "colab": {
          "base_uri": "https://localhost:8080/"
        },
        "id": "9OaxEmCieNdc",
        "outputId": "cbebbe6f-7716-4683-a404-d8990dcc7ad5"
      },
      "id": "9OaxEmCieNdc",
      "execution_count": 11,
      "outputs": [
        {
          "output_type": "stream",
          "name": "stdout",
          "text": [
            "First derivative: 2*cos(x + pi/4)\n"
          ]
        }
      ]
    },
    {
      "cell_type": "markdown",
      "source": [
        "Now, we find where the first derivative is positive (increasing) or negative (decreasing):"
      ],
      "metadata": {
        "id": "WEIjwmNdeRhO"
      },
      "id": "WEIjwmNdeRhO"
    },
    {
      "cell_type": "code",
      "source": [
        "increasing_intervals = solve(Eq(f_prime, 0), x)\n",
        "print(f\"Critical points (where derivative is zero): {increasing_intervals}\")"
      ],
      "metadata": {
        "colab": {
          "base_uri": "https://localhost:8080/"
        },
        "id": "8CS9pzDneTL2",
        "outputId": "d461fd7e-c681-4a07-b29a-66a055f22d5c"
      },
      "id": "8CS9pzDneTL2",
      "execution_count": 12,
      "outputs": [
        {
          "output_type": "stream",
          "name": "stdout",
          "text": [
            "Critical points (where derivative is zero): [pi/4, 5*pi/4]\n"
          ]
        }
      ]
    },
    {
      "cell_type": "markdown",
      "source": [
        "**Step 11: Second Derivative Test**\n",
        "\n",
        "The second derivative test helps us classify the critical points (concave up or concave down)."
      ],
      "metadata": {
        "id": "KisL_AzseiLb"
      },
      "id": "KisL_AzseiLb"
    },
    {
      "cell_type": "code",
      "source": [
        "f_double_prime = diff(f_prime, x)\n",
        "print(f\"Second derivative: {f_double_prime}\")"
      ],
      "metadata": {
        "colab": {
          "base_uri": "https://localhost:8080/"
        },
        "id": "zAP6Qpeselxv",
        "outputId": "0c280dde-bb76-4f8e-cf7c-152fb703a17e"
      },
      "id": "zAP6Qpeselxv",
      "execution_count": 13,
      "outputs": [
        {
          "output_type": "stream",
          "name": "stdout",
          "text": [
            "Second derivative: -2*sin(x + pi/4)\n"
          ]
        }
      ]
    },
    {
      "cell_type": "markdown",
      "source": [
        "**Step 12: Concavity of the Function**\n",
        "To determine concavity, find where the second derivative is positive (concave up) or negative (concave down):"
      ],
      "metadata": {
        "id": "W9HS9cl0evip"
      },
      "id": "W9HS9cl0evip"
    },
    {
      "cell_type": "code",
      "source": [
        "concave_up_intervals = solve(Eq(f_double_prime, 0), x)\n",
        "print(f\"Concave up intervals: {concave_up_intervals}\")"
      ],
      "metadata": {
        "colab": {
          "base_uri": "https://localhost:8080/"
        },
        "id": "5wYWyOdPexh_",
        "outputId": "a2ed767c-5d38-466d-ed0e-8e42eef50b1e"
      },
      "id": "5wYWyOdPexh_",
      "execution_count": 14,
      "outputs": [
        {
          "output_type": "stream",
          "name": "stdout",
          "text": [
            "Concave up intervals: [-pi/4, 3*pi/4]\n"
          ]
        }
      ]
    },
    {
      "cell_type": "markdown",
      "source": [
        "**Step 13: Inflection Points**\n",
        "\n",
        "Inflection points occur where the second derivative changes sign:\n"
      ],
      "metadata": {
        "id": "VN-rlzSHe9am"
      },
      "id": "VN-rlzSHe9am"
    },
    {
      "cell_type": "code",
      "source": [
        "inflection_points = solve(Eq(f_double_prime, 0), x)\n",
        "print(f\"Inflection points: {inflection_points}\")"
      ],
      "metadata": {
        "colab": {
          "base_uri": "https://localhost:8080/"
        },
        "id": "v0ZO73YifAtf",
        "outputId": "d32fe483-9c53-40f0-cb65-9a0d8efce551"
      },
      "id": "v0ZO73YifAtf",
      "execution_count": 15,
      "outputs": [
        {
          "output_type": "stream",
          "name": "stdout",
          "text": [
            "Inflection points: [-pi/4, 3*pi/4]\n"
          ]
        }
      ]
    },
    {
      "cell_type": "markdown",
      "source": [
        "**Step 14: Limits of the Function**\n",
        "\n",
        "Sine functions have limits as 𝑥 approaches positive or negative infinity. We can compute:"
      ],
      "metadata": {
        "id": "0Ej2S9kofHCU"
      },
      "id": "0Ej2S9kofHCU"
    },
    {
      "cell_type": "code",
      "source": [
        "limit_positive_infinity = limit(f, x, oo)\n",
        "limit_negative_infinity = limit(f, x, -oo)\n",
        "print(f\"Limit as x -> ∞: {limit_positive_infinity}\")\n",
        "print(f\"Limit as x -> -∞: {limit_negative_infinity}\")"
      ],
      "metadata": {
        "colab": {
          "base_uri": "https://localhost:8080/"
        },
        "id": "TAqcgzatfLAw",
        "outputId": "f8e679e4-d40a-43ce-d070-90248768d003"
      },
      "id": "TAqcgzatfLAw",
      "execution_count": 16,
      "outputs": [
        {
          "output_type": "stream",
          "name": "stdout",
          "text": [
            "Limit as x -> ∞: AccumBounds(-2, 2)\n",
            "Limit as x -> -∞: AccumBounds(-2, 2)\n"
          ]
        }
      ]
    },
    {
      "cell_type": "markdown",
      "source": [
        "**Step 15: Area Under the Curve**\n",
        "\n",
        "To compute the area under the curve over a given interval, we integrate the function:"
      ],
      "metadata": {
        "id": "7zbxHm7VfXYW"
      },
      "id": "7zbxHm7VfXYW"
    },
    {
      "cell_type": "code",
      "source": [
        "from sympy import integrate\n",
        "\n",
        "area = integrate(f, (x, 0, 10))\n",
        "print(f\"Area under the curve from 0 to 10: {area}\")"
      ],
      "metadata": {
        "colab": {
          "base_uri": "https://localhost:8080/"
        },
        "id": "ehAbHh_Qfagi",
        "outputId": "f25a4ee4-2b7f-4e07-867a-3f69868392b7"
      },
      "id": "ehAbHh_Qfagi",
      "execution_count": 17,
      "outputs": [
        {
          "output_type": "stream",
          "name": "stdout",
          "text": [
            "Area under the curve from 0 to 10: -2*cos(pi/4 + 10) + sqrt(2)\n"
          ]
        }
      ]
    },
    {
      "cell_type": "markdown",
      "source": [
        "**Step 16: Graph of the Function**\n",
        "\n",
        "Finally, let's plot the function to visualize everything:"
      ],
      "metadata": {
        "id": "DF00n7oKffB-"
      },
      "id": "DF00n7oKffB-"
    },
    {
      "cell_type": "code",
      "source": [
        "import numpy as np\n",
        "import matplotlib.pyplot as plt\n",
        "import sympy as sp\n",
        "\n",
        "# Define parameters\n",
        "A = 2  # Amplitude\n",
        "B = 1  # Frequency\n",
        "C = sp.pi / 4  # Phase shift\n",
        "D = 0  # Vertical shift\n",
        "\n",
        "# Define symbolic variable\n",
        "x = sp.symbols('x')\n",
        "\n",
        "# Define the symbolic sinusoidal function\n",
        "f_sym = A * sp.sin(B * x + C) + D\n",
        "\n",
        "# Convert the symbolic function to a numerical function for plotting\n",
        "f_num = sp.lambdify(x, f_sym, \"numpy\")\n",
        "\n",
        "# Create an array of x-values (numerical range)\n",
        "x_vals = np.linspace(0, 10, 1000)\n",
        "\n",
        "# Evaluate the function at each x-value\n",
        "y_vals = f_num(x_vals)\n",
        "\n",
        "# Plot the graph\n",
        "plt.plot(x_vals, y_vals, label=r'$f(x) = 2\\sin(x + \\frac{\\pi}{4})$')\n",
        "plt.axhline(0, color='black', linewidth=0.5)\n",
        "plt.axvline(0, color='black', linewidth=0.5)\n",
        "plt.title(\"Sinusoidal Function\")\n",
        "plt.xlabel(\"x\")\n",
        "plt.ylabel(\"f(x)\")\n",
        "plt.legend()\n",
        "plt.grid(True)\n",
        "plt.show()"
      ],
      "metadata": {
        "colab": {
          "base_uri": "https://localhost:8080/",
          "height": 472
        },
        "id": "hqVFNsymfiDV",
        "outputId": "322f0079-61a7-4044-8560-82d16c74201d"
      },
      "id": "hqVFNsymfiDV",
      "execution_count": 20,
      "outputs": [
        {
          "output_type": "display_data",
          "data": {
            "text/plain": [
              "<Figure size 640x480 with 1 Axes>"
            ],
            "image/png": "[encoded data removed]"
          },
          "metadata": {}
        }
      ]
    }
  ],
  "metadata": {
    "kernelspec": {
      "display_name": "Python 3 (ipykernel)",
      "language": "python",
      "name": "python3"
    },
    "language_info": {
      "codemirror_mode": {
        "name": "ipython",
        "version": 3
      },
      "file_extension": ".py",
      "mimetype": "text/x-python",
      "name": "python",
      "nbconvert_exporter": "python",
      "pygments_lexer": "ipython3",
      "version": "3.12.2"
    },
    "colab": {
      "provenance": []
    }
  },
  "nbformat": 4,
  "nbformat_minor": 5
}