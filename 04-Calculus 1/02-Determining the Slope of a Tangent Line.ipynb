{
 "cells": [
  {
   "cell_type": "markdown",
   "id": "df7419a8-3058-4ac5-ab9f-109800f5d0f1",
   "metadata": {},
   "source": [
    "## 1. Introduction\n",
    "\n",
    "The slope of a tangent line to a curve at a given point is a fundamental concept in calculus. It represents the instantaneous rate of change of the function at that point. In simpler terms, it shows how steep the curve is at that specific location.\n",
    "\n",
    "## 2. Mathematical Background\n",
    "\n",
    "**2.1. Definition of a Tangent Line**\n",
    "\n",
    "A tangent line to the curve 𝑦=𝑓(𝑥) at the point (𝑥<sub>0</sub>,𝑦<sub>0</sub>) is a line that touches the curve at exactly one point and has the same slope as the curve at that point.\n",
    "\n",
    "**2.2. Slope of the Tangent Line**\n",
    "\n",
    "The slope of the tangent line at a point 𝑥=𝑥<sub>0</sub> is given by the derivative of the function at that point:\n",
    "\n",
    "$$m=f\\acute{}(x_{o})$$\n",
    "\n",
    "Where 𝑚 is the slope of the tangent line and is is the derivative of 𝑓(𝑥) at 𝑥<sub>0</sub>.\n",
    "\n",
    "## 3. Deriving the Slope: Using the Limit Definition\n",
    "\n",
    "The slope of the tangent line can be found using the limit definition of the derivative:\n",
    "\n",
    "$$f\\acute{}(x_{o})=lim_{h\\to 0}\\frac{f(x_{0}+h)-f(x_{0})}{h}$$\n",
    "\n",
    "**3.1. Explanation:**\n",
    "\n",
    "* 𝑥<sub>0</sub> is the point at which we want the tangent slope.\n",
    "* h is a small change in 𝑥.\n",
    "* The expression inside the limit is the slope of the secant line, which approaches the slope of the tangent line as ℎ approaches zero.\n",
    "\n",
    "## 4. Example Calculation\n",
    "\n",
    "Let's determine the slope of the tangent line to the function:\n",
    "\n",
    "$$f(x)=x^{2}$$\n",
    "\n",
    "at the point 𝑥<sub>0</sub>=2.\n",
    "\n",
    "**4.1. Applying the Limit Definition:**\n",
    "\n",
    "$$f\\acute{}(2)=lim_{h\\to 0}\\frac{f(2+h)-f(2)}{h}=lim_{h\\to 0}\\frac{(2+h)^2-(2)^2}{h}=lim_{h\\to 0}\\frac{4h+h^2}{h}=lim_{h\\to 0}(4+h)=4$$\n",
    "\n",
    "## 5. Python Implementation\n",
    "\n",
    "We will use the SymPy library in Python to automate the process of calculating the slope of the tangent line.\n",
    "\n",
    "**Requirements:**\n",
    "\n",
    "Install SymPy if you haven't already:"
   ]
  },
  {
   "cell_type": "code",
   "execution_count": null,
   "id": "c17ce6e1-8605-44c3-a859-a81827332cc8",
   "metadata": {},
   "outputs": [],
   "source": [
    "pip install sympy"
   ]
  },
  {
   "cell_type": "markdown",
   "id": "adaf20f4-22bf-4119-84ad-f71a45525d82",
   "metadata": {},
   "source": [
    "**Python Code:**"
   ]
  },
  {
   "cell_type": "code",
   "execution_count": 2,
   "id": "c3b1471c-fccf-44b0-950c-d22e8160a67c",
   "metadata": {},
   "outputs": [
    {
     "name": "stdout",
     "output_type": "stream",
     "text": [
      "Function: f(x) = x**2\n",
      "Derivative: f'(x) = 2*x\n",
      "Slope of the tangent line at x = 2 is 4\n"
     ]
    }
   ],
   "source": [
    "import sympy as sp\n",
    "\n",
    "# Define the variable and function\n",
    "x = sp.symbols('x')\n",
    "f = x**2\n",
    "\n",
    "# Calculate the derivative\n",
    "f_prime = sp.diff(f, x)\n",
    "\n",
    "# Define the point where we want the tangent slope\n",
    "x0 = 2\n",
    "\n",
    "# Calculate the slope of the tangent line at x0\n",
    "slope = f_prime.subs(x, x0)\n",
    "\n",
    "# Display the results\n",
    "print(f\"Function: f(x) = {f}\")\n",
    "print(f\"Derivative: f'(x) = {f_prime}\")\n",
    "print(f\"Slope of the tangent line at x = {x0} is {slope}\")"
   ]
  }
 ],
 "metadata": {
  "kernelspec": {
   "display_name": "Python 3 (ipykernel)",
   "language": "python",
   "name": "python3"
  },
  "language_info": {
   "codemirror_mode": {
    "name": "ipython",
    "version": 3
   },
   "file_extension": ".py",
   "mimetype": "text/x-python",
   "name": "python",
   "nbconvert_exporter": "python",
   "pygments_lexer": "ipython3",
   "version": "3.12.2"
  }
 },
 "nbformat": 4,
 "nbformat_minor": 5
}
