{
 "cells": [
  {
   "cell_type": "markdown",
   "id": "22934416-e27f-4ce0-84c4-f9520e4bca9c",
   "metadata": {},
   "source": [
    "**Mathematical Background: Calculating Areas Between Curves**\n",
    "\n",
    "The area between two curves is found by integrating the vertical difference between them over a given interval. Suppose we have two functions 𝑓(𝑥) and 𝑔(𝑥), where 𝑓(𝑥)≥𝑔(𝑥) on the interval [𝑎,𝑏]. The area 𝐴 between these curves is given by:\n",
    "$$ \\int_{a}^{b} (f(x)-g(x)) \\,dx $$\n",
    "\n",
    "**Key Steps:**\n",
    "- Identify the functions 𝑓(𝑥) (the upper curve) and 𝑔(𝑥) (the lower curve).\n",
    "- Determine the interval [𝑎,𝑏] by finding their points of intersection (solve 𝑓(𝑥)=𝑔(𝑥)).\n",
    "- Integrate the difference 𝑓(𝑥)−𝑔(𝑥) over [𝑎,𝑏].\n",
    "\n",
    "For more complex scenarios, where the curves intersect multiple times or are defined by different functions over different intervals, you divide the area into sections, calculate each separately, and sum them."
   ]
  },
  {
   "cell_type": "markdown",
   "id": "c7bfe7d2-4828-4828-80ea-512af60a51f2",
   "metadata": {},
   "source": [
    "**Python Examples with SymPy**\n",
    "\n",
    "Let’s calculate areas between curves using SymPy."
   ]
  },
  {
   "cell_type": "markdown",
   "id": "25992a55-0221-4926-8a2c-9d651f151b8b",
   "metadata": {},
   "source": [
    "**Example 1: Area Between Two Parabolas**\n",
    "\n",
    "Consider $$𝑓(𝑥)=x^2+3$$ and $$g(x)=x^2-2$$ over their intersection points."
   ]
  },
  {
   "cell_type": "code",
   "execution_count": 7,
   "id": "cdec1447-f5b3-4605-a124-8e4b7e5f7f9b",
   "metadata": {},
   "outputs": [
    {
     "name": "stdout",
     "output_type": "stream",
     "text": [
      "Area between the curves from -1 to 1: 8\n"
     ]
    }
   ],
   "source": [
    "from sympy import symbols, integrate\n",
    "\n",
    "# Define symbols and functions\n",
    "x = symbols('x')\n",
    "f = x**2 + 2\n",
    "g = x**2 - 2\n",
    "\n",
    "# Define a specific range for integration\n",
    "lower_limit = -1  # Example: Change as needed\n",
    "upper_limit = 1   # Example: Change as needed\n",
    "\n",
    "# Compute the area\n",
    "area = integrate(f - g, (x, lower_limit, upper_limit))\n",
    "print(f\"Area between the curves from {lower_limit} to {upper_limit}: {area}\")"
   ]
  },
  {
   "cell_type": "markdown",
   "id": "af2ff099-d354-4bbf-aab9-3f932de05910",
   "metadata": {},
   "source": [
    "**Example 2: Area Between a Line and a Parabola**\n",
    "    \n",
    "Calculate the area between $$ f(x)=4-x^2 $$ and $$g(x)=x$$."
   ]
  },
  {
   "cell_type": "code",
   "execution_count": 8,
   "id": "4e177f01-0260-48bd-aa76-dafd2381f925",
   "metadata": {},
   "outputs": [
    {
     "name": "stdout",
     "output_type": "stream",
     "text": [
      "Area between the curves: -4*sqrt(17) - (-sqrt(17)/2 - 1/2)**2/2 + (-1/2 + sqrt(17)/2)**2/2 + (-1/2 + sqrt(17)/2)**3/3 - (-sqrt(17)/2 - 1/2)**3/3\n"
     ]
    }
   ],
   "source": [
    "# Define the functions\n",
    "f = 4 - x**2\n",
    "g = x\n",
    "\n",
    "# Find points of intersection\n",
    "intersection = solve(Eq(f, g), x)\n",
    "\n",
    "# Compute area\n",
    "area = integrate(f - g, (x, intersection[0], intersection[1]))\n",
    "print(f\"Area between the curves: {area}\")"
   ]
  },
  {
   "cell_type": "markdown",
   "id": "ef6770f1-76d9-4185-9968-e7bf4b1ca12e",
   "metadata": {},
   "source": [
    "**Example 3: Piecewise Area Calculation**\n",
    "    \n",
    "For $$f(x)=x^2+1$$ and $$g(s)=3$$ find the area over the interval [0,2]."
   ]
  },
  {
   "cell_type": "code",
   "execution_count": 9,
   "id": "ffc9d6cd-33ab-40fa-95d3-39f748e50027",
   "metadata": {},
   "outputs": [
    {
     "name": "stdout",
     "output_type": "stream",
     "text": [
      "Area between the curves: 4/3\n"
     ]
    }
   ],
   "source": [
    "# Define the functions\n",
    "f = x**2 + 1\n",
    "g = 3\n",
    "\n",
    "# Compute area\n",
    "area = integrate(g - f, (x, 0, 2))\n",
    "print(f\"Area between the curves: {area}\")"
   ]
  }
 ],
 "metadata": {
  "kernelspec": {
   "display_name": "Python 3 (ipykernel)",
   "language": "python",
   "name": "python3"
  },
  "language_info": {
   "codemirror_mode": {
    "name": "ipython",
    "version": 3
   },
   "file_extension": ".py",
   "mimetype": "text/x-python",
   "name": "python",
   "nbconvert_exporter": "python",
   "pygments_lexer": "ipython3",
   "version": "3.12.2"
  }
 },
 "nbformat": 4,
 "nbformat_minor": 5
}
