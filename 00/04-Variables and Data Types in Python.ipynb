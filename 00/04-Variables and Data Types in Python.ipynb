{
 "cells": [
  {
   "cell_type": "markdown",
   "id": "2a8edb56-28d8-49f8-a299-b3ea141b5e2e",
   "metadata": {},
   "source": [
    "**A. What Are Variables?**\n",
    "\n",
    "Variables in Python are containers for storing data values. They provide a way to label and store data in memory so you can refer to it easily later in your program."
   ]
  },
  {
   "cell_type": "markdown",
   "id": "7b5f5114-a076-470d-b875-a66894f47f6c",
   "metadata": {},
   "source": [
    "**B. How to Declare Variables?**\n",
    "\n",
    "You simply use an assignment operator (=) to assign a value to a variable."
   ]
  },
  {
   "cell_type": "markdown",
   "id": "8d38d3e8-bca6-45ea-b7d7-a27aada2b9ba",
   "metadata": {},
   "source": [
    "**C. Rules for Naming Variables**\n",
    "\n",
    "1. Variable names must start with a *letter* or an *underscore* (_).\n",
    "2. Variable names *cannot start with a number*.\n",
    "3. Variable names can only contain *alphanumeric characters and underscores* (A-Z, a-z, 0-9, _).\n",
    "4. Variable names are *case-sensitive* (*Age* and *age* are different)."
   ]
  },
  {
   "cell_type": "markdown",
   "id": "e97fefae-5132-462b-a75c-cc737739afee",
   "metadata": {},
   "source": [
    "**D. Data Types in Python**\n",
    "\n",
    "Python supports various data types. Each type is used to store specific kinds of data."
   ]
  },
  {
   "cell_type": "markdown",
   "id": "8d76c029-a0e2-47d2-85b2-21df9d49ee48",
   "metadata": {},
   "source": [
    "***1. Numeric Data Types***\n",
    "\n",
    "- *int*: Integer values (e.g., 1, 100, -10).\n",
    "- *float*: Decimal or floating-point values (e.g., 3.14, -2.5).\n",
    "- *complex*: Complex numbers (e.g., 3 + 5j)."
   ]
  },
  {
   "cell_type": "code",
   "execution_count": 3,
   "id": "1b0ee903-acde-4ae5-9424-f7bb8bace592",
   "metadata": {},
   "outputs": [
    {
     "name": "stdout",
     "output_type": "stream",
     "text": [
      "x is of type: <class 'int'>\n",
      "y is of type: <class 'float'>\n",
      "z is of type: <class 'complex'>\n"
     ]
    }
   ],
   "source": [
    "# Integer\n",
    "x = 10\n",
    "print(\"x is of type:\", type(x))  # Output: <class 'int'>\n",
    "\n",
    "# Float\n",
    "y = 3.14\n",
    "print(\"y is of type:\", type(y))  # Output: <class 'float'>\n",
    "\n",
    "# Complex\n",
    "z = 1 + 2j\n",
    "print(\"z is of type:\", type(z))  # Output: <class 'complex'>\n"
   ]
  },
  {
   "cell_type": "markdown",
   "id": "0803eead-b362-40bc-a32d-afb08d882a8b",
   "metadata": {},
   "source": [
    "***2. String Data Type***\n",
    "\n",
    "- *str*: Used to store text (enclosed in *single*, *double*, or *triple* quotes)."
   ]
  },
  {
   "cell_type": "code",
   "execution_count": 4,
   "id": "8f854e97-fc66-4456-b050-babe32940791",
   "metadata": {},
   "outputs": [
    {
     "name": "stdout",
     "output_type": "stream",
     "text": [
      "Yaser\n",
      "Hello\n",
      "This is\n",
      "a multiline\n",
      "string.\n"
     ]
    }
   ],
   "source": [
    "# Single and double quotes\n",
    "name = \"Yaser\"\n",
    "greeting = 'Hello'\n",
    "\n",
    "# Triple quotes for multiline strings\n",
    "paragraph = \"\"\"This is\n",
    "a multiline\n",
    "string.\"\"\"\n",
    "\n",
    "print(name)       # Output: Yaser\n",
    "print(greeting)   # Output: Hello\n",
    "print(paragraph)\n"
   ]
  },
  {
   "cell_type": "markdown",
   "id": "7b3b133f-f0a1-4f31-bb8c-0728c57ab433",
   "metadata": {},
   "source": [
    "***3. Boolean Data Type***\n",
    "\n",
    "- *bool*: Used to represent True or False."
   ]
  },
  {
   "cell_type": "code",
   "execution_count": 6,
   "id": "28fe8d09-380a-4810-8756-91acb74b04d6",
   "metadata": {},
   "outputs": [
    {
     "name": "stdout",
     "output_type": "stream",
     "text": [
      "<class 'bool'>\n"
     ]
    }
   ],
   "source": [
    "is_active = True\n",
    "is_logged_in = False\n",
    "\n",
    "print(type(is_active))  # Output: <class 'bool'>"
   ]
  },
  {
   "cell_type": "markdown",
   "id": "d1e8eb54-bbc5-43e4-b55a-2952acc1aa26",
   "metadata": {},
   "source": [
    "**4. Sequence Data Types**\n",
    "\n",
    "- *list*: Ordered and mutable collection (e.g., [1, 2, 3]).\n",
    "- *tuple*: Ordered and immutable collection (e.g., (1, 2, 3)).\n",
    "- *range*: Represents a sequence of numbers."
   ]
  },
  {
   "cell_type": "code",
   "execution_count": 7,
   "id": "18e7a944-3789-4db5-ac96-278bea671c22",
   "metadata": {},
   "outputs": [
    {
     "name": "stdout",
     "output_type": "stream",
     "text": [
      "List: [1, 2, 3, 4] Type: <class 'list'>\n",
      "Tuple: (10.0, 20.0) Type: <class 'tuple'>\n",
      "[0, 1, 2, 3, 4]\n"
     ]
    }
   ],
   "source": [
    "# List\n",
    "numbers = [1, 2, 3, 4]\n",
    "print(\"List:\", numbers, \"Type:\", type(numbers))  # Output: <class 'list'>\n",
    "\n",
    "# Tuple\n",
    "coordinates = (10.0, 20.0)\n",
    "print(\"Tuple:\", coordinates, \"Type:\", type(coordinates))  # Output: <class 'tuple'>\n",
    "\n",
    "# Range\n",
    "r = range(5)\n",
    "print(list(r))  # Output: [0, 1, 2, 3, 4]"
   ]
  },
  {
   "cell_type": "markdown",
   "id": "7d10a2fd-118a-4753-9a85-d67e9cd14587",
   "metadata": {},
   "source": [
    "***5. Mapping Data Type***\n",
    "- *dict*: A collection of key-value pairs (e.g., {\"key\": \"value\"})."
   ]
  },
  {
   "cell_type": "code",
   "execution_count": 8,
   "id": "b9470a07-0a91-447a-84b2-8fb3f7ee086a",
   "metadata": {},
   "outputs": [
    {
     "name": "stdout",
     "output_type": "stream",
     "text": [
      "Dictionary: {'name': 'Yaser', 'age': 30} Type: <class 'dict'>\n"
     ]
    }
   ],
   "source": [
    "person = {\"name\": \"Yaser\", \"age\": 30}\n",
    "print(\"Dictionary:\", person, \"Type:\", type(person))  # Output: <class 'dict'>"
   ]
  },
  {
   "cell_type": "markdown",
   "id": "2f3c92cd-adfc-47d3-af63-a25371a7fb27",
   "metadata": {},
   "source": [
    "***6. Set Data Types***\n",
    "\n",
    "- *set*: Unordered collection of unique elements (e.g., {1, 2, 3}).\n",
    "- *frozenset*: Immutable version of a set."
   ]
  },
  {
   "cell_type": "code",
   "execution_count": 9,
   "id": "0a34c1cf-3dab-46e5-bba4-5da02d099a4c",
   "metadata": {},
   "outputs": [
    {
     "name": "stdout",
     "output_type": "stream",
     "text": [
      "Set: {1, 2, 3} Type: <class 'set'>\n",
      "Frozenset: frozenset({1, 2, 3}) Type: <class 'frozenset'>\n"
     ]
    }
   ],
   "source": [
    "# Set\n",
    "unique_numbers = {1, 2, 3, 3}\n",
    "print(\"Set:\", unique_numbers, \"Type:\", type(unique_numbers))  # Output: {1, 2, 3}\n",
    "\n",
    "# Frozenset\n",
    "fs = frozenset({1, 2, 3})\n",
    "print(\"Frozenset:\", fs, \"Type:\", type(fs))  # Output: frozenset({1, 2, 3})"
   ]
  },
  {
   "cell_type": "markdown",
   "id": "755c2366-7d80-40d5-b007-7578085b6ad0",
   "metadata": {},
   "source": [
    "***7. None Type***\n",
    "    \n",
    "- *None*: Represents the absence of value or a null value."
   ]
  },
  {
   "cell_type": "code",
   "execution_count": 11,
   "id": "24680c4f-768c-45ce-b07b-d2dfac2db276",
   "metadata": {},
   "outputs": [
    {
     "name": "stdout",
     "output_type": "stream",
     "text": [
      "x is: None Type: <class 'NoneType'>\n"
     ]
    }
   ],
   "source": [
    "x = None\n",
    "print(\"x is:\", x, \"Type:\", type(x))  # Output: <class 'NoneType'>"
   ]
  },
  {
   "cell_type": "markdown",
   "id": "d57394ab-ace8-4b1d-a6bf-59bfa4a912f3",
   "metadata": {},
   "source": [
    "**Type Conversion**\n",
    "\n",
    "You can convert between different data types using built-in functions."
   ]
  },
  {
   "cell_type": "code",
   "execution_count": 13,
   "id": "aabd384e-3706-404d-a8ea-f0a41753c096",
   "metadata": {},
   "outputs": [
    {
     "name": "stdout",
     "output_type": "stream",
     "text": [
      "10 <class 'str'>\n",
      "20 <class 'int'>\n",
      "5.0 <class 'float'>\n"
     ]
    }
   ],
   "source": [
    "# Integer to String\n",
    "x = 10\n",
    "x_str = str(x)\n",
    "print(x_str, type(x_str))  # Output: '10' <class 'str'>\n",
    "\n",
    "# String to Integer\n",
    "y = \"20\"\n",
    "y_int = int(y)\n",
    "print(y_int, type(y_int))  # Output: 20 <class 'int'>\n",
    "\n",
    "# Integer to Float\n",
    "z = 5\n",
    "z_float = float(z)\n",
    "print(z_float, type(z_float))  # Output: 5.0 <class 'float'>"
   ]
  },
  {
   "cell_type": "markdown",
   "id": "354b5d24-b378-4f64-a51c-0c9fcd3c1b92",
   "metadata": {},
   "source": [
    "**E. Best Practices for Variables and Data Types**\n",
    "\n",
    "- Use descriptive names: Avoid names like x, y unless in simple examples.\n",
    "- Stick to a consistent naming convention: e.g., snake_case.\n",
    "- Be mindful of the type of data a variable holds."
   ]
  },
  {
   "cell_type": "code",
   "execution_count": null,
   "id": "7842d085-47f7-4501-bb5d-a2a59c3d9062",
   "metadata": {},
   "outputs": [],
   "source": []
  }
 ],
 "metadata": {
  "kernelspec": {
   "display_name": "Python 3 (ipykernel)",
   "language": "python",
   "name": "python3"
  },
  "language_info": {
   "codemirror_mode": {
    "name": "ipython",
    "version": 3
   },
   "file_extension": ".py",
   "mimetype": "text/x-python",
   "name": "python",
   "nbconvert_exporter": "python",
   "pygments_lexer": "ipython3",
   "version": "3.12.2"
  }
 },
 "nbformat": 4,
 "nbformat_minor": 5
}
