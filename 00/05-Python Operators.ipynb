{
 "cells": [
  {
   "cell_type": "markdown",
   "id": "7cdc5672-ace3-48e8-bea9-3d1a15a45fe7",
   "metadata": {},
   "source": [
    "**Python operators**\n",
    "\n",
    "Python operators are special symbols or keywords used to perform operations on variables and values. Here's a step-by-step guide to understanding Python operators with examples."
   ]
  },
  {
   "cell_type": "markdown",
   "id": "84526292-a8f0-4618-bc35-f7136bd5a1d1",
   "metadata": {},
   "source": [
    "**1. Arithmetic Operators**\n",
    "\n",
    "Used for mathematical operations.\n",
    "\n",
    "| Operator | Description | Example | Result |\n",
    "| --- | --- | --- | --- | \n",
    "| + | Addition | 5 + 3 | 8 |\n",
    "| - | Subtraction | 5 - 3 | 2 | \n",
    "| * | Multiplication | 5 * 3 | 15 | \n",
    "| / | Division | 5 / 3 | 1.67 | \n",
    "| // | Floor Division | 5 // 3 | 1 | \n",
    "| % | Modulus (Remainder) | 5 % 3 | 2 | \n",
    "| ** | Exponentiation | 5 ** 3 | 125 | "
   ]
  },
  {
   "cell_type": "code",
   "execution_count": 1,
   "id": "af6d50d6-d267-42cb-b9ec-fc14240d2aaf",
   "metadata": {},
   "outputs": [
    {
     "name": "stdout",
     "output_type": "stream",
     "text": [
      "Addition: 13\n",
      "Subtraction: 7\n",
      "Multiplication: 30\n",
      "Division: 3.3333333333333335\n",
      "Floor Division: 3\n",
      "Modulus: 1\n",
      "Exponentiation: 1000\n"
     ]
    }
   ],
   "source": [
    "a = 10\n",
    "b = 3\n",
    "print(\"Addition:\", a + b)\n",
    "print(\"Subtraction:\", a - b)\n",
    "print(\"Multiplication:\", a * b)\n",
    "print(\"Division:\", a / b)\n",
    "print(\"Floor Division:\", a // b)\n",
    "print(\"Modulus:\", a % b)\n",
    "print(\"Exponentiation:\", a ** b)"
   ]
  },
  {
   "cell_type": "markdown",
   "id": "4d01bf87-de0e-4291-ab32-a6fe2d8ba4db",
   "metadata": {},
   "source": [
    "**2. Comparison (Relational) Operators**\n",
    "\n",
    "Compare two values and return *True* or *False*.\n",
    "\n",
    "| Operator | Description | Example | Result |\n",
    "| --- | --- | --- | --- | \n",
    "| == | Equal to | 5 == 3 | False |\n",
    "| != | Not equal to | 5 != 3 | True | \n",
    "| > | Greater than | 5 > 3 | True | \n",
    "| < | Less than | 5 < 3 | False | \n",
    "| >= | Greater than or equal | 5 >= 3 | True | \n",
    "| <= | Less than or equal | 5 <= 3 | False | "
   ]
  },
  {
   "cell_type": "code",
   "execution_count": 2,
   "id": "52ddcbda-ec9a-4144-a6c6-93b279b4b068",
   "metadata": {},
   "outputs": [
    {
     "name": "stdout",
     "output_type": "stream",
     "text": [
      "x == y: False\n",
      "x != y: True\n",
      "x > y: True\n",
      "x < y: False\n",
      "x >= y: True\n",
      "x <= y: False\n"
     ]
    }
   ],
   "source": [
    "x = 10\n",
    "y = 5\n",
    "\n",
    "print(\"x == y:\", x == y)\n",
    "print(\"x != y:\", x != y)\n",
    "print(\"x > y:\", x > y)\n",
    "print(\"x < y:\", x < y)\n",
    "print(\"x >= y:\", x >= y)\n",
    "print(\"x <= y:\", x <= y)"
   ]
  },
  {
   "cell_type": "markdown",
   "id": "eab39313-8e3e-487b-8844-4ba040f7ceae",
   "metadata": {},
   "source": [
    "**3. Logical Operators**\n",
    "\n",
    "Combine conditional statements.\n",
    "\n",
    "| Operator | Description | Example | Result |\n",
    "| --- | --- | --- | --- | \n",
    "| and | Logical AND | 5 > 3 and 4 > 2 | True |\n",
    "| or | Logical OR | 5 > 3 or 4 < 2 | True | \n",
    "| not | Logical NOT | not(5 > 3) | False | "
   ]
  },
  {
   "cell_type": "code",
   "execution_count": 3,
   "id": "bc7820f2-063d-4edf-90ae-672fb17286ae",
   "metadata": {},
   "outputs": [
    {
     "name": "stdout",
     "output_type": "stream",
     "text": [
      "a and b: False\n",
      "a or b: True\n",
      "not a: False\n"
     ]
    }
   ],
   "source": [
    "a = True\n",
    "b = False\n",
    "\n",
    "print(\"a and b:\", a and b)\n",
    "print(\"a or b:\", a or b)\n",
    "print(\"not a:\", not a)"
   ]
  },
  {
   "cell_type": "markdown",
   "id": "962792b6-7e30-4e4b-8dd6-2c224a6a169c",
   "metadata": {},
   "source": [
    "**4. Assignment Operators**\n",
    "\n",
    "Used to assign values to variables.\n",
    "\n",
    "| Operator | Description | Example | Result |\n",
    "| --- | --- | --- | --- | \n",
    "| = | Assign | x = 5 | x = 5 |\n",
    "| += | Add and assign | x += 3 | x = 8 | \n",
    "| -= | Subtract and assign | x -= 2 | x = 6 | \n",
    "| *= | Multiply and assign | x *= 2 | x = 12 | \n",
    "| /= | Divide and assign | x /= 4 | x = 3 | \n",
    "| %= | Modulus and assign | x %= 2 | x = 1 | \n",
    "| **= | Power and assign | x **= 3 | x = 1 | \n",
    "| //= | Floor divide assign | x //= 2 | x = 0 | "
   ]
  },
  {
   "cell_type": "code",
   "execution_count": 5,
   "id": "d1d49a91-92b6-4e3b-82b7-4ce9949a830b",
   "metadata": {},
   "outputs": [
    {
     "name": "stdout",
     "output_type": "stream",
     "text": [
      "x after += 5: 15\n",
      "x after *= 2: 30\n",
      "x after //= 3: 10\n"
     ]
    }
   ],
   "source": [
    "x = 10\n",
    "x += 5\n",
    "\n",
    "print(\"x after += 5:\", x)\n",
    "x *= 2\n",
    "print(\"x after *= 2:\", x)\n",
    "x //= 3\n",
    "print(\"x after //= 3:\", x)"
   ]
  },
  {
   "cell_type": "markdown",
   "id": "d8b85f59-96a0-4a81-987c-ba0fd65ff49e",
   "metadata": {},
   "source": [
    "**5. Bitwise Operators**\n",
    "\n",
    "Perform operations on *binary numbers*.\n",
    "\n",
    "| Operator | Description | Example | Result |\n",
    "| --- | --- | --- | --- | \n",
    "| & | AND | 5 & 3 | 1 |\n",
    "| ` | ` | OR | 5 | \n",
    "| ^ | XOR | 5 ^ 3 | 6 | \n",
    "| ~ | NOT | ~5 | -6 | \n",
    "| << | Left shift | 5 << 1 | 10 | \n",
    "| >> | Right shift | 5 >> 1 | 2 | "
   ]
  },
  {
   "cell_type": "code",
   "execution_count": 7,
   "id": "53911696-b478-447d-8051-60fa2a7c8e9d",
   "metadata": {},
   "outputs": [
    {
     "name": "stdout",
     "output_type": "stream",
     "text": [
      "a & b: 1\n",
      "a | b: 7\n",
      "a ^ b: 6\n",
      "~a: -6\n",
      "a << 1: 10\n",
      "a >> 1: 2\n"
     ]
    }
   ],
   "source": [
    "a = 5  # Binary: 0101\n",
    "b = 3  # Binary: 0011\n",
    "\n",
    "print(\"a & b:\", a & b)\n",
    "print(\"a | b:\", a | b)\n",
    "print(\"a ^ b:\", a ^ b)\n",
    "print(\"~a:\", ~a)\n",
    "print(\"a << 1:\", a << 1)\n",
    "print(\"a >> 1:\", a >> 1)"
   ]
  },
  {
   "cell_type": "markdown",
   "id": "4cf1b73f-5b02-41c7-abe3-586cc68556d1",
   "metadata": {},
   "source": [
    "**6. Membership Operators**\n",
    "\n",
    "Test membership in sequences like strings, lists, etc.\n",
    "\n",
    "| Operator | Description | Example | Result |\n",
    "| --- | --- | --- | --- | \n",
    "| in | Present in sequence | 'a' in 'abc' | True |\n",
    "| not in | Not present in sequence | 'd' not in 'abc' | True | "
   ]
  },
  {
   "cell_type": "code",
   "execution_count": 9,
   "id": "dd495c00-71dd-4af5-9b18-1e4bedf6a653",
   "metadata": {},
   "outputs": [
    {
     "name": "stdout",
     "output_type": "stream",
     "text": [
      "2 in my_list: True\n",
      "4 not in my_list: True\n"
     ]
    }
   ],
   "source": [
    "my_list = [1, 2, 3]\n",
    "\n",
    "print(\"2 in my_list:\", 2 in my_list)\n",
    "print(\"4 not in my_list:\", 4 not in my_list)"
   ]
  },
  {
   "cell_type": "markdown",
   "id": "af13205c-f6dc-4954-be19-4072d25bb74d",
   "metadata": {},
   "source": [
    "**7. Identity Operators**\n",
    "\n",
    "Check if two variables are the same object.\n",
    "\n",
    "| Operator | Description | Example | Result |\n",
    "| --- | --- | --- | --- | \n",
    "| is | Same object | x is y | True |\n",
    "| is not | Not same object | x is not y | True | "
   ]
  },
  {
   "cell_type": "code",
   "execution_count": 11,
   "id": "f50c0ed5-7125-4dde-b1fb-15f44ce08f60",
   "metadata": {},
   "outputs": [
    {
     "name": "stdout",
     "output_type": "stream",
     "text": [
      "x is y: True\n",
      "x is z: False\n"
     ]
    }
   ],
   "source": [
    "x = [1, 2, 3]\n",
    "y = x\n",
    "z = [1, 2, 3]\n",
    "\n",
    "print(\"x is y:\", x is y)  # True, same object\n",
    "print(\"x is z:\", x is z)  # False, different objects"
   ]
  }
 ],
 "metadata": {
  "kernelspec": {
   "display_name": "Python 3 (ipykernel)",
   "language": "python",
   "name": "python3"
  },
  "language_info": {
   "codemirror_mode": {
    "name": "ipython",
    "version": 3
   },
   "file_extension": ".py",
   "mimetype": "text/x-python",
   "name": "python",
   "nbconvert_exporter": "python",
   "pygments_lexer": "ipython3",
   "version": "3.12.2"
  }
 },
 "nbformat": 4,
 "nbformat_minor": 5
}
