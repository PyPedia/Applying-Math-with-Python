{
 "cells": [
  {
   "cell_type": "markdown",
   "id": "042682dd-3a8e-48ef-8409-3533b1fc87f6",
   "metadata": {},
   "source": [
    "**What is a Taylor Series?**\n",
    "\n",
    "A Taylor series is a way to represent a function 𝑓(𝑥) as an infinite sum of terms calculated from the derivatives of the function at a single point. It is a powerful tool in mathematics and physics for approximating functions.\n",
    "\n",
    "**Mathematical Background**\n",
    "\n",
    "The Taylor series for a function 𝑓(𝑥) around a point 𝑎 is given by:\n",
    "\n",
    "$$f(x)=f(a)+f\\acute{(a)}(x-a)-\\frac{f''(a)}{2!}(x-a)^{2}+\\frac{f'''(a)}{3!}(x-a)^{3}-...$$\n",
    "\n",
    "In general:\n",
    "\n",
    "$$f(x)=\\sum_{n=0}^{\\infty }\\frac{f^{(n)}(a)}{n!}(x-a)^{n}$$\n",
    "\n",
    "The Taylor series is centered around 𝑎, and when 𝑎=0, it is called a *Maclaurin series*:\n",
    "\n",
    "$$f(x)=\\sum_{n=0}^{\\infty }\\frac{f^{(n)}(0)}{n!}x^{n}$$\n",
    "\n",
    "**Convergence**\n",
    "\n",
    "The Taylor series converges to 𝑓(𝑥) if the series approaches 𝑓(𝑥) as 𝑛→∞. The region where this happens depends on the function."
   ]
  },
  {
   "cell_type": "markdown",
   "id": "b7e83340-9b81-4966-b4d1-a6c3790c0e69",
   "metadata": {},
   "source": [
    "**Examples in Python**"
   ]
  },
  {
   "cell_type": "markdown",
   "id": "fdbd77cb-efa5-47fc-a2dc-c0aea57008b6",
   "metadata": {},
   "source": [
    "***1. Approximating*** $$e^{x}=1+x+\\frac{x^{2}}{2!}+\\frac{x^{3}}{3!}+...$$"
   ]
  },
  {
   "cell_type": "code",
   "execution_count": 1,
   "id": "0e746f47-4ebe-4310-b6ea-9d0c09a3eb4b",
   "metadata": {},
   "outputs": [
    {
     "name": "stdout",
     "output_type": "stream",
     "text": [
      "Taylor Approximation of e^1: 2.7182815255731922\n",
      "Actual Value of e^1: 2.718281828459045\n"
     ]
    }
   ],
   "source": [
    "import math\n",
    "\n",
    "def taylor_exp(x, terms=10):\n",
    "    result = 0\n",
    "    for n in range(terms):\n",
    "        result += (x**n) / math.factorial(n)\n",
    "    return result\n",
    "\n",
    "# Example\n",
    "x = 1  # Approximating e^1\n",
    "approx = taylor_exp(x, terms=10)\n",
    "actual = math.exp(x)\n",
    "print(f\"Taylor Approximation of e^{x}: {approx}\")\n",
    "print(f\"Actual Value of e^{x}: {actual}\")"
   ]
  },
  {
   "cell_type": "markdown",
   "id": "18ba7a75-d7d7-41a4-9bbc-b0a87cfdece3",
   "metadata": {},
   "source": [
    "***2. Approximating*** $$sin(x)=x-\\frac{x^{3}}{3!}+\\frac{x^{5}}{5!}-\\frac{x^{7}}{7!}+...$$"
   ]
  },
  {
   "cell_type": "code",
   "execution_count": 2,
   "id": "f1e0c876-19ba-4594-9e3b-e45d2f894ccf",
   "metadata": {},
   "outputs": [
    {
     "name": "stdout",
     "output_type": "stream",
     "text": [
      "Taylor Approximation of sin(0.7853981633974483): 0.7071067811865475\n",
      "Actual Value of sin(0.7853981633974483): 0.7071067811865476\n"
     ]
    }
   ],
   "source": [
    "def taylor_sin(x, terms=10):\n",
    "    result = 0\n",
    "    for n in range(terms):\n",
    "        coefficient = (-1)**n\n",
    "        result += coefficient * (x**(2*n + 1)) / math.factorial(2*n + 1)\n",
    "    return result\n",
    "\n",
    "# Example\n",
    "x = math.pi / 4  # Approximating sin(pi/4)\n",
    "approx = taylor_sin(x, terms=10)\n",
    "actual = math.sin(x)\n",
    "print(f\"Taylor Approximation of sin({x}): {approx}\")\n",
    "print(f\"Actual Value of sin({x}): {actual}\")"
   ]
  },
  {
   "cell_type": "markdown",
   "id": "3acfa6f1-c433-4c7e-b22b-a766d5b5fb40",
   "metadata": {},
   "source": [
    "***3. Approximating***\n",
    "\n",
    "$$cos(x)=1-\\frac{x^{2}}{2!}+\\frac{x^{4}}{4!}-\\frac{x^{6}}{6!}+...$$"
   ]
  },
  {
   "cell_type": "code",
   "execution_count": 3,
   "id": "9f3821c4-559a-4975-a145-52903ba4fabd",
   "metadata": {},
   "outputs": [
    {
     "name": "stdout",
     "output_type": "stream",
     "text": [
      "Taylor Approximation of cos(0.7853981633974483): 0.7071067811865475\n",
      "Actual Value of cos(0.7853981633974483): 0.7071067811865476\n"
     ]
    }
   ],
   "source": [
    "def taylor_cos(x, terms=10):\n",
    "    result = 0\n",
    "    for n in range(terms):\n",
    "        coefficient = (-1)**n\n",
    "        result += coefficient * (x**(2*n)) / math.factorial(2*n)\n",
    "    return result\n",
    "\n",
    "# Example\n",
    "x = math.pi / 4  # Approximating cos(pi/4)\n",
    "approx = taylor_cos(x, terms=10)\n",
    "actual = math.cos(x)\n",
    "print(f\"Taylor Approximation of cos({x}): {approx}\")\n",
    "print(f\"Actual Value of cos({x}): {actual}\")"
   ]
  },
  {
   "cell_type": "markdown",
   "id": "eaeddccc-fe9b-4642-b2f8-a2eabebf3ebe",
   "metadata": {},
   "source": [
    "**Error Analysis in Taylor Series Approximation**\n",
    "\n",
    "The error in a Taylor series approximation is called the remainder. For a Taylor series truncated at 𝑛-th term, the error can be approximated using:\n",
    "\n",
    "$$\\frac{f^{(n+1)}(c)}{(n+1)!}(x-a)^{n+1}$$\n",
    "\n",
    "- where 𝑐 is some point in the interval between 𝑎 (center) and 𝑥. \n",
    "- The exact value of 𝑐 is usually not known, but we can study the behavior of the error as 𝑛→∞."
   ]
  },
  {
   "cell_type": "markdown",
   "id": "e18048a5-3a96-4574-9a10-217e5291990f",
   "metadata": {},
   "source": [
    "**Python Implementation for Error Analysis**\n",
    "\n",
    "Let’s compare the approximation with the actual value and calculate the error for a few functions."
   ]
  },
  {
   "cell_type": "markdown",
   "id": "aa8d170e-57e5-4aa9-bf4d-f7d0a4569a8b",
   "metadata": {},
   "source": [
    "***1. Error Analysis for*** $$e^x$$"
   ]
  },
  {
   "cell_type": "code",
   "execution_count": 4,
   "id": "a3b6118e-3e12-47f7-b295-2ccd02a868ec",
   "metadata": {},
   "outputs": [
    {
     "name": "stdout",
     "output_type": "stream",
     "text": [
      "Taylor Approximation of e^1 with 5 terms: 2.708333333333333\n",
      "Actual Value of e^1: 2.718281828459045\n",
      "Error: 0.009948495125712054\n"
     ]
    }
   ],
   "source": [
    "def taylor_exp_with_error(x, terms=10):\n",
    "    approximation = 0\n",
    "    for n in range(terms):\n",
    "        approximation += (x**n) / math.factorial(n)\n",
    "    actual = math.exp(x)\n",
    "    error = abs(actual - approximation)\n",
    "    return approximation, actual, error\n",
    "\n",
    "# Example\n",
    "x = 1  # Evaluate e^1\n",
    "terms = 5  # Number of terms in Taylor series\n",
    "approx, actual, error = taylor_exp_with_error(x, terms)\n",
    "print(f\"Taylor Approximation of e^{x} with {terms} terms: {approx}\")\n",
    "print(f\"Actual Value of e^{x}: {actual}\")\n",
    "print(f\"Error: {error}\")"
   ]
  },
  {
   "cell_type": "markdown",
   "id": "f3da908a-2e2c-4d29-bd4e-32290700fa81",
   "metadata": {},
   "source": [
    "***2. Error Analysis for*** $$sin⁡(𝑥)$$"
   ]
  },
  {
   "cell_type": "code",
   "execution_count": 5,
   "id": "3c6d8e49-55bb-4257-8308-7e116f76bdf0",
   "metadata": {},
   "outputs": [
    {
     "name": "stdout",
     "output_type": "stream",
     "text": [
      "Taylor Approximation of sin(0.7853981633974483) with 5 terms: 0.7071067829368671\n",
      "Actual Value of sin(0.7853981633974483): 0.7071067811865476\n",
      "Error: 1.750319555959834e-09\n"
     ]
    }
   ],
   "source": [
    "def taylor_sin_with_error(x, terms=10):\n",
    "    approximation = 0\n",
    "    for n in range(terms):\n",
    "        coefficient = (-1)**n\n",
    "        approximation += coefficient * (x**(2*n + 1)) / math.factorial(2*n + 1)\n",
    "    actual = math.sin(x)\n",
    "    error = abs(actual - approximation)\n",
    "    return approximation, actual, error\n",
    "\n",
    "# Example\n",
    "x = math.pi / 4  # Evaluate sin(pi/4)\n",
    "terms = 5\n",
    "approx, actual, error = taylor_sin_with_error(x, terms)\n",
    "print(f\"Taylor Approximation of sin({x}) with {terms} terms: {approx}\")\n",
    "print(f\"Actual Value of sin({x}): {actual}\")\n",
    "print(f\"Error: {error}\")"
   ]
  },
  {
   "cell_type": "markdown",
   "id": "f43d7ad8-b423-41cc-bb5a-324bc5fe2955",
   "metadata": {},
   "source": [
    "***3. Error Analysis for*** $$cos(𝑥)$$"
   ]
  },
  {
   "cell_type": "code",
   "execution_count": 6,
   "id": "5e12ffb1-9612-45a0-9a65-f5d496d877d0",
   "metadata": {},
   "outputs": [
    {
     "name": "stdout",
     "output_type": "stream",
     "text": [
      "Taylor Approximation of cos(0.7853981633974483) with 5 terms: 0.7071068056832942\n",
      "Actual Value of cos(0.7853981633974483): 0.7071067811865476\n",
      "Error: 2.4496746631186284e-08\n"
     ]
    }
   ],
   "source": [
    "def taylor_cos_with_error(x, terms=10):\n",
    "    approximation = 0\n",
    "    for n in range(terms):\n",
    "        coefficient = (-1)**n\n",
    "        approximation += coefficient * (x**(2*n)) / math.factorial(2*n)\n",
    "    actual = math.cos(x)\n",
    "    error = abs(actual - approximation)\n",
    "    return approximation, actual, error\n",
    "\n",
    "# Example\n",
    "x = math.pi / 4  # Evaluate cos(pi/4)\n",
    "terms = 5\n",
    "approx, actual, error = taylor_cos_with_error(x, terms)\n",
    "print(f\"Taylor Approximation of cos({x}) with {terms} terms: {approx}\")\n",
    "print(f\"Actual Value of cos({x}): {actual}\")\n",
    "print(f\"Error: {error}\")"
   ]
  }
 ],
 "metadata": {
  "kernelspec": {
   "display_name": "Python 3 (ipykernel)",
   "language": "python",
   "name": "python3"
  },
  "language_info": {
   "codemirror_mode": {
    "name": "ipython",
    "version": 3
   },
   "file_extension": ".py",
   "mimetype": "text/x-python",
   "name": "python",
   "nbconvert_exporter": "python",
   "pygments_lexer": "ipython3",
   "version": "3.12.2"
  }
 },
 "nbformat": 4,
 "nbformat_minor": 5
}
