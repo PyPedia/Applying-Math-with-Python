{
 "cells": [
  {
   "cell_type": "markdown",
   "id": "e237f098-0d95-45bb-95e3-e7b4a1db627d",
   "metadata": {},
   "source": [
    "**Step 1: What are Complex Numbers?**\n",
    "\n",
    "A complex number is of the form 𝑎+𝑏𝑗, where:\n",
    "\n",
    "- 𝑎 is the real part.\n",
    "- 𝑏 is the imaginary part.\n",
    "- 𝑗 represents the imaginary unit\n",
    "\n",
    "$$j = \\sqrt{-1}$$\n",
    "\n",
    "In Python, complex numbers are built-in and use 𝑗 instead of 𝑖."
   ]
  },
  {
   "cell_type": "markdown",
   "id": "a2918da7-92be-4265-bf3f-0731b2e25326",
   "metadata": {},
   "source": [
    "**Step 2: Creating Complex Numbers**"
   ]
  },
  {
   "cell_type": "code",
   "execution_count": 1,
   "id": "2b6626bc-b00b-4c05-ae16-4ce3b8c801f4",
   "metadata": {},
   "outputs": [
    {
     "name": "stdout",
     "output_type": "stream",
     "text": [
      "z1 = (3+4j)\n",
      "z2 = (2-3j)\n"
     ]
    }
   ],
   "source": [
    "# Direct assignment\n",
    "z1 = 3 + 4j\n",
    "z2 = complex(2, -3)  # Using the complex() function\n",
    "\n",
    "print(\"z1 =\", z1)\n",
    "print(\"z2 =\", z2)"
   ]
  },
  {
   "cell_type": "markdown",
   "id": "68be47d9-9036-4d8a-86b5-a61ad5b6424d",
   "metadata": {},
   "source": [
    "**Step 3: Accessing Real and Imaginary Parts**"
   ]
  },
  {
   "cell_type": "code",
   "execution_count": 2,
   "id": "9b79b171-91e0-4c46-94a0-2a251a9cae58",
   "metadata": {},
   "outputs": [
    {
     "name": "stdout",
     "output_type": "stream",
     "text": [
      "Real part of z1: 3.0\n",
      "Imaginary part of z1: 4.0\n"
     ]
    }
   ],
   "source": [
    "# Real and imaginary parts\n",
    "print(\"Real part of z1:\", z1.real)\n",
    "print(\"Imaginary part of z1:\", z1.imag)"
   ]
  },
  {
   "cell_type": "markdown",
   "id": "4b55c3e1-b4a1-4cb2-ac18-b966d6e2188a",
   "metadata": {},
   "source": [
    "**Step 4: Basic Operations**"
   ]
  },
  {
   "cell_type": "markdown",
   "id": "ad1b6078-62dc-4b7e-8f79-cabb3ae68caf",
   "metadata": {},
   "source": [
    "***Addition and Subtraction***"
   ]
  },
  {
   "cell_type": "code",
   "execution_count": 3,
   "id": "c507dcc3-abde-4df7-8bab-07a33e08042a",
   "metadata": {},
   "outputs": [
    {
     "name": "stdout",
     "output_type": "stream",
     "text": [
      "Addition: (5+1j)\n",
      "Subtraction: (1+7j)\n"
     ]
    }
   ],
   "source": [
    "z3 = z1 + z2\n",
    "z4 = z1 - z2\n",
    "\n",
    "print(\"Addition:\", z3)\n",
    "print(\"Subtraction:\", z4)"
   ]
  },
  {
   "cell_type": "markdown",
   "id": "9e08381e-3533-4d43-b1ee-675f00b8e718",
   "metadata": {},
   "source": [
    "***Multiplication and Division***"
   ]
  },
  {
   "cell_type": "code",
   "execution_count": 4,
   "id": "671eb13f-fcea-4445-9e67-37fd73817659",
   "metadata": {},
   "outputs": [
    {
     "name": "stdout",
     "output_type": "stream",
     "text": [
      "Multiplication: (18-1j)\n",
      "Division: (-0.46153846153846156+1.3076923076923077j)\n"
     ]
    }
   ],
   "source": [
    "z5 = z1 * z2\n",
    "z6 = z1 / z2\n",
    "\n",
    "print(\"Multiplication:\", z5)\n",
    "print(\"Division:\", z6)"
   ]
  },
  {
   "cell_type": "markdown",
   "id": "037e88bf-e79c-48c0-90ec-952e1e50d807",
   "metadata": {},
   "source": [
    "**Step 5: Conjugates**\n",
    "\n",
    "The conjugate of 𝑎+𝑏𝑗 is 𝑎−𝑏𝑗."
   ]
  },
  {
   "cell_type": "code",
   "execution_count": 5,
   "id": "28dda280-9146-4bf1-8dd2-ce8d9cd8d5bf",
   "metadata": {},
   "outputs": [
    {
     "name": "stdout",
     "output_type": "stream",
     "text": [
      "Conjugate of z1: (3-4j)\n"
     ]
    }
   ],
   "source": [
    "z_conj = z1.conjugate()\n",
    "print(\"Conjugate of z1:\", z_conj)"
   ]
  },
  {
   "cell_type": "markdown",
   "id": "f426cd1e-eb59-4317-8f50-dc022d4ead7d",
   "metadata": {},
   "source": [
    "**Step 6: Absolute Value (Magnitude)**\n",
    "\n",
    "The magnitude is $$|z| = \\sqrt{a^2 + b^2}$$."
   ]
  },
  {
   "cell_type": "code",
   "execution_count": 6,
   "id": "83b242eb-b6e7-4ae5-ac19-02486e7083a4",
   "metadata": {},
   "outputs": [
    {
     "name": "stdout",
     "output_type": "stream",
     "text": [
      "Magnitude of z1: 5.0\n"
     ]
    }
   ],
   "source": [
    "magnitude = abs(z1)\n",
    "print(\"Magnitude of z1:\", magnitude)"
   ]
  },
  {
   "cell_type": "markdown",
   "id": "9245db76-5c1a-4b63-8dc0-5701c281ecfa",
   "metadata": {},
   "source": [
    "**Step 7: Using cmath for Advanced Operations**\n",
    "\n",
    "The *cmath* module provides additional functions for complex numbers."
   ]
  },
  {
   "cell_type": "markdown",
   "id": "7cb81847-18f9-4d29-bbfd-c5791be2f5dc",
   "metadata": {},
   "source": [
    "***Example: Phase and Polar Form***"
   ]
  },
  {
   "cell_type": "code",
   "execution_count": 8,
   "id": "b4c535ba-2123-4876-91c2-384559d2b8f7",
   "metadata": {},
   "outputs": [
    {
     "name": "stdout",
     "output_type": "stream",
     "text": [
      "Phase of z1: 0.9272952180016122\n",
      "Polar form of z1: (5.0, 0.9272952180016122)\n"
     ]
    }
   ],
   "source": [
    "import cmath\n",
    "\n",
    "# Phase (angle in radians)\n",
    "phase = cmath.phase(z1)\n",
    "\n",
    "# Polar coordinates (r, theta)\n",
    "polar = cmath.polar(z1)\n",
    "\n",
    "print(\"Phase of z1:\", phase)\n",
    "print(\"Polar form of z1:\", polar)"
   ]
  },
  {
   "cell_type": "markdown",
   "id": "f342c1a2-1517-466d-abd7-0499d1072826",
   "metadata": {},
   "source": [
    "***Example: Exponentials and Logarithms***"
   ]
  },
  {
   "cell_type": "code",
   "execution_count": 10,
   "id": "3d73d4e3-d4dd-47e2-9c18-41867ba14cfc",
   "metadata": {},
   "outputs": [
    {
     "name": "stdout",
     "output_type": "stream",
     "text": [
      "Exponential of z1: (-13.128783081462158-15.200784463067954j)\n",
      "Natural log of z1: (1.6094379124341003+0.9272952180016122j)\n"
     ]
    }
   ],
   "source": [
    "exp_z = cmath.exp(z1)\n",
    "log_z = cmath.log(z1)\n",
    "\n",
    "print(\"Exponential of z1:\", exp_z)\n",
    "print(\"Natural log of z1:\", log_z)"
   ]
  },
  {
   "cell_type": "markdown",
   "id": "e5eeac3d-57bc-4e98-b817-322f01fb381b",
   "metadata": {},
   "source": [
    "**Step 8: Practical Example**\n",
    "    \n",
    "Quadratic Equation Solver\n",
    "\n",
    "Solve $${ax^2 + bx+c=0}$$ where 𝑎, 𝑏, 𝑐 are real numbers."
   ]
  },
  {
   "cell_type": "code",
   "execution_count": 11,
   "id": "8c56dd94-e32f-4ed8-88ee-7049e3dceb15",
   "metadata": {},
   "outputs": [
    {
     "name": "stdout",
     "output_type": "stream",
     "text": [
      "Roots: ((-2+1j), (-2-1j))\n"
     ]
    }
   ],
   "source": [
    "import cmath\n",
    "\n",
    "def solve_quadratic(a, b, c):\n",
    "    # Calculate discriminant\n",
    "    discriminant = cmath.sqrt(b**2 - 4*a*c)\n",
    "    root1 = (-b + discriminant) / (2*a)\n",
    "    root2 = (-b - discriminant) / (2*a)\n",
    "    return root1, root2\n",
    "\n",
    "# Example: Solve x^2 + 4x + 5 = 0\n",
    "roots = solve_quadratic(1, 4, 5)\n",
    "print(\"Roots:\", roots)"
   ]
  }
 ],
 "metadata": {
  "kernelspec": {
   "display_name": "Python 3 (ipykernel)",
   "language": "python",
   "name": "python3"
  },
  "language_info": {
   "codemirror_mode": {
    "name": "ipython",
    "version": 3
   },
   "file_extension": ".py",
   "mimetype": "text/x-python",
   "name": "python",
   "nbconvert_exporter": "python",
   "pygments_lexer": "ipython3",
   "version": "3.12.2"
  }
 },
 "nbformat": 4,
 "nbformat_minor": 5
}
