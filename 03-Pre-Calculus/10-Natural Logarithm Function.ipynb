{
 "cells": [
  {
   "cell_type": "markdown",
   "id": "e44352a3-5207-498f-9644-cc8f67cf739d",
   "metadata": {},
   "source": [
    "**Natural Logarithm Function**\n",
    "\n",
    "The function 𝑦=ln(𝑥) is called the *natural logarithm function*. It is a fundamental mathematical function widely used in *calculus*, *algebra*, and various applied sciences.\n",
    "\n",
    "**Key Properties of the Natural Logarithm Function:**\n",
    "\n",
    "* Base of the Logarithm: The natural logarithm uses the base 𝑒, where 𝑒≈2.718, a mathematical constant.\n",
    "* Inverse of Exponential Function:\n",
    "$$ln(e^{x})=x\\;\\;\\; and \\;\\;\\; e^{ln(x)}=x$$\n",
    "* Domain: The natural logarithm is defined for 𝑥>0.\n",
    "* Range: The output (range) of ln(𝑥) spans all real numbers (−∞,∞).\n",
    "* Asymptotes: Vertical asymptote at 𝑥=0 (approaches−∞)."
   ]
  },
  {
   "cell_type": "markdown",
   "id": "c62b8e98-969e-479c-ad27-165e0273b1ad",
   "metadata": {},
   "source": [
    "**1. Domain of the Function**\n",
    "\n",
    "The natural logarithm ln(𝑥) is defined for 𝑥>0."
   ]
  },
  {
   "cell_type": "code",
   "execution_count": 1,
   "id": "c91be75f-750c-409e-97a2-2e9bcd0246ad",
   "metadata": {},
   "outputs": [
    {
     "data": {
      "text/latex": [
       "$\\displaystyle x > 0$"
      ],
      "text/plain": [
       "x > 0"
      ]
     },
     "execution_count": 1,
     "metadata": {},
     "output_type": "execute_result"
    }
   ],
   "source": [
    "from sympy import symbols, ln, S\n",
    "\n",
    "x = symbols('x')\n",
    "domain = (x > 0)\n",
    "domain"
   ]
  },
  {
   "cell_type": "markdown",
   "id": "5366ccd4-bc50-4f4a-9b0e-5ee38531280f",
   "metadata": {},
   "source": [
    "**2. Range of the Function**\n",
    "\n",
    "The range is all real numbers since ln(𝑥) outputs (−∞,∞) as 𝑥→∞ or 𝑥→0+."
   ]
  },
  {
   "cell_type": "code",
   "execution_count": 2,
   "id": "09023413-11c4-4930-935b-deb628a75181",
   "metadata": {},
   "outputs": [
    {
     "data": {
      "text/latex": [
       "$\\displaystyle \\mathbb{R}$"
      ],
      "text/plain": [
       "Reals"
      ]
     },
     "execution_count": 2,
     "metadata": {},
     "output_type": "execute_result"
    }
   ],
   "source": [
    "range_ln = S.Reals\n",
    "range_ln"
   ]
  },
  {
   "cell_type": "markdown",
   "id": "593373f1-67fa-4ee3-9828-01bc945f1827",
   "metadata": {},
   "source": [
    "**3. x-Intercepts**\n",
    "\n",
    "ln(𝑥)=0 when 𝑥=1."
   ]
  },
  {
   "cell_type": "code",
   "execution_count": 4,
   "id": "e79dd5e3-9197-4b0a-b445-7f6da30283dd",
   "metadata": {},
   "outputs": [
    {
     "data": {
      "text/plain": [
       "[1]"
      ]
     },
     "execution_count": 4,
     "metadata": {},
     "output_type": "execute_result"
    }
   ],
   "source": [
    "from sympy import solve\n",
    "\n",
    "x_intercepts = solve(ln(x), x)\n",
    "x_intercepts"
   ]
  },
  {
   "cell_type": "markdown",
   "id": "98176f21-4c56-41b6-9140-2d34fbd6869c",
   "metadata": {},
   "source": [
    "**4. y-Intercepts** \n",
    "\n",
    "The function 𝑦=ln⁡(𝑥) has no y-intercept since it’s undefined at 𝑥≤0.\n",
    "\n",
    "**5. Continuity of the Function**\n",
    "\n",
    "𝑦=ln⁡(𝑥) is continuous on (0,∞)."
   ]
  },
  {
   "cell_type": "markdown",
   "id": "1f17fa7b-c166-4dd0-b4ad-9375607de249",
   "metadata": {},
   "source": [
    "**6. Increasing/Decreasing Intervals**\n",
    "\n",
    "ln(𝑥) is always increasing for 𝑥>0."
   ]
  },
  {
   "cell_type": "code",
   "execution_count": 5,
   "id": "481d18a8-a264-4746-bf1a-c0320e5571db",
   "metadata": {},
   "outputs": [
    {
     "data": {
      "text/latex": [
       "$\\displaystyle \\frac{1}{x} > 0$"
      ],
      "text/plain": [
       "1/x > 0"
      ]
     },
     "execution_count": 5,
     "metadata": {},
     "output_type": "execute_result"
    }
   ],
   "source": [
    "from sympy import diff\n",
    "\n",
    "first_derivative = diff(ln(x), x)\n",
    "increasing_interval = (first_derivative > 0)\n",
    "increasing_interval"
   ]
  },
  {
   "cell_type": "markdown",
   "id": "6025ab2a-f4e3-46e0-b5fb-cf807b876038",
   "metadata": {},
   "source": [
    "**7. Second Derivative Test**\n",
    "\n",
    "The second derivative ln(𝑥) is negative, indicating concavity."
   ]
  },
  {
   "cell_type": "code",
   "execution_count": 6,
   "id": "f0833c34-363c-4e23-bf30-fd2c170b02de",
   "metadata": {},
   "outputs": [
    {
     "data": {
      "text/latex": [
       "$\\displaystyle - \\frac{1}{x^{2}}$"
      ],
      "text/plain": [
       "-1/x**2"
      ]
     },
     "execution_count": 6,
     "metadata": {},
     "output_type": "execute_result"
    }
   ],
   "source": [
    "second_derivative = diff(first_derivative, x)\n",
    "second_derivative"
   ]
  },
  {
   "cell_type": "markdown",
   "id": "7ceefa6d-5356-4bcd-943b-31d54d423859",
   "metadata": {},
   "source": [
    "**8. Limits of the Function**\n",
    "\n",
    "$$\\lim_{x \\to 0^{+}}ln(x)=-\\infty$$ \n",
    "and\n",
    "$$\\lim_{x \\to \\infty }ln(x)=\\infty$$"
   ]
  },
  {
   "cell_type": "code",
   "execution_count": 7,
   "id": "117887df-9256-41aa-94f3-3d29524b8287",
   "metadata": {},
   "outputs": [
    {
     "data": {
      "text/plain": [
       "(-oo, oo)"
      ]
     },
     "execution_count": 7,
     "metadata": {},
     "output_type": "execute_result"
    }
   ],
   "source": [
    "from sympy import limit, oo\n",
    "\n",
    "limit_0 = limit(ln(x), x, 0, '+')\n",
    "limit_inf = limit(ln(x), x, oo)\n",
    "limit_0, limit_inf"
   ]
  },
  {
   "cell_type": "markdown",
   "id": "14e9de21-3f7b-4544-9d57-50b6469eee05",
   "metadata": {},
   "source": [
    "**9. Area Under the Curve**\n",
    "\n",
    "Compute between limits using integration."
   ]
  },
  {
   "cell_type": "code",
   "execution_count": 8,
   "id": "d70a4bd3-95b8-4cda-8dc8-05aad2bcd4d4",
   "metadata": {},
   "outputs": [
    {
     "data": {
      "text/latex": [
       "$\\displaystyle -1 + 2 \\log{\\left(2 \\right)}$"
      ],
      "text/plain": [
       "-1 + 2*log(2)"
      ]
     },
     "execution_count": 8,
     "metadata": {},
     "output_type": "execute_result"
    }
   ],
   "source": [
    "from sympy import integrate\n",
    "\n",
    "area = integrate(ln(x), (x, 1, 2))\n",
    "area"
   ]
  },
  {
   "cell_type": "markdown",
   "id": "a53e6939-c49f-498f-9cbf-83a17df6e752",
   "metadata": {},
   "source": [
    "**10. Graph of the Function**"
   ]
  },
  {
   "cell_type": "code",
   "execution_count": 9,
   "id": "46176948-afa4-4e76-a9c5-34ae30aa7ed0",
   "metadata": {},
   "outputs": [
    {
     "data": {
      "image/png": "[encoded data removed]",
      "text/plain": [
       "<Figure size 640x480 with 1 Axes>"
      ]
     },
     "metadata": {},
     "output_type": "display_data"
    }
   ],
   "source": [
    "import matplotlib.pyplot as plt\n",
    "import numpy as np\n",
    "\n",
    "x_vals = np.linspace(0.1, 10, 500)\n",
    "y_vals = np.log(x_vals)\n",
    "\n",
    "plt.plot(x_vals, y_vals, label='y=ln(x)')\n",
    "plt.axhline(0, color='black', linewidth=0.5)\n",
    "plt.axvline(0, color='black', linewidth=0.5)\n",
    "plt.xlabel('x')\n",
    "plt.ylabel('y')\n",
    "plt.title('Graph of y=ln(x)')\n",
    "plt.legend()\n",
    "plt.grid()\n",
    "plt.show()"
   ]
  }
 ],
 "metadata": {
  "kernelspec": {
   "display_name": "Python 3 (ipykernel)",
   "language": "python",
   "name": "python3"
  },
  "language_info": {
   "codemirror_mode": {
    "name": "ipython",
    "version": 3
   },
   "file_extension": ".py",
   "mimetype": "text/x-python",
   "name": "python",
   "nbconvert_exporter": "python",
   "pygments_lexer": "ipython3",
   "version": "3.12.2"
  }
 },
 "nbformat": 4,
 "nbformat_minor": 5
}
