{
 "cells": [
  {
   "cell_type": "markdown",
   "id": "25621355-62df-4e39-9690-0fe1ea9ef266",
   "metadata": {},
   "source": [
    "Let's dive into writing and running your first Python script!"
   ]
  },
  {
   "cell_type": "markdown",
   "id": "1c65524b-ae76-4b65-be62-e4a7ff84e4aa",
   "metadata": {},
   "source": [
    "**Step 1: Set Up Python**\n",
    "\n",
    "***Check if Python is Installed:***\n",
    "\n",
    "Open your terminal or command prompt and type:\n"
   ]
  },
  {
   "cell_type": "code",
   "execution_count": null,
   "id": "a0131556-7786-43c6-bde1-6c914ddad01a",
   "metadata": {},
   "outputs": [],
   "source": [
    "python --version"
   ]
  },
  {
   "cell_type": "markdown",
   "id": "d8a4026d-75eb-4173-b5d0-fc0ba92fcc7c",
   "metadata": {},
   "source": [
    "or"
   ]
  },
  {
   "cell_type": "code",
   "execution_count": null,
   "id": "4fc997aa-8df4-4cde-899d-168d93cf0a28",
   "metadata": {},
   "outputs": [],
   "source": [
    "python3 --version"
   ]
  },
  {
   "attachments": {
    "8a34135b-1072-40df-899e-34381b7f5511.png": {
     "image/png": "[encoded data removed]"
    }
   },
   "cell_type": "markdown",
   "id": "4a55e04e-b8ed-4177-b7f6-54eae58daf12",
   "metadata": {},
   "source": [
    "![001.png](attachment:8a34135b-1072-40df-899e-34381b7f5511.png)"
   ]
  },
  {
   "cell_type": "markdown",
   "id": "1947a0e5-6e4b-46b0-931c-465830405bc5",
   "metadata": {},
   "source": [
    "If Python is not installed, download and install it from [python.org](https://www.python.org/)."
   ]
  },
  {
   "cell_type": "markdown",
   "id": "e7ab0ff2-5f35-4133-8598-93360aaeb5b7",
   "metadata": {},
   "source": [
    "***Choose a Code Editor:***\n",
    "\n",
    "You can use any text editor (like Notepad, VS Code, PyCharm, or Sublime Text). For simplicity, we’ll use a basic editor."
   ]
  },
  {
   "cell_type": "markdown",
   "id": "ba84b219-21c4-4525-a472-c0fcc1801a19",
   "metadata": {},
   "source": [
    "**Step 2: Write Your First Python Script**\n",
    "\n",
    "- Open Your Editor: Open a text editor (e.g., Notepad on Windows).\n",
    "- Write the Code: Type the following code:"
   ]
  },
  {
   "cell_type": "code",
   "execution_count": 3,
   "id": "f346a7ec-f210-4e56-922c-03eb542b2bc7",
   "metadata": {},
   "outputs": [
    {
     "name": "stdout",
     "output_type": "stream",
     "text": [
      "Hello, World!\n"
     ]
    }
   ],
   "source": [
    "print(\"Hello, World!\")"
   ]
  },
  {
   "cell_type": "markdown",
   "id": "711a117d-f5c0-4294-bcaa-e9eb1f42c2d8",
   "metadata": {},
   "source": [
    "Save the File:\n",
    "\n",
    "- Save it with a *.py* extension, for example, *hello.py*.\n",
    "- Ensure the file is saved in a folder you can easily navigate to using your terminal or command prompt."
   ]
  },
  {
   "cell_type": "markdown",
   "id": "f5a35e03-1aae-40f1-b5e6-a86d82c1de38",
   "metadata": {},
   "source": [
    "**Step 3: Run Your Python Script**\n",
    "\n",
    "*1. Open the Terminal/Command Prompt:*\n",
    "- On Windows: Press Win + R, type cmd, and hit Enter.\n",
    "- On macOS/Linux: Open the terminal from the application menu.\n",
    "- Navigate to the Script's Directory:\n",
    "\n",
    "*2. Use the cd command to navigate to the folder where hello.py is saved.*"
   ]
  },
  {
   "cell_type": "code",
   "execution_count": null,
   "id": "45db0c3e-66c5-4dd2-b1cd-8a68da5e792d",
   "metadata": {},
   "outputs": [],
   "source": [
    "cd path_to_your_script"
   ]
  },
  {
   "cell_type": "markdown",
   "id": "e1e53636-ffcd-4531-bd3f-c11f034b6624",
   "metadata": {},
   "source": [
    "*3. Run the Script:*\n",
    "\n",
    "Run the script by typing:"
   ]
  },
  {
   "cell_type": "code",
   "execution_count": null,
   "id": "4e14aa92-84b5-458e-bac8-12ffb98e81fb",
   "metadata": {},
   "outputs": [],
   "source": [
    "python hello.py"
   ]
  },
  {
   "cell_type": "markdown",
   "id": "96adc2c4-059d-4d40-bc3c-bfe2c285d8e1",
   "metadata": {},
   "source": [
    "or"
   ]
  },
  {
   "cell_type": "code",
   "execution_count": null,
   "id": "9a09c8e4-f18a-4a6e-a5ac-2c2c2e6cd27b",
   "metadata": {},
   "outputs": [],
   "source": [
    "python3 hello.py"
   ]
  },
  {
   "cell_type": "markdown",
   "id": "4bd882fc-3ff5-4d09-8e18-198eb64a9c9e",
   "metadata": {},
   "source": [
    "*4. You should see the output:*"
   ]
  },
  {
   "cell_type": "code",
   "execution_count": null,
   "id": "b680ba0e-9a8a-42f3-a9aa-bf93374073db",
   "metadata": {},
   "outputs": [],
   "source": [
    "Hello, World!"
   ]
  }
 ],
 "metadata": {
  "kernelspec": {
   "display_name": "Python 3 (ipykernel)",
   "language": "python",
   "name": "python3"
  },
  "language_info": {
   "codemirror_mode": {
    "name": "ipython",
    "version": 3
   },
   "file_extension": ".py",
   "mimetype": "text/x-python",
   "name": "python",
   "nbconvert_exporter": "python",
   "pygments_lexer": "ipython3",
   "version": "3.12.2"
  }
 },
 "nbformat": 4,
 "nbformat_minor": 5
}
