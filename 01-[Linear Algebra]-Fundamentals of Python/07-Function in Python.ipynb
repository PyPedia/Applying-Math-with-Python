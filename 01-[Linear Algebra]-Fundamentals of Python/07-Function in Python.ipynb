{
 "cells": [
  {
   "cell_type": "markdown",
   "id": "3c281c2a-7806-451a-b8be-9c2546f4fe6e",
   "metadata": {},
   "source": [
    "**What is a Function in Python?**\n",
    "\n",
    "A function is a block of reusable code that performs a specific task. Functions help make your code modular, readable, and maintainable. You can create your own functions (user-defined functions) or use the built-in ones."
   ]
  },
  {
   "cell_type": "markdown",
   "id": "00a9cbb3-0234-4060-8652-1d9bdaf704df",
   "metadata": {},
   "source": [
    "**How to Define and Call a Function**\n",
    "\n",
    "The syntax for defining a function:"
   ]
  },
  {
   "cell_type": "code",
   "execution_count": null,
   "id": "18d22289-6ea9-4a8b-9fa4-6a04f451870d",
   "metadata": {},
   "outputs": [],
   "source": [
    "def function_name(parameters):\n",
    "    # Function body\n",
    "    return result  # Optional"
   ]
  },
  {
   "cell_type": "markdown",
   "id": "bf342c12-f5a9-4559-8994-59f188da581d",
   "metadata": {},
   "source": [
    "To call the function:"
   ]
  },
  {
   "cell_type": "code",
   "execution_count": null,
   "id": "583a30b1-39df-4974-acae-e883493dff10",
   "metadata": {},
   "outputs": [],
   "source": [
    "function_name(arguments)"
   ]
  },
  {
   "cell_type": "markdown",
   "id": "d82ae020-3f36-4cf0-8ba6-91fb88341188",
   "metadata": {},
   "source": [
    "**Example 1: A Simple Function**"
   ]
  },
  {
   "cell_type": "code",
   "execution_count": 1,
   "id": "439d37b1-a7d4-44f4-b2e2-0e29f554b8fc",
   "metadata": {},
   "outputs": [
    {
     "name": "stdout",
     "output_type": "stream",
     "text": [
      "Hello, Yaser!\n"
     ]
    }
   ],
   "source": [
    "# Define a function that prints a message\n",
    "def greet():\n",
    "    print(\"Hello, Yaser!\")\n",
    "\n",
    "# Call the function\n",
    "greet()"
   ]
  },
  {
   "cell_type": "markdown",
   "id": "239f6dc2-8b62-49fd-9bc8-9ddc96b7bec0",
   "metadata": {},
   "source": [
    "**Example 2: Function with Parameters**"
   ]
  },
  {
   "cell_type": "code",
   "execution_count": 3,
   "id": "c4eb28ef-7a07-428b-bcfa-33bdbbfc2d6a",
   "metadata": {},
   "outputs": [
    {
     "name": "stdout",
     "output_type": "stream",
     "text": [
      "The sum is: 8\n"
     ]
    }
   ],
   "source": [
    "# Define a function that adds two numbers\n",
    "def add_numbers(a, b):\n",
    "    result = a + b\n",
    "    return result\n",
    "\n",
    "# Call the function\n",
    "sum_result = add_numbers(5, 3)\n",
    "print(\"The sum is:\", sum_result)"
   ]
  },
  {
   "cell_type": "markdown",
   "id": "33395f96-0e2e-4ac8-b289-65647202cf73",
   "metadata": {},
   "source": [
    "**Example 3: Function with Default Parameters**"
   ]
  },
  {
   "cell_type": "code",
   "execution_count": 5,
   "id": "4f9aba72-9d7a-48ae-8ba2-d4c92a7c8fc1",
   "metadata": {},
   "outputs": [
    {
     "name": "stdout",
     "output_type": "stream",
     "text": [
      "Hello, Yaser!\n",
      "Hello, Rahmati!\n"
     ]
    }
   ],
   "source": [
    "# Define a function with a default parameter\n",
    "def greet_person(name=\"Yaser\"):\n",
    "    print(f\"Hello, {name}!\")\n",
    "\n",
    "# Call the function\n",
    "greet_person()          # Uses the default value\n",
    "greet_person(\"Rahmati\") # Uses the provided argument"
   ]
  },
  {
   "cell_type": "markdown",
   "id": "46b8b83a-4bb4-456b-b4be-770b76f1f1a3",
   "metadata": {},
   "source": [
    "**Example 4: Function with Multiple Returns**"
   ]
  },
  {
   "cell_type": "code",
   "execution_count": 7,
   "id": "d0101bd0-ef03-4030-b987-658b8f347a0f",
   "metadata": {},
   "outputs": [
    {
     "name": "stdout",
     "output_type": "stream",
     "text": [
      "Sum: 9\n",
      "Product: 20\n"
     ]
    }
   ],
   "source": [
    "# Define a function that returns multiple values\n",
    "def calculate(a, b):\n",
    "    sum_result = a + b\n",
    "    product_result = a * b\n",
    "    return sum_result, product_result\n",
    "\n",
    "# Call the function\n",
    "sum_val, prod_val = calculate(4, 5)\n",
    "print(\"Sum:\", sum_val)\n",
    "print(\"Product:\", prod_val)"
   ]
  },
  {
   "cell_type": "markdown",
   "id": "eb52764f-5ed9-4517-87b4-e67b5a9bdc04",
   "metadata": {},
   "source": [
    "**Example 5: Using Functions in Loops**"
   ]
  },
  {
   "cell_type": "code",
   "execution_count": 9,
   "id": "f3ae32e6-849f-4a2d-90cc-3b172ed06f2d",
   "metadata": {},
   "outputs": [
    {
     "name": "stdout",
     "output_type": "stream",
     "text": [
      "1 is odd.\n",
      "2 is even.\n",
      "3 is odd.\n",
      "4 is even.\n",
      "5 is odd.\n"
     ]
    }
   ],
   "source": [
    "# Function to check if a number is even\n",
    "def is_even(number):\n",
    "    return number % 2 == 0\n",
    "\n",
    "# Using the function in a loop\n",
    "for i in range(1, 6):\n",
    "    if is_even(i):\n",
    "        print(f\"{i} is even.\")\n",
    "    else:\n",
    "        print(f\"{i} is odd.\")"
   ]
  },
  {
   "cell_type": "markdown",
   "id": "28c59913-e430-4c0c-a863-0c18957de29c",
   "metadata": {},
   "source": [
    "**Example 6: Lambda (Anonymous) Functions**"
   ]
  },
  {
   "cell_type": "code",
   "execution_count": 10,
   "id": "330bc696-1703-463e-8776-71cc3de07df3",
   "metadata": {},
   "outputs": [
    {
     "name": "stdout",
     "output_type": "stream",
     "text": [
      "Square of 4: 16\n"
     ]
    }
   ],
   "source": [
    "# Lambda function to calculate the square of a number\n",
    "square = lambda x: x ** 2\n",
    "\n",
    "# Call the lambda function\n",
    "print(\"Square of 4:\", square(4))"
   ]
  },
  {
   "cell_type": "markdown",
   "id": "d182d01a-4697-415e-9a16-f70fa74591ed",
   "metadata": {},
   "source": [
    "**Example 7: Function with Variable Number of Arguments**"
   ]
  },
  {
   "cell_type": "code",
   "execution_count": 12,
   "id": "3b5953b1-3392-4e15-baef-cde2d9b66f71",
   "metadata": {},
   "outputs": [
    {
     "name": "stdout",
     "output_type": "stream",
     "text": [
      "Sum of numbers: 15\n"
     ]
    }
   ],
   "source": [
    "# Function to calculate the sum of all arguments\n",
    "def calculate_sum(*args):\n",
    "    return sum(args)\n",
    "\n",
    "# Call the function with multiple arguments\n",
    "result = calculate_sum(1, 2, 3, 4, 5)\n",
    "print(\"Sum of numbers:\", result)"
   ]
  }
 ],
 "metadata": {
  "kernelspec": {
   "display_name": "Python 3 (ipykernel)",
   "language": "python",
   "name": "python3"
  },
  "language_info": {
   "codemirror_mode": {
    "name": "ipython",
    "version": 3
   },
   "file_extension": ".py",
   "mimetype": "text/x-python",
   "name": "python",
   "nbconvert_exporter": "python",
   "pygments_lexer": "ipython3",
   "version": "3.12.2"
  }
 },
 "nbformat": 4,
 "nbformat_minor": 5
}
