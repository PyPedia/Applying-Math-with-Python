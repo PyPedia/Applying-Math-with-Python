{
 "cells": [
  {
   "cell_type": "markdown",
   "id": "f73ac217-9a92-495e-8dbe-20568a3392a0",
   "metadata": {},
   "source": [
    "**Mathematics Behind the Laplace Transform**\n",
    "\n",
    "The Laplace Transform is a powerful integral transform used to analyze linear time-invariant systems. It converts a function 𝑓(𝑡) (time domain) into a function 𝐹(𝑠) (frequency domain). This is particularly useful in solving differential equations.\n",
    "\n",
    "**Definition**\n",
    "\n",
    "The Laplace Transform of a function 𝑓(𝑡) is defined as:\n",
    "\n",
    "$$L\\left\\{f(t)  \\right\\}=F(s)=\\int_{0}^{\\infty }e^{-st}f(t)dt$$\n",
    "\n",
    "Where:\n",
    "\n",
    "- 𝑓(𝑡): Function of time 𝑡 (assumed to be zero for 𝑡<0).\n",
    "- 𝐹(𝑠): Laplace Transform, a function of the complex variable 𝑠.\n",
    "- 𝑠: Complex frequency 𝑠=𝜎+𝑗𝜔.\n",
    "\n",
    "**Conditions for Existence**\n",
    "\n",
    "The Laplace Transform exists if:\n",
    "\n",
    "- 𝑓(𝑡) is piecewise continuous on [0,∞).\n",
    "- 𝑓(𝑡) grows no faster than an exponential function as 𝑡→∞.\n",
    "\n",
    "**Inverse Laplace Transform**\n",
    "\n",
    "The inverse transform recovers 𝑓(𝑡) from 𝐹(𝑠):\n",
    "\n",
    "$$f(t)=L^{-1}\\left\\{F(s)  \\right\\}$$"
   ]
  },
  {
   "cell_type": "markdown",
   "id": "3f65ca87-05aa-428a-8303-d273a4ecae6b",
   "metadata": {},
   "source": [
    "**Python Implementation**\n",
    "  \n",
    "We will use the SymPy library in Python, which provides functions for symbolic mathematics and handling Laplace transforms."
   ]
  },
  {
   "cell_type": "markdown",
   "id": "f99fff4a-ed5a-4896-856f-e38e0a9c4307",
   "metadata": {},
   "source": [
    "***Example 1: Laplace Transform of*** $$L\\left\\{1 \\right\\}=\\frac{1}{s}$$"
   ]
  },
  {
   "cell_type": "code",
   "execution_count": 5,
   "id": "49ab1727-8572-45d6-a2a8-f6351a28639d",
   "metadata": {},
   "outputs": [
    {
     "name": "stdout",
     "output_type": "stream",
     "text": [
      "Laplace Transform of f(t)=1: (1/s, 0, True)\n"
     ]
    }
   ],
   "source": [
    "from sympy import symbols, laplace_transform, exp, sin\n",
    "\n",
    "# Define variables\n",
    "t, s = symbols('t s')\n",
    "\n",
    "# Define the function\n",
    "f_t = 1\n",
    "\n",
    "# Compute Laplace Transform\n",
    "F_s = laplace_transform(f_t, t, s)\n",
    "print(\"Laplace Transform of f(t)=1:\", F_s)"
   ]
  },
  {
   "cell_type": "markdown",
   "id": "c025fb74-b46b-42ff-80e0-7939748ad1d9",
   "metadata": {},
   "source": [
    "***Example 2: Laplace Transform of*** $$L\\left\\{t \\right\\}=\\frac{1}{s^{2}}$$"
   ]
  },
  {
   "cell_type": "code",
   "execution_count": 4,
   "id": "3d026766-6d83-4080-b2de-05f9a747e294",
   "metadata": {},
   "outputs": [
    {
     "name": "stdout",
     "output_type": "stream",
     "text": [
      "Laplace Transform of f(t) = t: (s**(-2), 0, True)\n"
     ]
    }
   ],
   "source": [
    "from sympy import symbols, laplace_transform\n",
    "\n",
    "# Define symbols\n",
    "t, s = symbols('t s')\n",
    "\n",
    "# Define the function f(t) = t\n",
    "f_t = t\n",
    "\n",
    "# Compute the Laplace Transform\n",
    "F_s = laplace_transform(f_t, t, s)\n",
    "print(\"Laplace Transform of f(t) = t:\", F_s)"
   ]
  },
  {
   "cell_type": "markdown",
   "id": "8422a827-86e7-4ae0-b4f4-dc8b9fa7564b",
   "metadata": {},
   "source": [
    "***Example 3: Laplace Transform of*** $$L\\left\\{e^{at} \\right\\}=\\frac{1}{s-a}$$"
   ]
  },
  {
   "cell_type": "code",
   "execution_count": 7,
   "id": "5d423bed-a01b-42e5-bdd7-9c10b1dbe782",
   "metadata": {},
   "outputs": [
    {
     "name": "stdout",
     "output_type": "stream",
     "text": [
      "Laplace Transform of f(t) = e^(a*t): (1/(-a + s), re(a), True)\n"
     ]
    }
   ],
   "source": [
    "from sympy import symbols, laplace_transform, exp\n",
    "\n",
    "# Define symbols\n",
    "t, s, a = symbols('t s a')\n",
    "\n",
    "# Define the function f(t) = e^(a*t)\n",
    "f_t = exp(a * t)\n",
    "\n",
    "# Compute the Laplace Transform\n",
    "F_s = laplace_transform(f_t, t, s)\n",
    "print(\"Laplace Transform of f(t) = e^(a*t):\", F_s)"
   ]
  },
  {
   "cell_type": "markdown",
   "id": "480c51c5-f280-4011-be2a-f851a86751d9",
   "metadata": {},
   "source": [
    "***Example 4: Laplace Transform of*** $$L\\left\\{sin(at) \\right\\}=\\frac{a}{s^{2}+a^2}$$"
   ]
  },
  {
   "cell_type": "code",
   "execution_count": 9,
   "id": "ac64a228-436d-4a55-93bf-7853105bdf71",
   "metadata": {},
   "outputs": [
    {
     "name": "stdout",
     "output_type": "stream",
     "text": [
      "Laplace Transform of f(t) = sin(a*t): (a/(a**2 + s**2), Abs(im(a)), True)\n"
     ]
    }
   ],
   "source": [
    "from sympy import symbols, laplace_transform, sin\n",
    "\n",
    "# Define symbols\n",
    "t, s, a = symbols('t s a')\n",
    "\n",
    "# Define the function f(t) = sin(a*t)\n",
    "f_t = sin(a * t)\n",
    "\n",
    "# Compute the Laplace Transform\n",
    "F_s = laplace_transform(f_t, t, s)\n",
    "print(\"Laplace Transform of f(t) = sin(a*t):\", F_s)"
   ]
  },
  {
   "cell_type": "markdown",
   "id": "072920a4-f8b0-4af3-b78c-8df170cb676c",
   "metadata": {},
   "source": [
    "***Example 5: Laplace Transform of*** $$L\\left\\{cos(at) \\right\\}=\\frac{s}{s^{2}+a^2}$$"
   ]
  },
  {
   "cell_type": "code",
   "execution_count": 11,
   "id": "50c959f5-d967-42b8-bfcb-67a88f94dcca",
   "metadata": {},
   "outputs": [
    {
     "name": "stdout",
     "output_type": "stream",
     "text": [
      "Laplace Transform of f(t) = cos(a*t): (s/(a**2 + s**2), Abs(im(a)), True)\n"
     ]
    }
   ],
   "source": [
    "from sympy import symbols, laplace_transform, cos\n",
    "\n",
    "# Define symbols\n",
    "t, s, a = symbols('t s a')\n",
    "\n",
    "# Define the function f(t) = cos(a*t)\n",
    "f_t = cos(a * t)\n",
    "\n",
    "# Compute the Laplace Transform\n",
    "F_s = laplace_transform(f_t, t, s)\n",
    "print(\"Laplace Transform of f(t) = cos(a*t):\", F_s)"
   ]
  },
  {
   "cell_type": "markdown",
   "id": "07866c89-b4e4-40a1-a16a-0b1a7bdd2915",
   "metadata": {},
   "source": [
    "***Example 6: Laplace Transform of*** $$L\\left\\{e^{at}sin(bt) \\right\\}=\\frac{b}{(s-a)^{2}+b^2}$$"
   ]
  },
  {
   "cell_type": "code",
   "execution_count": 13,
   "id": "550698f5-2afe-449b-8f96-1a0fa943ef9c",
   "metadata": {},
   "outputs": [
    {
     "name": "stdout",
     "output_type": "stream",
     "text": [
      "Laplace Transform of f(t) = e^(a*t) * sin(b*t): (b/(b**2 + (-a + s)**2), re(a) + Abs(im(b)), True)\n"
     ]
    }
   ],
   "source": [
    "from sympy import symbols, laplace_transform, exp, sin\n",
    "\n",
    "# Define symbols\n",
    "t, s, a, b = symbols('t s a b')\n",
    "\n",
    "# Define the function f(t) = e^(a*t) * sin(b*t)\n",
    "f_t = exp(a * t) * sin(b * t)\n",
    "\n",
    "# Compute the Laplace Transform\n",
    "F_s = laplace_transform(f_t, t, s)\n",
    "print(\"Laplace Transform of f(t) = e^(a*t) * sin(b*t):\", F_s)"
   ]
  },
  {
   "cell_type": "markdown",
   "id": "1bfe470f-3426-4a78-a0f2-55bea4ae09e3",
   "metadata": {},
   "source": [
    "***Example 7: Laplace Transform of*** $$L\\left\\{e^{at}cos(bt) \\right\\}=\\frac{s-a}{(s-a)^{2}+b^2}$$"
   ]
  },
  {
   "cell_type": "code",
   "execution_count": 14,
   "id": "082475d6-91b0-417f-be73-70432cfbe6e6",
   "metadata": {},
   "outputs": [
    {
     "name": "stdout",
     "output_type": "stream",
     "text": [
      "Laplace Transform of f(t) = e^(a*t) * cos(b*t): ((-a + s)/(b**2 + (-a + s)**2), re(a) + Abs(im(b)), True)\n"
     ]
    }
   ],
   "source": [
    "from sympy import symbols, laplace_transform, exp, cos\n",
    "\n",
    "# Define symbols\n",
    "t, s, a, b = symbols('t s a b')\n",
    "\n",
    "# Define the function f(t) = e^(a*t) * cos(b*t)\n",
    "f_t = exp(a * t) * cos(b * t)\n",
    "\n",
    "# Compute the Laplace Transform\n",
    "F_s = laplace_transform(f_t, t, s)\n",
    "print(\"Laplace Transform of f(t) = e^(a*t) * cos(b*t):\", F_s)"
   ]
  }
 ],
 "metadata": {
  "kernelspec": {
   "display_name": "Python 3 (ipykernel)",
   "language": "python",
   "name": "python3"
  },
  "language_info": {
   "codemirror_mode": {
    "name": "ipython",
    "version": 3
   },
   "file_extension": ".py",
   "mimetype": "text/x-python",
   "name": "python",
   "nbconvert_exporter": "python",
   "pygments_lexer": "ipython3",
   "version": "3.12.2"
  }
 },
 "nbformat": 4,
 "nbformat_minor": 5
}
