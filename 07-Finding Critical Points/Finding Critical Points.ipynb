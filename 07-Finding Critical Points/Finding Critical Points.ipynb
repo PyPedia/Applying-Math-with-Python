{
 "cells": [
  {
   "cell_type": "markdown",
   "id": "9a871ce7-4c25-47b0-8f44-e71f8d6a1e34",
   "metadata": {},
   "source": [
    "**Understanding Critical Points in Applications of Derivatives**\n",
    "\n",
    "***Mathematical Background***\n",
    "\n",
    "- Critical points occur where the derivative of a function equals *zero* or is *undefined*. \n",
    "- These points help identify where the function might have *local maxima*, *minima*, or *points of inflection*.\n",
    "\n",
    "**Steps to Find Critical Points**\n",
    "\n",
    "- Start with the function 𝑓(𝑥):\n",
    "    - Ensure it is differentiable within the domain of interest.\n",
    "- Compute the first derivative 𝑓′(𝑥):\n",
    "    - This represents the slope of the tangent line at any point 𝑥.\n",
    "- Solve 𝑓′(𝑥)=0:\n",
    "    - The solutions are potential critical points where the slope of the tangent is zero.\n",
    "- Check where 𝑓′(𝑥) is undefined:\n",
    "    - Points where the derivative doesn't exist are also critical points.\n",
    "- Verify the nature of the critical points:\n",
    "    - Use the second derivative test or analyze the sign of 𝑓′(𝑥) around the critical points to determine if they are maxima, minima, or neither.\n"
   ]
  },
  {
   "cell_type": "markdown",
   "id": "b9ada627-e5db-4a66-a770-6015e5c365d3",
   "metadata": {},
   "source": [
    "**Python Implementation to Find Critical Points**\n",
    "\n",
    "We will use SymPy for symbolic computation."
   ]
  },
  {
   "cell_type": "markdown",
   "id": "b159df53-e2ff-4c2d-9fe5-d1f9be475435",
   "metadata": {},
   "source": [
    "**Step-by-Step Example**\n",
    "    \n",
    "Consider the function $$ f(x)=x^3-3x^2+4 $$"
   ]
  },
  {
   "cell_type": "markdown",
   "id": "3ea51dbc-0939-4bf6-b24c-72c326624ebb",
   "metadata": {},
   "source": [
    "***1.Install SymPy*** (if not already installed):"
   ]
  },
  {
   "cell_type": "code",
   "execution_count": null,
   "id": "9cabbe1a-d6e5-4b12-a2db-87d6c0c81089",
   "metadata": {},
   "outputs": [],
   "source": [
    "pip install sympy"
   ]
  },
  {
   "cell_type": "markdown",
   "id": "b0a6df85-d910-4702-b158-ada1e0e855ee",
   "metadata": {},
   "source": [
    "***2.Python Code:***"
   ]
  },
  {
   "cell_type": "code",
   "execution_count": 1,
   "id": "e40d2be9-5517-4add-accb-37aeed6997a1",
   "metadata": {},
   "outputs": [
    {
     "name": "stdout",
     "output_type": "stream",
     "text": [
      "Critical Points: [0, 2]\n",
      "Classification of Critical Points: {0: 'Local Maxima', 2: 'Local Minima'}\n"
     ]
    }
   ],
   "source": [
    "from sympy import symbols, diff, solve\n",
    "\n",
    "# Step 1: Define the variable and the function\n",
    "x = symbols('x')\n",
    "f = x**3 - 3*x**2 + 4\n",
    "\n",
    "# Step 2: Compute the first derivative\n",
    "f_prime = diff(f, x)\n",
    "\n",
    "# Step 3: Solve f'(x) = 0 to find critical points\n",
    "critical_points = solve(f_prime, x)\n",
    "\n",
    "# Step 4: Check the second derivative to classify critical points\n",
    "f_double_prime = diff(f_prime, x)\n",
    "classification = {}\n",
    "for point in critical_points:\n",
    "    second_derivative_value = f_double_prime.subs(x, point)\n",
    "    if second_derivative_value > 0:\n",
    "        classification[point] = 'Local Minima'\n",
    "    elif second_derivative_value < 0:\n",
    "        classification[point] = 'Local Maxima'\n",
    "    else:\n",
    "        classification[point] = 'Point of Inflection'\n",
    "\n",
    "# Output results\n",
    "print(\"Critical Points:\", critical_points)\n",
    "print(\"Classification of Critical Points:\", classification)"
   ]
  }
 ],
 "metadata": {
  "kernelspec": {
   "display_name": "Python 3 (ipykernel)",
   "language": "python",
   "name": "python3"
  },
  "language_info": {
   "codemirror_mode": {
    "name": "ipython",
    "version": 3
   },
   "file_extension": ".py",
   "mimetype": "text/x-python",
   "name": "python",
   "nbconvert_exporter": "python",
   "pygments_lexer": "ipython3",
   "version": "3.12.2"
  }
 },
 "nbformat": 4,
 "nbformat_minor": 5
}
