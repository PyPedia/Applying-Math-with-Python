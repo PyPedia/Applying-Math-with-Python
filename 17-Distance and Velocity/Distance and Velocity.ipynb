{
 "cells": [
  {
   "cell_type": "markdown",
   "id": "72d62a46-aae0-47a9-82ba-f4f267dc11d4",
   "metadata": {},
   "source": [
    "**Distance and Velocity:**\n",
    "\n",
    "The relationship between *distance*, *velocity*, and *time* can be described using integrals:\n",
    "\n",
    "- *Velocity*: The derivative of the position function with respect to time. $$v(t)=\\frac{d }{dx}x(t)$$\n",
    "- *Position/Distance*: The integral of the velocity function with respect to time gives the position (or distance) function: $$x(t)=\\int_{}^{}v(t)dt$$\n",
    "\n",
    "For example, if you know the velocity of an object as a function of time, you can integrate that velocity function to find the object's position over time."
   ]
  },
  {
   "cell_type": "markdown",
   "id": "70eb950a-a57a-4dae-a671-b04dfad241a7",
   "metadata": {},
   "source": [
    "**Practical Example 1: Finding the Position Function**\n",
    "\n",
    "Let’s say the velocity of a car is given by the function: $$v(t)=3t^2$$\n",
    "\n",
    "This means the car’s velocity increases quadratically with time. To find the position function 𝑥(𝑡), we can integrate the velocity function.\n",
    "\n",
    "**Step-by-step:**\n",
    "\n",
    "- Set up the integral: $$x(t)=\\int_{}^{}3t^2dt$$\n",
    "- Solve the integral: $$x(t)=t^3+C$$\n",
    "\n",
    "Where 𝐶 is the constant of integration, which can be determined from initial conditions."
   ]
  },
  {
   "cell_type": "markdown",
   "id": "b8983246-b521-4f39-8f8d-1146b0a60fbe",
   "metadata": {},
   "source": [
    "**Example 2: Finding the Distance Traveled**\n",
    "\n",
    "If you have the velocity function and initial conditions, you can also calculate the distance traveled by the object. Let’s say the velocity of an object is given by: $$v(t)=5t$$\n",
    "\n",
    "And the object starts at position 𝑥(0)=0. We want to find the distance traveled between 𝑡=0 and 𝑡=2.\n",
    "\n",
    "**Step-by-step:**\n",
    "\n",
    "- Set up the integral: $$x(t)=\\int_{}^{}5tdt=\\frac{5t^2}{2}+C$$\n",
    "- Apply the initial condition: 𝑥(0)=0: $$0=\\frac{5(0)^2}{2}+C\\Rightarrow C=0$$\n",
    "- Thus, the position function is: $$x(t)=\\frac{5t^2}{2}$$\n",
    "- Find the distance traveled between 𝑡=0 and 𝑡=2: $$x(2)=\\frac{5(2)^2}{2}=10$$"
   ]
  },
  {
   "cell_type": "markdown",
   "id": "37292900-72b4-4e9d-bd6a-46080c24af88",
   "metadata": {},
   "source": [
    "**Python Code Examples:**\n",
    "\n",
    "Now, let’s implement this in Python using SymPy."
   ]
  },
  {
   "cell_type": "code",
   "execution_count": 1,
   "id": "b9215cbb-29cf-4c48-99aa-fd357159ae6b",
   "metadata": {},
   "outputs": [
    {
     "data": {
      "text/latex": [
       "$\\displaystyle 10$"
      ],
      "text/plain": [
       "10"
      ]
     },
     "execution_count": 1,
     "metadata": {},
     "output_type": "execute_result"
    }
   ],
   "source": [
    "import sympy as sp\n",
    "\n",
    "# Example 1: Finding the position function given v(t) = 3t^2\n",
    "t = sp.symbols('t')\n",
    "v_t = 3 * t**2\n",
    "\n",
    "# Integrating to find x(t)\n",
    "x_t = sp.integrate(v_t, t)\n",
    "x_t  # Output: t**3 + C\n",
    "\n",
    "# Example 2: Finding the position function given v(t) = 5t\n",
    "v_t2 = 5 * t\n",
    "x_t2 = sp.integrate(v_t2, t)\n",
    "x_t2  # Output: 5*t**2/2 + C\n",
    "\n",
    "# Apply initial condition x(0) = 0 to determine C\n",
    "C = sp.symbols('C')\n",
    "x_t2_with_C = x_t2 + C\n",
    "solution = sp.solve(x_t2_with_C.subs(t, 0), C)\n",
    "x_t2_final = x_t2.subs(C, solution[0])  # Substituting C = 0\n",
    "x_t2_final  # Output: 5*t**2/2\n",
    "\n",
    "# Calculating distance traveled from t = 0 to t = 2\n",
    "x_at_2 = x_t2_final.subs(t, 2)\n",
    "x_at_2  # Output: 10 meters\n"
   ]
  }
 ],
 "metadata": {
  "kernelspec": {
   "display_name": "Python 3 (ipykernel)",
   "language": "python",
   "name": "python3"
  },
  "language_info": {
   "codemirror_mode": {
    "name": "ipython",
    "version": 3
   },
   "file_extension": ".py",
   "mimetype": "text/x-python",
   "name": "python",
   "nbconvert_exporter": "python",
   "pygments_lexer": "ipython3",
   "version": "3.12.2"
  }
 },
 "nbformat": 4,
 "nbformat_minor": 5
}
