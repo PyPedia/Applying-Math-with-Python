{
 "cells": [
  {
   "cell_type": "markdown",
   "id": "d1f57b89-21b1-4470-815f-c028b1a136d6",
   "metadata": {},
   "source": [
    "**Step 1: What Are Comments?**\n",
    "\n",
    "- Comments are used for code documentation.\n",
    "- They are ignored during execution.\n",
    "- In Python, comments start with the # symbol."
   ]
  },
  {
   "cell_type": "code",
   "execution_count": 1,
   "id": "209ba07c-0a4c-4767-ab1a-843b14ba2f16",
   "metadata": {},
   "outputs": [
    {
     "name": "stdout",
     "output_type": "stream",
     "text": [
      "Hello, World!\n"
     ]
    }
   ],
   "source": [
    "# This is a comment\n",
    "print(\"Hello, World!\")  # This prints a greeting message"
   ]
  },
  {
   "cell_type": "markdown",
   "id": "d36f5793-12a6-4e40-9303-df6cb9da10e7",
   "metadata": {},
   "source": [
    "**Step 2: Single-Line Comments**\n",
    "    \n",
    "Single-line comments start with # and extend to the end of the line."
   ]
  },
  {
   "cell_type": "code",
   "execution_count": 2,
   "id": "1bc0c029-1eda-4a0b-a121-97a1410b5695",
   "metadata": {},
   "outputs": [],
   "source": [
    "# This line explains the next line of code\n",
    "x = 10  # Assigns 10 to the variable x"
   ]
  },
  {
   "cell_type": "markdown",
   "id": "04ed9ec9-36af-4085-a4ff-a09686789404",
   "metadata": {},
   "source": [
    "**Step 3: Multi-Line Comments**\n",
    "\n",
    "Python does not have a specific syntax for multi-line comments, but you can use consecutive # symbols or multi-line string literals (''' or \"\"\") for documentation."
   ]
  },
  {
   "cell_type": "raw",
   "id": "45220e8e-a76a-431c-92e0-89686de7b8bf",
   "metadata": {},
   "source": [
    "Method 1: \n",
    "Consecutive #:"
   ]
  },
  {
   "cell_type": "code",
   "execution_count": 3,
   "id": "2ec2db16-1cd8-4f52-8738-21dc25c3bbbe",
   "metadata": {},
   "outputs": [
    {
     "name": "stdout",
     "output_type": "stream",
     "text": [
      "Multi-line comments using #\n"
     ]
    }
   ],
   "source": [
    "# This is the first line of a multi-line comment\n",
    "# This is the second line of the same comment\n",
    "print(\"Multi-line comments using #\")"
   ]
  },
  {
   "cell_type": "raw",
   "id": "81f2cb6f-6af8-4263-9f17-178002fafeee",
   "metadata": {},
   "source": [
    "Method 2: \n",
    "Using String Literals: \n",
    "String literals can be used to simulate comments, though they are technically strings and not ignored by Python."
   ]
  },
  {
   "cell_type": "code",
   "execution_count": 4,
   "id": "807cd296-f796-4707-9f65-bc2b3dedf405",
   "metadata": {},
   "outputs": [
    {
     "name": "stdout",
     "output_type": "stream",
     "text": [
      "Multi-line comments using triple quotes\n"
     ]
    }
   ],
   "source": [
    "\"\"\"\n",
    "This is a multi-line comment.\n",
    "It spans multiple lines.\n",
    "Useful for long explanations.\n",
    "\"\"\"\n",
    "print(\"Multi-line comments using triple quotes\")"
   ]
  },
  {
   "cell_type": "markdown",
   "id": "87150e25-b253-4fe0-9f69-5b1dd0fac545",
   "metadata": {},
   "source": [
    "**Step 4: Commenting Out Code**\n",
    "\n",
    "You can \"comment out\" lines of code to disable them temporarily."
   ]
  },
  {
   "cell_type": "code",
   "execution_count": 6,
   "id": "d375f899-c18e-4817-be23-1571d29f512e",
   "metadata": {},
   "outputs": [
    {
     "name": "stdout",
     "output_type": "stream",
     "text": [
      "This line will run\n"
     ]
    }
   ],
   "source": [
    "# print(\"This line is commented out and won't run\")\n",
    "print(\"This line will run\")"
   ]
  },
  {
   "cell_type": "markdown",
   "id": "74ac6e0c-1555-4f18-9729-8da3a8762781",
   "metadata": {},
   "source": [
    "**Step 5: Inline Comments**\n",
    "\n",
    "Add comments to the same line as code for brief explanations."
   ]
  },
  {
   "cell_type": "code",
   "execution_count": 8,
   "id": "1767334e-b2f5-426d-8dea-be2c06ab7094",
   "metadata": {},
   "outputs": [
    {
     "name": "stdout",
     "output_type": "stream",
     "text": [
      "10\n"
     ]
    }
   ],
   "source": [
    "x = 5  # Assigning value 5 to variable x\n",
    "y = x * 2  # Multiplying x by 2 and storing in y\n",
    "\n",
    "print(y)  # Prints the value of y"
   ]
  },
  {
   "cell_type": "markdown",
   "id": "e5f35946-4f62-4a9b-8334-a5c2a18fc68d",
   "metadata": {},
   "source": [
    "**Step 6: Using Comments for Documentation**\n",
    "\n",
    "Comments are often used in Python scripts to explain the purpose and usage of the script."
   ]
  },
  {
   "cell_type": "code",
   "execution_count": 10,
   "id": "210eeaa9-2fff-4e44-872d-3deb9b88b3d7",
   "metadata": {},
   "outputs": [
    {
     "name": "stdout",
     "output_type": "stream",
     "text": [
      "The area of the rectangle is: 50\n"
     ]
    }
   ],
   "source": [
    "# This script calculates the area of a rectangle\n",
    "length = 10  # Length of the rectangle\n",
    "width = 5    # Width of the rectangle\n",
    "area = length * width  # Formula for area\n",
    "\n",
    "print(\"The area of the rectangle is:\", area)"
   ]
  }
 ],
 "metadata": {
  "kernelspec": {
   "display_name": "Python 3 (ipykernel)",
   "language": "python",
   "name": "python3"
  },
  "language_info": {
   "codemirror_mode": {
    "name": "ipython",
    "version": 3
   },
   "file_extension": ".py",
   "mimetype": "text/x-python",
   "name": "python",
   "nbconvert_exporter": "python",
   "pygments_lexer": "ipython3",
   "version": "3.12.2"
  }
 },
 "nbformat": 4,
 "nbformat_minor": 5
}
