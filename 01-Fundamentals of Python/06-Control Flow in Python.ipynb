{
 "cells": [
  {
   "cell_type": "markdown",
   "id": "69807b22-3e10-4a2e-8bf7-4c9160b9a6f0",
   "metadata": {},
   "source": [
    "**Control Flow in Python**\n",
    "\n",
    "Control flow refers to the order in which instructions or statements are executed in a program. In Python, control flow is implemented using conditional statements (if, if-else, if-elif-else) and loops (for, while)."
   ]
  },
  {
   "cell_type": "markdown",
   "id": "a8ae28e5-94ec-4f74-b904-7dd07718b7a9",
   "metadata": {},
   "source": [
    "**1. Conditional Statements**\n",
    "\n",
    "a. *if Statement*\n",
    "\n",
    "Executes a block of code if a condition is True."
   ]
  },
  {
   "cell_type": "code",
   "execution_count": null,
   "id": "1954659d-c465-4444-900e-89056f7a4938",
   "metadata": {},
   "outputs": [],
   "source": [
    "if condition:\n",
    "    # Code block"
   ]
  },
  {
   "cell_type": "code",
   "execution_count": 2,
   "id": "5cd5647f-f393-4f5b-9bf7-f14920022e52",
   "metadata": {},
   "outputs": [
    {
     "name": "stdout",
     "output_type": "stream",
     "text": [
      "You are eligible to vote.\n"
     ]
    }
   ],
   "source": [
    "age = 18\n",
    "\n",
    "if age >= 18:\n",
    "    print(\"You are eligible to vote.\")"
   ]
  },
  {
   "cell_type": "markdown",
   "id": "251dd898-6100-46f5-9e6c-c243d50c1904",
   "metadata": {},
   "source": [
    "b. *if-else Statement*\n",
    "\n",
    "Provides an alternative block of code to execute if the condition is False."
   ]
  },
  {
   "cell_type": "code",
   "execution_count": null,
   "id": "e11e947e-d897-4dcc-83d6-f09d9fddb60f",
   "metadata": {},
   "outputs": [],
   "source": [
    "if condition:\n",
    "    # Code block if condition is True\n",
    "else:\n",
    "    # Code block if condition is False"
   ]
  },
  {
   "cell_type": "code",
   "execution_count": 3,
   "id": "db85c982-176f-438e-9549-30ff11f451aa",
   "metadata": {},
   "outputs": [
    {
     "name": "stdout",
     "output_type": "stream",
     "text": [
      "You are not eligible to vote.\n"
     ]
    }
   ],
   "source": [
    "age = 16\n",
    "\n",
    "if age >= 18:\n",
    "    print(\"You are eligible to vote.\")\n",
    "else:\n",
    "    print(\"You are not eligible to vote.\")"
   ]
  },
  {
   "cell_type": "markdown",
   "id": "5f298f3d-42e7-48a4-a5c0-5941167cb5d9",
   "metadata": {},
   "source": [
    "c. *if-elif-else Statement*\n",
    "\n",
    "Used to check multiple conditions."
   ]
  },
  {
   "cell_type": "code",
   "execution_count": null,
   "id": "a28c74bf-7074-4ff5-beb6-4ddabb268db7",
   "metadata": {},
   "outputs": [],
   "source": [
    "if condition1:\n",
    "    # Code block if condition1 is True\n",
    "elif condition2:\n",
    "    # Code block if condition2 is True\n",
    "else:\n",
    "    # Code block if all conditions are False"
   ]
  },
  {
   "cell_type": "code",
   "execution_count": 4,
   "id": "c2f0e407-e136-4c13-9c8e-457d6a008576",
   "metadata": {},
   "outputs": [
    {
     "name": "stdout",
     "output_type": "stream",
     "text": [
      "Grade: B\n"
     ]
    }
   ],
   "source": [
    "marks = 85\n",
    "\n",
    "if marks >= 90:\n",
    "    print(\"Grade: A\")\n",
    "elif marks >= 75:\n",
    "    print(\"Grade: B\")\n",
    "else:\n",
    "    print(\"Grade: C\")"
   ]
  },
  {
   "cell_type": "markdown",
   "id": "17597c8d-9d13-431b-a1f1-fe1bb38ba22e",
   "metadata": {},
   "source": [
    "**2. Loops**\n",
    "\n",
    "Loops allow repetitive execution of a block of code."
   ]
  },
  {
   "cell_type": "markdown",
   "id": "7981cad3-7a54-412d-b514-9be17e9360d5",
   "metadata": {},
   "source": [
    "a. *for Loop*\n",
    "\n",
    "Iterates over a sequence (e.g., list, string, range)."
   ]
  },
  {
   "cell_type": "code",
   "execution_count": null,
   "id": "fb08c071-05c9-4762-827a-b02c59b6e74b",
   "metadata": {},
   "outputs": [],
   "source": [
    "for item in sequence:\n",
    "    # Code block"
   ]
  },
  {
   "cell_type": "code",
   "execution_count": 5,
   "id": "103c4cd7-de7f-429b-8533-ee53095748b1",
   "metadata": {},
   "outputs": [
    {
     "name": "stdout",
     "output_type": "stream",
     "text": [
      "apple\n",
      "banana\n",
      "cherry\n"
     ]
    }
   ],
   "source": [
    "fruits = [\"apple\", \"banana\", \"cherry\"]\n",
    "\n",
    "for fruit in fruits:\n",
    "    print(fruit)"
   ]
  },
  {
   "cell_type": "markdown",
   "id": "c4898bd6-ad28-4cf1-b300-9cfb3709638e",
   "metadata": {},
   "source": [
    "b. *range() Function with for Loop*\n",
    "\n",
    "Used to generate a sequence of numbers."
   ]
  },
  {
   "cell_type": "code",
   "execution_count": null,
   "id": "409d4377-5461-4299-a514-31be6d394929",
   "metadata": {},
   "outputs": [],
   "source": [
    "for i in range(5):  # Default start is 0\n",
    "    print(i)  # Outputs: 0, 1, 2, 3, 4"
   ]
  },
  {
   "cell_type": "code",
   "execution_count": 6,
   "id": "71770e8b-8a4b-4c1e-a4f3-ef03cb1cde65",
   "metadata": {},
   "outputs": [
    {
     "name": "stdout",
     "output_type": "stream",
     "text": [
      "1\n",
      "3\n",
      "5\n",
      "7\n",
      "9\n"
     ]
    }
   ],
   "source": [
    "for i in range(1, 10, 2):  # Start at 1, end before 10, step by 2\n",
    "    print(i)  # Outputs: 1, 3, 5, 7, 9"
   ]
  },
  {
   "cell_type": "markdown",
   "id": "497f66b6-2a6a-4e6a-a172-7bd1bbe5c40c",
   "metadata": {},
   "source": [
    "**c. while Loop**\n",
    "\n",
    "Executes a block of code as long as a condition is True."
   ]
  },
  {
   "cell_type": "code",
   "execution_count": null,
   "id": "995349c8-3f00-45f4-8298-32d33908f9f6",
   "metadata": {},
   "outputs": [],
   "source": [
    "while condition:\n",
    "    # Code block"
   ]
  },
  {
   "cell_type": "code",
   "execution_count": 7,
   "id": "bb8b4172-df86-4412-b347-e10652135f54",
   "metadata": {},
   "outputs": [
    {
     "name": "stdout",
     "output_type": "stream",
     "text": [
      "0\n",
      "1\n",
      "2\n",
      "3\n",
      "4\n"
     ]
    }
   ],
   "source": [
    "count = 0\n",
    "\n",
    "while count < 5:\n",
    "    print(count)\n",
    "    count += 1  # Increment count"
   ]
  },
  {
   "cell_type": "markdown",
   "id": "7f8560fc-8643-4e96-ba10-5621912e25f8",
   "metadata": {},
   "source": [
    "**d. break Statement**\n",
    "\n",
    "Terminates the loop prematurely."
   ]
  },
  {
   "cell_type": "code",
   "execution_count": 9,
   "id": "9e868f43-8f9f-46bd-812c-eb4559ec3eeb",
   "metadata": {},
   "outputs": [
    {
     "name": "stdout",
     "output_type": "stream",
     "text": [
      "0\n",
      "1\n",
      "2\n",
      "3\n",
      "4\n"
     ]
    }
   ],
   "source": [
    "for i in range(10):\n",
    "    if i == 5:\n",
    "        break\n",
    "    print(i)  # Outputs: 0, 1, 2, 3, 4"
   ]
  },
  {
   "cell_type": "markdown",
   "id": "77be1ae0-fd14-4f6b-8ef7-41aa837bfbf4",
   "metadata": {},
   "source": [
    "**e. continue Statement**\n",
    "\n",
    "Skips the current iteration and moves to the next."
   ]
  },
  {
   "cell_type": "code",
   "execution_count": 10,
   "id": "e79c2745-ca37-480a-b1f7-c6780a5a0cdc",
   "metadata": {},
   "outputs": [
    {
     "name": "stdout",
     "output_type": "stream",
     "text": [
      "0\n",
      "1\n",
      "2\n",
      "4\n"
     ]
    }
   ],
   "source": [
    "for i in range(5):\n",
    "    if i == 3:\n",
    "        continue\n",
    "    print(i)  # Outputs: 0, 1, 2, 4"
   ]
  },
  {
   "cell_type": "markdown",
   "id": "4b21906a-dc95-4b3f-a34e-5b38a7147217",
   "metadata": {},
   "source": [
    "**f. else with Loops**\n",
    "\n",
    "The else block in a loop executes after the loop finishes, unless the loop is terminated with break."
   ]
  },
  {
   "cell_type": "code",
   "execution_count": 11,
   "id": "5feee313-c4d6-47b4-a99a-7694e5edc52d",
   "metadata": {},
   "outputs": [
    {
     "name": "stdout",
     "output_type": "stream",
     "text": [
      "0\n",
      "1\n",
      "2\n",
      "3\n",
      "4\n",
      "Loop completed successfully.\n"
     ]
    }
   ],
   "source": [
    "for i in range(5):\n",
    "    print(i)\n",
    "else:\n",
    "    print(\"Loop completed successfully.\")"
   ]
  },
  {
   "cell_type": "markdown",
   "id": "4bd47ffa-2726-496c-b03d-eff00889cef8",
   "metadata": {},
   "source": [
    "**Summary**\n",
    "\n",
    "| Control Flow Component | Purpose |\n",
    "| --- | --- | \n",
    "| *if*, *if-else*, *if-elif-else* | Conditional execution of code blocks. |\n",
    "| *for* Loop | Iterates over sequences or ranges. |\n",
    "| *while* Loop | Repeats code while a condition is True. |\n",
    "| *break* | Exits the loop prematurely. |\n",
    "| *continue* | Skips the current iteration. |\n",
    "| *else* with Loops | Executes after the loop, unless break is used. |"
   ]
  }
 ],
 "metadata": {
  "kernelspec": {
   "display_name": "Python 3 (ipykernel)",
   "language": "python",
   "name": "python3"
  },
  "language_info": {
   "codemirror_mode": {
    "name": "ipython",
    "version": 3
   },
   "file_extension": ".py",
   "mimetype": "text/x-python",
   "name": "python",
   "nbconvert_exporter": "python",
   "pygments_lexer": "ipython3",
   "version": "3.12.2"
  }
 },
 "nbformat": 4,
 "nbformat_minor": 5
}
