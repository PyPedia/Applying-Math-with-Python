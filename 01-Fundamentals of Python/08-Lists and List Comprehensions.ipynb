{
 "cells": [
  {
   "cell_type": "markdown",
   "id": "675e10f0-9376-40ef-95ce-2e84773b8954",
   "metadata": {},
   "source": [
    "**Understanding Lists in Python**\n",
    "\n",
    "A list in Python is a collection data type that is ordered, mutable, and allows duplicate elements. Lists are defined using square brackets []."
   ]
  },
  {
   "cell_type": "markdown",
   "id": "27377a57-ef4d-4341-9fab-b1860179ac39",
   "metadata": {},
   "source": [
    "**Basic List Operations**"
   ]
  },
  {
   "cell_type": "code",
   "execution_count": 3,
   "id": "138a125c-2ff7-457f-85e3-cca49bf117fe",
   "metadata": {},
   "outputs": [
    {
     "name": "stdout",
     "output_type": "stream",
     "text": [
      "List: [1, 2, 3, 4, 5]\n"
     ]
    }
   ],
   "source": [
    "# Creating a list\n",
    "my_list = [1, 2, 3, 4, 5]\n",
    "print(\"List:\", my_list)"
   ]
  },
  {
   "cell_type": "code",
   "execution_count": 4,
   "id": "d04a0528-ced6-401e-a3ce-b4a6f8c08959",
   "metadata": {},
   "outputs": [
    {
     "name": "stdout",
     "output_type": "stream",
     "text": [
      "First element: 1\n",
      "Last element: 5\n"
     ]
    }
   ],
   "source": [
    "# Accessing elements\n",
    "print(\"First element:\", my_list[0])\n",
    "print(\"Last element:\", my_list[-1])"
   ]
  },
  {
   "cell_type": "code",
   "execution_count": 5,
   "id": "49c9eda5-2e1d-4044-8cb9-892b3f3577b1",
   "metadata": {},
   "outputs": [
    {
     "name": "stdout",
     "output_type": "stream",
     "text": [
      "Modified list: [1, 20, 3, 4, 5]\n"
     ]
    }
   ],
   "source": [
    "# Modifying elements\n",
    "my_list[1] = 20\n",
    "print(\"Modified list:\", my_list)"
   ]
  },
  {
   "cell_type": "code",
   "execution_count": 7,
   "id": "fc9f42c0-6154-4fc6-8107-bcacae225b97",
   "metadata": {},
   "outputs": [
    {
     "name": "stdout",
     "output_type": "stream",
     "text": [
      "After append: [1, 20, 3, 4, 5, 6, 8]\n"
     ]
    }
   ],
   "source": [
    "# Adding elements\n",
    "my_list.append(8)  # Adds at the end\n",
    "print(\"After append:\", my_list)"
   ]
  },
  {
   "cell_type": "code",
   "execution_count": 8,
   "id": "bb39df20-2675-496f-8181-83c9890e7890",
   "metadata": {},
   "outputs": [
    {
     "name": "stdout",
     "output_type": "stream",
     "text": [
      "After insert: [1, 20, 15, 3, 4, 5, 6, 8]\n"
     ]
    }
   ],
   "source": [
    "my_list.insert(2, 15)  # Inserts 15 at index 2\n",
    "print(\"After insert:\", my_list)"
   ]
  },
  {
   "cell_type": "code",
   "execution_count": 9,
   "id": "af4b6a69-ad3c-43fe-bbf7-79e4a36dbc6b",
   "metadata": {},
   "outputs": [
    {
     "name": "stdout",
     "output_type": "stream",
     "text": [
      "After remove: [1, 15, 3, 4, 5, 6, 8]\n"
     ]
    }
   ],
   "source": [
    "# Removing elements\n",
    "my_list.remove(20)  # Removes the first occurrence of 20\n",
    "print(\"After remove:\", my_list)"
   ]
  },
  {
   "cell_type": "code",
   "execution_count": 10,
   "id": "925d986c-eb9d-4229-9f24-7ac7ef39f4db",
   "metadata": {},
   "outputs": [
    {
     "name": "stdout",
     "output_type": "stream",
     "text": [
      "Popped element: 8\n",
      "After pop: [1, 15, 3, 4, 5, 6]\n"
     ]
    }
   ],
   "source": [
    "popped_element = my_list.pop()  # Removes and returns the last element\n",
    "print(\"Popped element:\", popped_element)\n",
    "print(\"After pop:\", my_list)"
   ]
  },
  {
   "cell_type": "code",
   "execution_count": 11,
   "id": "4ad77148-9be6-4ed2-a3bd-be2e201a0d8b",
   "metadata": {},
   "outputs": [
    {
     "name": "stdout",
     "output_type": "stream",
     "text": [
      "Slicing: [15, 3, 4]\n"
     ]
    }
   ],
   "source": [
    "# Slicing\n",
    "print(\"Slicing:\", my_list[1:4])"
   ]
  },
  {
   "cell_type": "code",
   "execution_count": 12,
   "id": "5bd0a28b-c4a3-4c60-85b8-e595286c4ac7",
   "metadata": {},
   "outputs": [
    {
     "name": "stdout",
     "output_type": "stream",
     "text": [
      "Is 15 in the list? True\n"
     ]
    }
   ],
   "source": [
    "# Checking membership\n",
    "print(\"Is 15 in the list?\", 15 in my_list)"
   ]
  },
  {
   "cell_type": "markdown",
   "id": "f3dda5b5-de48-47ed-b811-7563210ac318",
   "metadata": {},
   "source": [
    "**List Comprehensions**\n",
    "  \n",
    "List comprehensions provide a concise way to create lists. The syntax is:"
   ]
  },
  {
   "cell_type": "code",
   "execution_count": null,
   "id": "b8c40d84-4786-4716-8b97-9405b355b3a6",
   "metadata": {},
   "outputs": [],
   "source": [
    "[expression for item in iterable if condition]"
   ]
  },
  {
   "cell_type": "markdown",
   "id": "6c76425e-566e-4fe1-82ab-d64f3792c277",
   "metadata": {},
   "source": [
    "**Basic Examples**"
   ]
  },
  {
   "cell_type": "code",
   "execution_count": 13,
   "id": "173d3551-0863-41d2-bc63-691dec838fce",
   "metadata": {},
   "outputs": [
    {
     "name": "stdout",
     "output_type": "stream",
     "text": [
      "Squares: [0, 1, 4, 9, 16, 25, 36, 49, 64, 81]\n"
     ]
    }
   ],
   "source": [
    "# Creating a list of squares\n",
    "squares = [x**2 for x in range(10)]\n",
    "print(\"Squares:\", squares)"
   ]
  },
  {
   "cell_type": "code",
   "execution_count": 14,
   "id": "baec97fa-8d65-4a90-8753-090f7cc331ef",
   "metadata": {},
   "outputs": [
    {
     "name": "stdout",
     "output_type": "stream",
     "text": [
      "Evens: [0, 2, 4, 6, 8, 10, 12, 14, 16, 18]\n"
     ]
    }
   ],
   "source": [
    "# List of even numbers\n",
    "evens = [x for x in range(20) if x % 2 == 0]\n",
    "print(\"Evens:\", evens)"
   ]
  },
  {
   "cell_type": "code",
   "execution_count": 15,
   "id": "d0d401a4-003f-4fdf-807b-eee2d91bdcaa",
   "metadata": {},
   "outputs": [
    {
     "name": "stdout",
     "output_type": "stream",
     "text": [
      "Uppercase names: ['ALICE', 'BOB', 'CHARLIE']\n"
     ]
    }
   ],
   "source": [
    "# Applying transformations\n",
    "names = [\"Alice\", \"Bob\", \"Charlie\"]\n",
    "uppercase_names = [name.upper() for name in names]\n",
    "print(\"Uppercase names:\", uppercase_names)"
   ]
  },
  {
   "cell_type": "markdown",
   "id": "3def496e-fc46-478a-af24-3105b6d3c29e",
   "metadata": {},
   "source": [
    "**Nested List Comprehensions**"
   ]
  },
  {
   "cell_type": "code",
   "execution_count": 2,
   "id": "278c85cd-b015-40e4-bff1-608c415d8e62",
   "metadata": {},
   "outputs": [
    {
     "name": "stdout",
     "output_type": "stream",
     "text": [
      "Multiplication table:\n",
      "[1, 2, 3, 4, 5]\n",
      "[2, 4, 6, 8, 10]\n",
      "[3, 6, 9, 12, 15]\n",
      "[4, 8, 12, 16, 20]\n",
      "[5, 10, 15, 20, 25]\n"
     ]
    }
   ],
   "source": [
    "# Multiplication table\n",
    "multiplication_table = [[i * j for j in range(1, 6)] for i in range(1, 6)]\n",
    "print(\"Multiplication table:\")\n",
    "for row in multiplication_table:\n",
    "    print(row)"
   ]
  },
  {
   "cell_type": "markdown",
   "id": "0e23c7ab-857d-4280-bb64-021c9aef1f18",
   "metadata": {},
   "source": [
    "**Conditional List Comprehensions**"
   ]
  },
  {
   "cell_type": "code",
   "execution_count": 4,
   "id": "d3016617-3d78-46e1-a17f-72e9776668b4",
   "metadata": {},
   "outputs": [
    {
     "name": "stdout",
     "output_type": "stream",
     "text": [
      "Filtered numbers: [12, 14, 16, 18]\n"
     ]
    }
   ],
   "source": [
    "# Adding conditions\n",
    "numbers = range(20)\n",
    "filtered_numbers = [x for x in numbers if x % 2 == 0 and x > 10]\n",
    "print(\"Filtered numbers:\", filtered_numbers)"
   ]
  },
  {
   "cell_type": "code",
   "execution_count": 5,
   "id": "d8a9dc89-6329-4eb5-b37a-b120bd30d57f",
   "metadata": {},
   "outputs": [
    {
     "name": "stdout",
     "output_type": "stream",
     "text": [
      "Replace odds with -1: [0, -1, 2, -1, 4, -1, 6, -1, 8, -1, 10, -1, 12, -1, 14, -1, 16, -1, 18, -1]\n"
     ]
    }
   ],
   "source": [
    "# Replace values based on conditions\n",
    "replaced_values = [x if x % 2 == 0 else -1 for x in numbers]\n",
    "print(\"Replace odds with -1:\", replaced_values)"
   ]
  },
  {
   "cell_type": "markdown",
   "id": "383b7106-ae99-43e7-99c4-6904a1249351",
   "metadata": {},
   "source": [
    "**Flattening a Nested List**"
   ]
  },
  {
   "cell_type": "code",
   "execution_count": 6,
   "id": "a12421b0-8e72-432c-859e-c435b383bfb9",
   "metadata": {},
   "outputs": [
    {
     "name": "stdout",
     "output_type": "stream",
     "text": [
      "Flattened list: [1, 2, 3, 4, 5, 6, 7, 8, 9]\n"
     ]
    }
   ],
   "source": [
    "nested_list = [[1, 2, 3], [4, 5], [6, 7, 8, 9]]\n",
    "flattened = [item for sublist in nested_list for item in sublist]\n",
    "print(\"Flattened list:\", flattened)"
   ]
  },
  {
   "cell_type": "markdown",
   "id": "9242735e-8bb5-4b18-945c-c2185366db9a",
   "metadata": {},
   "source": [
    "**Using Functions in List Comprehensions**"
   ]
  },
  {
   "cell_type": "code",
   "execution_count": 7,
   "id": "8088c1c8-8ec2-42c4-8694-03dbcf64fe58",
   "metadata": {},
   "outputs": [
    {
     "name": "stdout",
     "output_type": "stream",
     "text": [
      "Squared values: [4, 9, 16, 25]\n"
     ]
    }
   ],
   "source": [
    "# Applying a function to each element\n",
    "def square(x):\n",
    "    return x**2\n",
    "\n",
    "values = [2, 3, 4, 5]\n",
    "squared_values = [square(x) for x in values]\n",
    "print(\"Squared values:\", squared_values)"
   ]
  },
  {
   "cell_type": "markdown",
   "id": "44482d1e-20be-4b23-9030-9ef534dda15e",
   "metadata": {},
   "source": [
    "**Generating a List of Tuples**"
   ]
  },
  {
   "cell_type": "code",
   "execution_count": 8,
   "id": "55ef0220-1c90-439b-8f53-58bd5ceeeb86",
   "metadata": {},
   "outputs": [
    {
     "name": "stdout",
     "output_type": "stream",
     "text": [
      "Cartesian product: [(0, 0), (0, 1), (0, 2), (1, 0), (1, 1), (1, 2), (2, 0), (2, 1), (2, 2)]\n"
     ]
    }
   ],
   "source": [
    "# Cartesian product\n",
    "cartesian_product = [(x, y) for x in range(3) for y in range(3)]\n",
    "print(\"Cartesian product:\", cartesian_product)"
   ]
  }
 ],
 "metadata": {
  "kernelspec": {
   "display_name": "Python 3 (ipykernel)",
   "language": "python",
   "name": "python3"
  },
  "language_info": {
   "codemirror_mode": {
    "name": "ipython",
    "version": 3
   },
   "file_extension": ".py",
   "mimetype": "text/x-python",
   "name": "python",
   "nbconvert_exporter": "python",
   "pygments_lexer": "ipython3",
   "version": "3.12.2"
  }
 },
 "nbformat": 4,
 "nbformat_minor": 5
}
